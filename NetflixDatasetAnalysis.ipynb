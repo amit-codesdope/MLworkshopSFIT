{
  "nbformat": 4,
  "nbformat_minor": 0,
  "metadata": {
    "colab": {
      "name": "NetflixDatasetAnalysis.ipynb",
      "provenance": [],
      "collapsed_sections": [
        "QXLUgD8E_HJQ",
        "MF6HbcVSEuJY",
        "L4MU6OgJSXE8",
        "qfXyp49vDMJq",
        "9APkhzSEoQQ7",
        "PzykdY32SMSI",
        "IwB03Qv1yT1t"
      ]
    },
    "kernelspec": {
      "display_name": "Python 3",
      "language": "python",
      "name": "python3"
    },
    "language_info": {
      "codemirror_mode": {
        "name": "ipython",
        "version": 3
      },
      "file_extension": ".py",
      "mimetype": "text/x-python",
      "name": "python",
      "nbconvert_exporter": "python",
      "pygments_lexer": "ipython3",
      "version": "3.8.5"
    }
  },
  "cells": [
    {
      "cell_type": "code",
      "metadata": {
        "id": "9OODzacTNTl5"
      },
      "source": [
        "# Jovian Commit Essentials\n",
        "# Please retain and execute this cell without modifying the contents for `jovian.commit` to work\n",
        "!pip install jovian --upgrade -q\n",
        "import jovian\n",
        "jovian.utils.colab.set_colab_file_id('1xN44zmx6sGXc1bmscRLRTQxa2ZHC2K2J')"
      ],
      "execution_count": 46,
      "outputs": []
    },
    {
      "cell_type": "markdown",
      "metadata": {
        "id": "3elx_tBP_HJB"
      },
      "source": [
        "### Data Analysis with Python: Zero to Pandas - Course Project Guidelines\n",
        "#### (remove this cell before submission)\n",
        "\n",
        "Make submissions here:  https://jovian.ml/learn/data-analysis-with-python-zero-to-pandas/assignment/course-project\n",
        "\n",
        "This is the starter notebook for the course project for [Data Analysis with Python: Zero to Pandas](https://jovian.ml/learn/data-analysis-with-python-zero-to-pandas). For the course project, you will pick a real-world dataset of your choice and apply the concepts learned in this course to perform exploratory data analysis. Use this starter notebook as an outline for your project (you can also start with an empty new notebook). Focus on documentation and presentation - this Jupyter notebook will also serve as a project report, so make sure to include detailed explanations whererver possible using Markdown cells.\n",
        "\n",
        "#### Step 1: Select a real-world dataset \n",
        "\n",
        "- Find and download an interesting real-world dataset (see the Recommended Datasets section below for ideas). \n",
        "\n",
        "- The dataset should contain tabular data (rowsn & columns), preferably in CSV/JSON/XLS or other formats that can be read using Pandas. If it's not in a compatible format, you may have to write some code to convert it to a desired format.\n",
        "- The dataset should contain at least 3 columns and 150 rows of data. You can also combine data from multiple sources to create a large enough dataset.\n",
        "\n",
        "\n",
        "#### Step 2: Perform data preparation & cleaning\n",
        "\n",
        "- Load the dataset into a data frame using Pandas\n",
        "- Explore the number of rows & columns, ranges of values etc.\n",
        "- Handle missing, incorrect and invalid data\n",
        "- Perform any additional steps (parsing dates, creating additional columns, merging multiple dataset etc.)\n",
        "\n",
        "\n",
        "#### Step 3: Perform exploratory Analysis & Visualization\n",
        "\n",
        "- Compute the mean, sum, range and other interesting statistics for numeric columns\n",
        "- Explore distributions of numeric columns using histograms etc.\n",
        "- Explore relationship between columns using scatter plots, bar charts etc.\n",
        "- Make a note of interesting insights from the exploratory analysis\n",
        "\n",
        "#### Step 4: Ask & answer questions about the data\n",
        "\n",
        "- Ask at least 5 interesting questions about your dataset\n",
        "- Answer the questions either by computing the results using Numpy/Pandas or by plotting graphs using Matplotlib/Seaborn\n",
        "- Create new columns, merge multiple dataset and perform grouping/aggregation wherever necessary\n",
        "- Wherever you're using a library function from Pandas/Numpy/Matplotlib etc. explain briefly what it does\n",
        "\n",
        "\n",
        "#### Step 5: Summarize your inferences & write a conclusion\n",
        "\n",
        "- Write a summary of what you've learned from the analysis\n",
        "- Include interesting insights and graphs from previous sections\n",
        "- Share ideas for future work on the same topic using other relevant datasets\n",
        "- Share links to resources you found useful during your analysis\n",
        "\n",
        "\n",
        "#### Step 6: Make a submission & share your work\n",
        "\n",
        "- Upload your notebook to your Jovian.ml profile using `jovian.commit`.\n",
        "- **Make a submission here**: https://jovian.ml/learn/data-analysis-with-python-zero-to-pandas/assignment/course-project\n",
        "- Share your work on the forum: https://jovian.ml/forum/t/course-project-on-exploratory-data-analysis-discuss-and-share-your-work/11684\n",
        "\n",
        "- Browse through projects shared by other participants and give feedback\n",
        "\n",
        "\n",
        "#### (Optional) Step 7: Write a blog post\n",
        "\n",
        "- A blog post is a great way to present and showcase your work.  \n",
        "- Sign up on [Medium.com](https://medium.com) to write a blog post for your project.\n",
        "- Copy over the explanations from your Jupyter notebook into your blog post, and [embed code cells & outputs](https://medium.com/jovianml/share-and-embed-jupyter-notebooks-online-with-jovian-ml-df709a03064e)\n",
        "- Check out the Jovian.ml Medium publication for inspiration: https://medium.com/jovianml\n",
        "\n",
        "\n",
        "\n",
        "### Recommended Datasets\n",
        "\n",
        "\n",
        "Use the following resources for finding interesting datasets:\n",
        "\n",
        "- [Recommended datasets for the course project](https://jovian.ml/forum/t/recommended-datasets-for-course-project/11711)\n",
        "- [Kaggle datasets](https://www.kaggle.com/datasets)\n",
        "- [UCI Machine Learning Repository](http://archive.ics.uci.edu/ml/index.php)\n",
        "- [awesome-public-datasets](https://github.com/awesomedata/awesome-public-datasets)\n",
        "- [Google Dataset Search](https://datasetsearch.research.google.com)\n",
        "- [Your personal data from online services](https://www.popsci.com/download-digital-personal-information/)\n",
        "\n",
        "\n",
        "\n",
        "### Example Projects\n",
        "\n",
        "Refer to these projects for inspiration:\n",
        "\n",
        "* [Analyzing your browser history using Pandas & Seaborn](https://medium.com/free-code-camp/understanding-my-browsing-pattern-using-pandas-and-seaborn-162b97e33e51) by Kartik Godawat\n",
        "\n",
        "* [WhatsApp Chat Data Analysis](https://jovian.ml/PrajwalPrashanth/whatsapp-chat-data-analysis) by Prajwal Prashanth\n",
        "\n",
        "* [Analyzing Covid-19 data using Pandas](https://jovian.ml/aakashns/python-pandas-data-analysis) \n",
        "\n",
        "* [Understanding the Gender Divide in Data Science Roles](https://medium.com/datadriveninvestor/exploratory-data-analysis-eda-understanding-the-gender-divide-in-data-science-roles-9faa5da44f5b) by Aakanksha N S\n",
        "\n",
        "* [2019 State of Javscript Survey Results](https://2019.stateofjs.com/demographics/)\n",
        "\n",
        "* [2020 Stack Overflow Developer Survey Results](https://insights.stackoverflow.com/survey/2020)\n",
        "\n",
        "\n",
        "### Evaluation Criteria\n",
        "\n",
        "Your submission will be evaluated using the following criteria:\n",
        "\n",
        "* Dataset must contain at least 3 columns and 150 rows of data\n",
        "* You must ask and answer at least 5 questions about the dataset\n",
        "* Your submission must include at least 5 visualizations (graphs)\n",
        "* Your submission must include explanations using markdown cells, apart from the code.\n",
        "* Your work must not be plagiarized i.e. copy-pasted for somewhere else.\n",
        "\n",
        "\n",
        "**NOTE**: Remove this cell containing the instructions before making your submission. You can do using the \"Edit > Delete Cells\" menu option."
      ]
    },
    {
      "cell_type": "markdown",
      "metadata": {
        "id": "ZrHG2Dci_HJC"
      },
      "source": [
        "# Project Title\n",
        "\n",
        "Write some introduction about your project here: describe the dataset, where you got it from, what you're trying to do with it, and which tools & techniques you're using. You can also mention about [the course](http://zerotopandas.com), and what you've learned from it.\n",
        "\n",
        "As a first step, let's upload our Jupyter notebook to [Jovian.ml](https://jovian.ml)."
      ]
    },
    {
      "cell_type": "code",
      "metadata": {
        "id": "4pZSSkGM_HJD"
      },
      "source": [
        "project_name = \"Netflix Dataset Analysis\" "
      ],
      "execution_count": 47,
      "outputs": []
    },
    {
      "cell_type": "code",
      "metadata": {
        "id": "gmEsqQPO_HJG"
      },
      "source": [
        "!pip install jovian --upgrade -q"
      ],
      "execution_count": 48,
      "outputs": []
    },
    {
      "cell_type": "code",
      "metadata": {
        "id": "81JpWPFR_HJJ"
      },
      "source": [
        "import jovian"
      ],
      "execution_count": 49,
      "outputs": []
    },
    {
      "cell_type": "code",
      "metadata": {
        "id": "7jBrkf9J_HJM",
        "outputId": "5eb79bb2-7247-48ea-e11d-cf1f5018e1ae",
        "colab": {
          "base_uri": "https://localhost:8080/",
          "height": 86
        }
      },
      "source": [
        "jovian.commit(project=project_name)"
      ],
      "execution_count": 50,
      "outputs": [
        {
          "output_type": "stream",
          "text": [
            "[jovian] Detected Colab notebook...\u001b[0m\n",
            "[jovian] Uploading colab notebook to Jovian...\u001b[0m\n",
            "[jovian] Committed successfully! https://jovian.ml/csendranshi/netflix-dataset-analysis\u001b[0m\n"
          ],
          "name": "stdout"
        },
        {
          "output_type": "execute_result",
          "data": {
            "application/vnd.google.colaboratory.intrinsic+json": {
              "type": "string"
            },
            "text/plain": [
              "'https://jovian.ml/csendranshi/netflix-dataset-analysis'"
            ]
          },
          "metadata": {
            "tags": []
          },
          "execution_count": 50
        }
      ]
    },
    {
      "cell_type": "markdown",
      "metadata": {
        "id": "QXLUgD8E_HJQ"
      },
      "source": [
        "## Data Preparation and Cleaning\n",
        "\n",
        "TODO"
      ]
    },
    {
      "cell_type": "code",
      "metadata": {
        "id": "E9vBmFXG_HJR"
      },
      "source": [
        "import pandas as pd"
      ],
      "execution_count": 51,
      "outputs": []
    },
    {
      "cell_type": "code",
      "metadata": {
        "id": "2-xSCZ_g_HJU"
      },
      "source": [
        "netflix_raw_df = pd.read_csv('netflix_titles.csv')"
      ],
      "execution_count": 52,
      "outputs": []
    },
    {
      "cell_type": "code",
      "metadata": {
        "id": "q6rYGLba_HJY",
        "outputId": "ecf98e7f-22ea-4f3f-da88-3060dff6387b",
        "colab": {
          "base_uri": "https://localhost:8080/",
          "height": 1000
        }
      },
      "source": [
        "netflix_raw_df"
      ],
      "execution_count": 53,
      "outputs": [
        {
          "output_type": "execute_result",
          "data": {
            "text/html": [
              "<div>\n",
              "<style scoped>\n",
              "    .dataframe tbody tr th:only-of-type {\n",
              "        vertical-align: middle;\n",
              "    }\n",
              "\n",
              "    .dataframe tbody tr th {\n",
              "        vertical-align: top;\n",
              "    }\n",
              "\n",
              "    .dataframe thead th {\n",
              "        text-align: right;\n",
              "    }\n",
              "</style>\n",
              "<table border=\"1\" class=\"dataframe\">\n",
              "  <thead>\n",
              "    <tr style=\"text-align: right;\">\n",
              "      <th></th>\n",
              "      <th>show_id</th>\n",
              "      <th>type</th>\n",
              "      <th>title</th>\n",
              "      <th>director</th>\n",
              "      <th>cast</th>\n",
              "      <th>country</th>\n",
              "      <th>date_added</th>\n",
              "      <th>release_year</th>\n",
              "      <th>rating</th>\n",
              "      <th>duration</th>\n",
              "      <th>listed_in</th>\n",
              "      <th>description</th>\n",
              "    </tr>\n",
              "  </thead>\n",
              "  <tbody>\n",
              "    <tr>\n",
              "      <th>0</th>\n",
              "      <td>81145628</td>\n",
              "      <td>Movie</td>\n",
              "      <td>Norm of the North: King Sized Adventure</td>\n",
              "      <td>Richard Finn, Tim Maltby</td>\n",
              "      <td>Alan Marriott, Andrew Toth, Brian Dobson, Cole...</td>\n",
              "      <td>United States, India, South Korea, China</td>\n",
              "      <td>September 9, 2019</td>\n",
              "      <td>2019</td>\n",
              "      <td>TV-PG</td>\n",
              "      <td>90 min</td>\n",
              "      <td>Children &amp; Family Movies, Comedies</td>\n",
              "      <td>Before planning an awesome wedding for his gra...</td>\n",
              "    </tr>\n",
              "    <tr>\n",
              "      <th>1</th>\n",
              "      <td>80117401</td>\n",
              "      <td>Movie</td>\n",
              "      <td>Jandino: Whatever it Takes</td>\n",
              "      <td>NaN</td>\n",
              "      <td>Jandino Asporaat</td>\n",
              "      <td>United Kingdom</td>\n",
              "      <td>September 9, 2016</td>\n",
              "      <td>2016</td>\n",
              "      <td>TV-MA</td>\n",
              "      <td>94 min</td>\n",
              "      <td>Stand-Up Comedy</td>\n",
              "      <td>Jandino Asporaat riffs on the challenges of ra...</td>\n",
              "    </tr>\n",
              "    <tr>\n",
              "      <th>2</th>\n",
              "      <td>70234439</td>\n",
              "      <td>TV Show</td>\n",
              "      <td>Transformers Prime</td>\n",
              "      <td>NaN</td>\n",
              "      <td>Peter Cullen, Sumalee Montano, Frank Welker, J...</td>\n",
              "      <td>United States</td>\n",
              "      <td>September 8, 2018</td>\n",
              "      <td>2013</td>\n",
              "      <td>TV-Y7-FV</td>\n",
              "      <td>1 Season</td>\n",
              "      <td>Kids' TV</td>\n",
              "      <td>With the help of three human allies, the Autob...</td>\n",
              "    </tr>\n",
              "    <tr>\n",
              "      <th>3</th>\n",
              "      <td>80058654</td>\n",
              "      <td>TV Show</td>\n",
              "      <td>Transformers: Robots in Disguise</td>\n",
              "      <td>NaN</td>\n",
              "      <td>Will Friedle, Darren Criss, Constance Zimmer, ...</td>\n",
              "      <td>United States</td>\n",
              "      <td>September 8, 2018</td>\n",
              "      <td>2016</td>\n",
              "      <td>TV-Y7</td>\n",
              "      <td>1 Season</td>\n",
              "      <td>Kids' TV</td>\n",
              "      <td>When a prison ship crash unleashes hundreds of...</td>\n",
              "    </tr>\n",
              "    <tr>\n",
              "      <th>4</th>\n",
              "      <td>80125979</td>\n",
              "      <td>Movie</td>\n",
              "      <td>#realityhigh</td>\n",
              "      <td>Fernando Lebrija</td>\n",
              "      <td>Nesta Cooper, Kate Walsh, John Michael Higgins...</td>\n",
              "      <td>United States</td>\n",
              "      <td>September 8, 2017</td>\n",
              "      <td>2017</td>\n",
              "      <td>TV-14</td>\n",
              "      <td>99 min</td>\n",
              "      <td>Comedies</td>\n",
              "      <td>When nerdy high schooler Dani finally attracts...</td>\n",
              "    </tr>\n",
              "    <tr>\n",
              "      <th>...</th>\n",
              "      <td>...</td>\n",
              "      <td>...</td>\n",
              "      <td>...</td>\n",
              "      <td>...</td>\n",
              "      <td>...</td>\n",
              "      <td>...</td>\n",
              "      <td>...</td>\n",
              "      <td>...</td>\n",
              "      <td>...</td>\n",
              "      <td>...</td>\n",
              "      <td>...</td>\n",
              "      <td>...</td>\n",
              "    </tr>\n",
              "    <tr>\n",
              "      <th>6229</th>\n",
              "      <td>80000063</td>\n",
              "      <td>TV Show</td>\n",
              "      <td>Red vs. Blue</td>\n",
              "      <td>NaN</td>\n",
              "      <td>Burnie Burns, Jason Saldaña, Gustavo Sorola, G...</td>\n",
              "      <td>United States</td>\n",
              "      <td>NaN</td>\n",
              "      <td>2015</td>\n",
              "      <td>NR</td>\n",
              "      <td>13 Seasons</td>\n",
              "      <td>TV Action &amp; Adventure, TV Comedies, TV Sci-Fi ...</td>\n",
              "      <td>This parody of first-person shooter games, mil...</td>\n",
              "    </tr>\n",
              "    <tr>\n",
              "      <th>6230</th>\n",
              "      <td>70286564</td>\n",
              "      <td>TV Show</td>\n",
              "      <td>Maron</td>\n",
              "      <td>NaN</td>\n",
              "      <td>Marc Maron, Judd Hirsch, Josh Brener, Nora Zeh...</td>\n",
              "      <td>United States</td>\n",
              "      <td>NaN</td>\n",
              "      <td>2016</td>\n",
              "      <td>TV-MA</td>\n",
              "      <td>4 Seasons</td>\n",
              "      <td>TV Comedies</td>\n",
              "      <td>Marc Maron stars as Marc Maron, who interviews...</td>\n",
              "    </tr>\n",
              "    <tr>\n",
              "      <th>6231</th>\n",
              "      <td>80116008</td>\n",
              "      <td>Movie</td>\n",
              "      <td>Little Baby Bum: Nursery Rhyme Friends</td>\n",
              "      <td>NaN</td>\n",
              "      <td>NaN</td>\n",
              "      <td>NaN</td>\n",
              "      <td>NaN</td>\n",
              "      <td>2016</td>\n",
              "      <td>NaN</td>\n",
              "      <td>60 min</td>\n",
              "      <td>Movies</td>\n",
              "      <td>Nursery rhymes and original music for children...</td>\n",
              "    </tr>\n",
              "    <tr>\n",
              "      <th>6232</th>\n",
              "      <td>70281022</td>\n",
              "      <td>TV Show</td>\n",
              "      <td>A Young Doctor's Notebook and Other Stories</td>\n",
              "      <td>NaN</td>\n",
              "      <td>Daniel Radcliffe, Jon Hamm, Adam Godley, Chris...</td>\n",
              "      <td>United Kingdom</td>\n",
              "      <td>NaN</td>\n",
              "      <td>2013</td>\n",
              "      <td>TV-MA</td>\n",
              "      <td>2 Seasons</td>\n",
              "      <td>British TV Shows, TV Comedies, TV Dramas</td>\n",
              "      <td>Set during the Russian Revolution, this comic ...</td>\n",
              "    </tr>\n",
              "    <tr>\n",
              "      <th>6233</th>\n",
              "      <td>70153404</td>\n",
              "      <td>TV Show</td>\n",
              "      <td>Friends</td>\n",
              "      <td>NaN</td>\n",
              "      <td>Jennifer Aniston, Courteney Cox, Lisa Kudrow, ...</td>\n",
              "      <td>United States</td>\n",
              "      <td>NaN</td>\n",
              "      <td>2003</td>\n",
              "      <td>TV-14</td>\n",
              "      <td>10 Seasons</td>\n",
              "      <td>Classic &amp; Cult TV, TV Comedies</td>\n",
              "      <td>This hit sitcom follows the merry misadventure...</td>\n",
              "    </tr>\n",
              "  </tbody>\n",
              "</table>\n",
              "<p>6234 rows × 12 columns</p>\n",
              "</div>"
            ],
            "text/plain": [
              "       show_id  ...                                        description\n",
              "0     81145628  ...  Before planning an awesome wedding for his gra...\n",
              "1     80117401  ...  Jandino Asporaat riffs on the challenges of ra...\n",
              "2     70234439  ...  With the help of three human allies, the Autob...\n",
              "3     80058654  ...  When a prison ship crash unleashes hundreds of...\n",
              "4     80125979  ...  When nerdy high schooler Dani finally attracts...\n",
              "...        ...  ...                                                ...\n",
              "6229  80000063  ...  This parody of first-person shooter games, mil...\n",
              "6230  70286564  ...  Marc Maron stars as Marc Maron, who interviews...\n",
              "6231  80116008  ...  Nursery rhymes and original music for children...\n",
              "6232  70281022  ...  Set during the Russian Revolution, this comic ...\n",
              "6233  70153404  ...  This hit sitcom follows the merry misadventure...\n",
              "\n",
              "[6234 rows x 12 columns]"
            ]
          },
          "metadata": {
            "tags": []
          },
          "execution_count": 53
        }
      ]
    },
    {
      "cell_type": "markdown",
      "metadata": {
        "id": "7LpFfxXISnrI"
      },
      "source": [
        "The dataset contains 6234 tv shows and movies with 12 columns to describe each of them. It provides insights about the country, cast, genre, etc about the listed shows."
      ]
    },
    {
      "cell_type": "code",
      "metadata": {
        "id": "sNe3Rd40_HJa",
        "outputId": "c5a2cc76-18f5-4ccc-f9e2-8baf98b6ba65",
        "colab": {
          "base_uri": "https://localhost:8080/",
          "height": 67
        }
      },
      "source": [
        "netflix_raw_df.columns"
      ],
      "execution_count": 11,
      "outputs": [
        {
          "output_type": "execute_result",
          "data": {
            "text/plain": [
              "Index(['show_id', 'type', 'title', 'director', 'cast', 'country', 'date_added',\n",
              "       'release_year', 'rating', 'duration', 'listed_in', 'description'],\n",
              "      dtype='object')"
            ]
          },
          "metadata": {
            "tags": []
          },
          "execution_count": 11
        }
      ]
    },
    {
      "cell_type": "code",
      "metadata": {
        "id": "rYDt85l7YWvm",
        "outputId": "2093b207-2cc3-4b4c-add7-c60a4250b2e2",
        "colab": {
          "base_uri": "https://localhost:8080/",
          "height": 34
        }
      },
      "source": [
        "selected_columns=[\n",
        "    'show_id',\n",
        "    'type',\n",
        "    'title',\n",
        "    'country',\n",
        "    'cast',\n",
        "    'rating',\n",
        "    'duration',\n",
        "    'date_added',\n",
        "    'release_year',\n",
        "    'listed_in'\n",
        "]\n",
        "len(selected_columns)\n"
      ],
      "execution_count": 14,
      "outputs": [
        {
          "output_type": "execute_result",
          "data": {
            "text/plain": [
              "10"
            ]
          },
          "metadata": {
            "tags": []
          },
          "execution_count": 14
        }
      ]
    },
    {
      "cell_type": "markdown",
      "metadata": {
        "id": "d_1MRpyjZRzN"
      },
      "source": [
        "Let's extract a copy of the data from these columns into a new data frame netflix_df, which we can continue to modify further without affecting the original data frame."
      ]
    },
    {
      "cell_type": "code",
      "metadata": {
        "id": "8ZUPJijaZW9M"
      },
      "source": [
        "netflix_df = netflix_raw_df[selected_columns].copy()"
      ],
      "execution_count": 15,
      "outputs": []
    },
    {
      "cell_type": "code",
      "metadata": {
        "id": "kpQ5pC68_HJg",
        "outputId": "37005e2f-210c-4e8f-ef2c-2eb49cd92d40",
        "colab": {
          "base_uri": "https://localhost:8080/",
          "height": 34
        }
      },
      "source": [
        "netflix_df.shape"
      ],
      "execution_count": 16,
      "outputs": [
        {
          "output_type": "execute_result",
          "data": {
            "text/plain": [
              "(6234, 10)"
            ]
          },
          "metadata": {
            "tags": []
          },
          "execution_count": 16
        }
      ]
    },
    {
      "cell_type": "code",
      "metadata": {
        "id": "Bw66NhPH_HJd",
        "outputId": "161a98e4-e1d4-49d8-83fe-f355a7d8c3f9",
        "colab": {
          "base_uri": "https://localhost:8080/",
          "height": 302
        }
      },
      "source": [
        "netflix_df.info()"
      ],
      "execution_count": 17,
      "outputs": [
        {
          "output_type": "stream",
          "text": [
            "<class 'pandas.core.frame.DataFrame'>\n",
            "RangeIndex: 6234 entries, 0 to 6233\n",
            "Data columns (total 10 columns):\n",
            " #   Column        Non-Null Count  Dtype \n",
            "---  ------        --------------  ----- \n",
            " 0   show_id       6234 non-null   int64 \n",
            " 1   type          6234 non-null   object\n",
            " 2   title         6234 non-null   object\n",
            " 3   country       5758 non-null   object\n",
            " 4   cast          5664 non-null   object\n",
            " 5   rating        6224 non-null   object\n",
            " 6   duration      6234 non-null   object\n",
            " 7   date_added    6223 non-null   object\n",
            " 8   release_year  6234 non-null   int64 \n",
            " 9   listed_in     6234 non-null   object\n",
            "dtypes: int64(2), object(8)\n",
            "memory usage: 487.2+ KB\n"
          ],
          "name": "stdout"
        }
      ]
    },
    {
      "cell_type": "markdown",
      "metadata": {
        "id": "zxVRWLO_bXpY"
      },
      "source": [
        "Most columns have the data type as `object`, either because they contain different types of values or empty values which are represented as `NaN`. Some of the columns contain empty values as the Non-Null count for those columns is lower than the total countof rows (6234). We'll need to deal with empty values and manually adjust the data type for each column on a case-by-case basis.\n",
        "\n",
        "\n"
      ]
    },
    {
      "cell_type": "code",
      "metadata": {
        "id": "_9x3mgMS-rQX"
      },
      "source": [
        "netflix_df_country=netflix_df.copy()\n",
        "netflix_df_listed_in=netflix_df.copy()"
      ],
      "execution_count": 18,
      "outputs": []
    },
    {
      "cell_type": "markdown",
      "metadata": {
        "id": "wvrU6u8--p9V"
      },
      "source": [
        "Only 2 columns are detected as Numeric data types (`show_id` and `release_year`), even though there are a few more columns which mostly have numeric data."
      ]
    },
    {
      "cell_type": "code",
      "metadata": {
        "id": "H4bC7ng0dbZ5",
        "outputId": "8f316f28-c694-4fc4-b23e-c47e8abea46e",
        "colab": {
          "base_uri": "https://localhost:8080/",
          "height": 284
        }
      },
      "source": [
        "netflix_df.describe()"
      ],
      "execution_count": 19,
      "outputs": [
        {
          "output_type": "execute_result",
          "data": {
            "text/html": [
              "<div>\n",
              "<style scoped>\n",
              "    .dataframe tbody tr th:only-of-type {\n",
              "        vertical-align: middle;\n",
              "    }\n",
              "\n",
              "    .dataframe tbody tr th {\n",
              "        vertical-align: top;\n",
              "    }\n",
              "\n",
              "    .dataframe thead th {\n",
              "        text-align: right;\n",
              "    }\n",
              "</style>\n",
              "<table border=\"1\" class=\"dataframe\">\n",
              "  <thead>\n",
              "    <tr style=\"text-align: right;\">\n",
              "      <th></th>\n",
              "      <th>show_id</th>\n",
              "      <th>release_year</th>\n",
              "    </tr>\n",
              "  </thead>\n",
              "  <tbody>\n",
              "    <tr>\n",
              "      <th>count</th>\n",
              "      <td>6.234000e+03</td>\n",
              "      <td>6234.00000</td>\n",
              "    </tr>\n",
              "    <tr>\n",
              "      <th>mean</th>\n",
              "      <td>7.670368e+07</td>\n",
              "      <td>2013.35932</td>\n",
              "    </tr>\n",
              "    <tr>\n",
              "      <th>std</th>\n",
              "      <td>1.094296e+07</td>\n",
              "      <td>8.81162</td>\n",
              "    </tr>\n",
              "    <tr>\n",
              "      <th>min</th>\n",
              "      <td>2.477470e+05</td>\n",
              "      <td>1925.00000</td>\n",
              "    </tr>\n",
              "    <tr>\n",
              "      <th>25%</th>\n",
              "      <td>8.003580e+07</td>\n",
              "      <td>2013.00000</td>\n",
              "    </tr>\n",
              "    <tr>\n",
              "      <th>50%</th>\n",
              "      <td>8.016337e+07</td>\n",
              "      <td>2016.00000</td>\n",
              "    </tr>\n",
              "    <tr>\n",
              "      <th>75%</th>\n",
              "      <td>8.024489e+07</td>\n",
              "      <td>2018.00000</td>\n",
              "    </tr>\n",
              "    <tr>\n",
              "      <th>max</th>\n",
              "      <td>8.123573e+07</td>\n",
              "      <td>2020.00000</td>\n",
              "    </tr>\n",
              "  </tbody>\n",
              "</table>\n",
              "</div>"
            ],
            "text/plain": [
              "            show_id  release_year\n",
              "count  6.234000e+03    6234.00000\n",
              "mean   7.670368e+07    2013.35932\n",
              "std    1.094296e+07       8.81162\n",
              "min    2.477470e+05    1925.00000\n",
              "25%    8.003580e+07    2013.00000\n",
              "50%    8.016337e+07    2016.00000\n",
              "75%    8.024489e+07    2018.00000\n",
              "max    8.123573e+07    2020.00000"
            ]
          },
          "metadata": {
            "tags": []
          },
          "execution_count": 19
        }
      ]
    },
    {
      "cell_type": "markdown",
      "metadata": {
        "id": "WznOU1pBnN2-"
      },
      "source": [
        "As seen above, the netflix dataset contains record of TV shows and movies from year 1925 till present, 2020. Since the column `show_id` is isn't a quantity metric, we cannot infer much information for it's metrics. \n",
        "\n",
        "\n",
        "\n",
        "Now, let's observe the distribution of the genres/ cateogories of the movies and TV shows"
      ]
    },
    {
      "cell_type": "code",
      "metadata": {
        "id": "zTikdcJspPpV",
        "outputId": "c33cc67a-f9cc-414e-c5c3-5dd6c16f4a26",
        "colab": {
          "base_uri": "https://localhost:8080/",
          "height": 218
        }
      },
      "source": [
        "netflix_df['listed_in'].value_counts()"
      ],
      "execution_count": 20,
      "outputs": [
        {
          "output_type": "execute_result",
          "data": {
            "text/plain": [
              "Documentaries                                                     299\n",
              "Stand-Up Comedy                                                   273\n",
              "Dramas, International Movies                                      248\n",
              "Dramas, Independent Movies, International Movies                  186\n",
              "Comedies, Dramas, International Movies                            174\n",
              "                                                                 ... \n",
              "Cult Movies, Dramas, Independent Movies                             1\n",
              "Dramas, Horror Movies, Sci-Fi & Fantasy                             1\n",
              "Anime Features, Children & Family Movies, International Movies      1\n",
              "Comedies, Music & Musicals, Romantic Movies                         1\n",
              "Documentaries, Faith & Spirituality, Music & Musicals               1\n",
              "Name: listed_in, Length: 461, dtype: int64"
            ]
          },
          "metadata": {
            "tags": []
          },
          "execution_count": 20
        }
      ]
    },
    {
      "cell_type": "markdown",
      "metadata": {
        "id": "OhYYN_mgpvzw"
      },
      "source": [
        "The dataset contains maximum number of Documentaries followed by Stand-Up comedy and Drama. "
      ]
    },
    {
      "cell_type": "markdown",
      "metadata": {
        "id": "sC4v3__V5Yuk"
      },
      "source": [
        "To clean the dataset further, we'll split the movies and TV shows `listed_in` with more than one genre into separate rows with one genre each."
      ]
    },
    {
      "cell_type": "code",
      "metadata": {
        "id": "_KqBa5RD3ERP",
        "outputId": "9ed05f19-93cd-413b-c28f-6c7441a382af",
        "colab": {
          "base_uri": "https://localhost:8080/",
          "height": 909
        }
      },
      "source": [
        "# convert to list\n",
        "netflix_df_listed_in['listed_in'] = netflix_df_listed_in['listed_in'].str.split(',')\n",
        "\n",
        "# convert list of pd.Series then stack it\n",
        "netflix_df_listed_in = (netflix_df_listed_in\n",
        " .set_index(['title','show_id','country','type','rating','duration','date_added','release_year'])['listed_in']\n",
        " .apply(pd.Series)\n",
        " .stack()\n",
        " .reset_index()\n",
        " .drop('level_8', axis=1)\n",
        " .rename(columns={0:'listed_in'}))\n",
        "netflix_df_listed_in"
      ],
      "execution_count": 21,
      "outputs": [
        {
          "output_type": "execute_result",
          "data": {
            "text/html": [
              "<div>\n",
              "<style scoped>\n",
              "    .dataframe tbody tr th:only-of-type {\n",
              "        vertical-align: middle;\n",
              "    }\n",
              "\n",
              "    .dataframe tbody tr th {\n",
              "        vertical-align: top;\n",
              "    }\n",
              "\n",
              "    .dataframe thead th {\n",
              "        text-align: right;\n",
              "    }\n",
              "</style>\n",
              "<table border=\"1\" class=\"dataframe\">\n",
              "  <thead>\n",
              "    <tr style=\"text-align: right;\">\n",
              "      <th></th>\n",
              "      <th>title</th>\n",
              "      <th>show_id</th>\n",
              "      <th>country</th>\n",
              "      <th>type</th>\n",
              "      <th>rating</th>\n",
              "      <th>duration</th>\n",
              "      <th>date_added</th>\n",
              "      <th>release_year</th>\n",
              "      <th>listed_in</th>\n",
              "    </tr>\n",
              "  </thead>\n",
              "  <tbody>\n",
              "    <tr>\n",
              "      <th>0</th>\n",
              "      <td>Norm of the North: King Sized Adventure</td>\n",
              "      <td>81145628</td>\n",
              "      <td>United States, India, South Korea, China</td>\n",
              "      <td>Movie</td>\n",
              "      <td>TV-PG</td>\n",
              "      <td>90 min</td>\n",
              "      <td>September 9, 2019</td>\n",
              "      <td>2019</td>\n",
              "      <td>Children &amp; Family Movies</td>\n",
              "    </tr>\n",
              "    <tr>\n",
              "      <th>1</th>\n",
              "      <td>Norm of the North: King Sized Adventure</td>\n",
              "      <td>81145628</td>\n",
              "      <td>United States, India, South Korea, China</td>\n",
              "      <td>Movie</td>\n",
              "      <td>TV-PG</td>\n",
              "      <td>90 min</td>\n",
              "      <td>September 9, 2019</td>\n",
              "      <td>2019</td>\n",
              "      <td>Comedies</td>\n",
              "    </tr>\n",
              "    <tr>\n",
              "      <th>2</th>\n",
              "      <td>Jandino: Whatever it Takes</td>\n",
              "      <td>80117401</td>\n",
              "      <td>United Kingdom</td>\n",
              "      <td>Movie</td>\n",
              "      <td>TV-MA</td>\n",
              "      <td>94 min</td>\n",
              "      <td>September 9, 2016</td>\n",
              "      <td>2016</td>\n",
              "      <td>Stand-Up Comedy</td>\n",
              "    </tr>\n",
              "    <tr>\n",
              "      <th>3</th>\n",
              "      <td>Transformers Prime</td>\n",
              "      <td>70234439</td>\n",
              "      <td>United States</td>\n",
              "      <td>TV Show</td>\n",
              "      <td>TV-Y7-FV</td>\n",
              "      <td>1 Season</td>\n",
              "      <td>September 8, 2018</td>\n",
              "      <td>2013</td>\n",
              "      <td>Kids' TV</td>\n",
              "    </tr>\n",
              "    <tr>\n",
              "      <th>4</th>\n",
              "      <td>Transformers: Robots in Disguise</td>\n",
              "      <td>80058654</td>\n",
              "      <td>United States</td>\n",
              "      <td>TV Show</td>\n",
              "      <td>TV-Y7</td>\n",
              "      <td>1 Season</td>\n",
              "      <td>September 8, 2018</td>\n",
              "      <td>2016</td>\n",
              "      <td>Kids' TV</td>\n",
              "    </tr>\n",
              "    <tr>\n",
              "      <th>...</th>\n",
              "      <td>...</td>\n",
              "      <td>...</td>\n",
              "      <td>...</td>\n",
              "      <td>...</td>\n",
              "      <td>...</td>\n",
              "      <td>...</td>\n",
              "      <td>...</td>\n",
              "      <td>...</td>\n",
              "      <td>...</td>\n",
              "    </tr>\n",
              "    <tr>\n",
              "      <th>13665</th>\n",
              "      <td>A Young Doctor's Notebook and Other Stories</td>\n",
              "      <td>70281022</td>\n",
              "      <td>United Kingdom</td>\n",
              "      <td>TV Show</td>\n",
              "      <td>TV-MA</td>\n",
              "      <td>2 Seasons</td>\n",
              "      <td>NaN</td>\n",
              "      <td>2013</td>\n",
              "      <td>British TV Shows</td>\n",
              "    </tr>\n",
              "    <tr>\n",
              "      <th>13666</th>\n",
              "      <td>A Young Doctor's Notebook and Other Stories</td>\n",
              "      <td>70281022</td>\n",
              "      <td>United Kingdom</td>\n",
              "      <td>TV Show</td>\n",
              "      <td>TV-MA</td>\n",
              "      <td>2 Seasons</td>\n",
              "      <td>NaN</td>\n",
              "      <td>2013</td>\n",
              "      <td>TV Comedies</td>\n",
              "    </tr>\n",
              "    <tr>\n",
              "      <th>13667</th>\n",
              "      <td>A Young Doctor's Notebook and Other Stories</td>\n",
              "      <td>70281022</td>\n",
              "      <td>United Kingdom</td>\n",
              "      <td>TV Show</td>\n",
              "      <td>TV-MA</td>\n",
              "      <td>2 Seasons</td>\n",
              "      <td>NaN</td>\n",
              "      <td>2013</td>\n",
              "      <td>TV Dramas</td>\n",
              "    </tr>\n",
              "    <tr>\n",
              "      <th>13668</th>\n",
              "      <td>Friends</td>\n",
              "      <td>70153404</td>\n",
              "      <td>United States</td>\n",
              "      <td>TV Show</td>\n",
              "      <td>TV-14</td>\n",
              "      <td>10 Seasons</td>\n",
              "      <td>NaN</td>\n",
              "      <td>2003</td>\n",
              "      <td>Classic &amp; Cult TV</td>\n",
              "    </tr>\n",
              "    <tr>\n",
              "      <th>13669</th>\n",
              "      <td>Friends</td>\n",
              "      <td>70153404</td>\n",
              "      <td>United States</td>\n",
              "      <td>TV Show</td>\n",
              "      <td>TV-14</td>\n",
              "      <td>10 Seasons</td>\n",
              "      <td>NaN</td>\n",
              "      <td>2003</td>\n",
              "      <td>TV Comedies</td>\n",
              "    </tr>\n",
              "  </tbody>\n",
              "</table>\n",
              "<p>13670 rows × 9 columns</p>\n",
              "</div>"
            ],
            "text/plain": [
              "                                             title  ...                 listed_in\n",
              "0          Norm of the North: King Sized Adventure  ...  Children & Family Movies\n",
              "1          Norm of the North: King Sized Adventure  ...                  Comedies\n",
              "2                       Jandino: Whatever it Takes  ...           Stand-Up Comedy\n",
              "3                               Transformers Prime  ...                  Kids' TV\n",
              "4                 Transformers: Robots in Disguise  ...                  Kids' TV\n",
              "...                                            ...  ...                       ...\n",
              "13665  A Young Doctor's Notebook and Other Stories  ...          British TV Shows\n",
              "13666  A Young Doctor's Notebook and Other Stories  ...               TV Comedies\n",
              "13667  A Young Doctor's Notebook and Other Stories  ...                 TV Dramas\n",
              "13668                                      Friends  ...         Classic & Cult TV\n",
              "13669                                      Friends  ...               TV Comedies\n",
              "\n",
              "[13670 rows x 9 columns]"
            ]
          },
          "metadata": {
            "tags": []
          },
          "execution_count": 21
        }
      ]
    },
    {
      "cell_type": "markdown",
      "metadata": {
        "id": "Je5q-ROx8trS"
      },
      "source": [
        "To clean the dataset further, we'll split the movies and TV shows listed in more than one `country` into separate rows with one country each."
      ]
    },
    {
      "cell_type": "code",
      "metadata": {
        "id": "hXDF1dANxUw9",
        "outputId": "5daa7300-725c-4a8f-a3be-91c0e6a45c46",
        "colab": {
          "base_uri": "https://localhost:8080/",
          "height": 872
        }
      },
      "source": [
        "# convert to list\n",
        "netflix_df_country['country'] = netflix_df_country['country'].str.split(',')\n",
        "\n",
        "# convert list of pd.Series then stack it\n",
        "netflix_df_country = (netflix_df_country\n",
        " .set_index(['title','show_id','listed_in','type','rating','duration','date_added','release_year'])['country']\n",
        " .apply(pd.Series)\n",
        " .stack()\n",
        " .reset_index()\n",
        " .drop('level_8', axis=1)\n",
        " .rename(columns={0:'country'}))\n",
        "netflix_df_country"
      ],
      "execution_count": 18,
      "outputs": [
        {
          "output_type": "execute_result",
          "data": {
            "text/html": [
              "<div>\n",
              "<style scoped>\n",
              "    .dataframe tbody tr th:only-of-type {\n",
              "        vertical-align: middle;\n",
              "    }\n",
              "\n",
              "    .dataframe tbody tr th {\n",
              "        vertical-align: top;\n",
              "    }\n",
              "\n",
              "    .dataframe thead th {\n",
              "        text-align: right;\n",
              "    }\n",
              "</style>\n",
              "<table border=\"1\" class=\"dataframe\">\n",
              "  <thead>\n",
              "    <tr style=\"text-align: right;\">\n",
              "      <th></th>\n",
              "      <th>title</th>\n",
              "      <th>show_id</th>\n",
              "      <th>listed_in</th>\n",
              "      <th>type</th>\n",
              "      <th>rating</th>\n",
              "      <th>duration</th>\n",
              "      <th>date_added</th>\n",
              "      <th>release_year</th>\n",
              "      <th>country</th>\n",
              "    </tr>\n",
              "  </thead>\n",
              "  <tbody>\n",
              "    <tr>\n",
              "      <th>0</th>\n",
              "      <td>Norm of the North: King Sized Adventure</td>\n",
              "      <td>81145628</td>\n",
              "      <td>Children &amp; Family Movies, Comedies</td>\n",
              "      <td>Movie</td>\n",
              "      <td>TV-PG</td>\n",
              "      <td>90 min</td>\n",
              "      <td>September 9, 2019</td>\n",
              "      <td>2019</td>\n",
              "      <td>United States</td>\n",
              "    </tr>\n",
              "    <tr>\n",
              "      <th>1</th>\n",
              "      <td>Norm of the North: King Sized Adventure</td>\n",
              "      <td>81145628</td>\n",
              "      <td>Children &amp; Family Movies, Comedies</td>\n",
              "      <td>Movie</td>\n",
              "      <td>TV-PG</td>\n",
              "      <td>90 min</td>\n",
              "      <td>September 9, 2019</td>\n",
              "      <td>2019</td>\n",
              "      <td>India</td>\n",
              "    </tr>\n",
              "    <tr>\n",
              "      <th>2</th>\n",
              "      <td>Norm of the North: King Sized Adventure</td>\n",
              "      <td>81145628</td>\n",
              "      <td>Children &amp; Family Movies, Comedies</td>\n",
              "      <td>Movie</td>\n",
              "      <td>TV-PG</td>\n",
              "      <td>90 min</td>\n",
              "      <td>September 9, 2019</td>\n",
              "      <td>2019</td>\n",
              "      <td>South Korea</td>\n",
              "    </tr>\n",
              "    <tr>\n",
              "      <th>3</th>\n",
              "      <td>Norm of the North: King Sized Adventure</td>\n",
              "      <td>81145628</td>\n",
              "      <td>Children &amp; Family Movies, Comedies</td>\n",
              "      <td>Movie</td>\n",
              "      <td>TV-PG</td>\n",
              "      <td>90 min</td>\n",
              "      <td>September 9, 2019</td>\n",
              "      <td>2019</td>\n",
              "      <td>China</td>\n",
              "    </tr>\n",
              "    <tr>\n",
              "      <th>4</th>\n",
              "      <td>Jandino: Whatever it Takes</td>\n",
              "      <td>80117401</td>\n",
              "      <td>Stand-Up Comedy</td>\n",
              "      <td>Movie</td>\n",
              "      <td>TV-MA</td>\n",
              "      <td>94 min</td>\n",
              "      <td>September 9, 2016</td>\n",
              "      <td>2016</td>\n",
              "      <td>United Kingdom</td>\n",
              "    </tr>\n",
              "    <tr>\n",
              "      <th>...</th>\n",
              "      <td>...</td>\n",
              "      <td>...</td>\n",
              "      <td>...</td>\n",
              "      <td>...</td>\n",
              "      <td>...</td>\n",
              "      <td>...</td>\n",
              "      <td>...</td>\n",
              "      <td>...</td>\n",
              "      <td>...</td>\n",
              "    </tr>\n",
              "    <tr>\n",
              "      <th>7177</th>\n",
              "      <td>The Adventures of Figaro Pho</td>\n",
              "      <td>80005756</td>\n",
              "      <td>Kids' TV, TV Comedies</td>\n",
              "      <td>TV Show</td>\n",
              "      <td>TV-Y7</td>\n",
              "      <td>2 Seasons</td>\n",
              "      <td>NaN</td>\n",
              "      <td>2015</td>\n",
              "      <td>Australia</td>\n",
              "    </tr>\n",
              "    <tr>\n",
              "      <th>7178</th>\n",
              "      <td>Red vs. Blue</td>\n",
              "      <td>80000063</td>\n",
              "      <td>TV Action &amp; Adventure, TV Comedies, TV Sci-Fi ...</td>\n",
              "      <td>TV Show</td>\n",
              "      <td>NR</td>\n",
              "      <td>13 Seasons</td>\n",
              "      <td>NaN</td>\n",
              "      <td>2015</td>\n",
              "      <td>United States</td>\n",
              "    </tr>\n",
              "    <tr>\n",
              "      <th>7179</th>\n",
              "      <td>Maron</td>\n",
              "      <td>70286564</td>\n",
              "      <td>TV Comedies</td>\n",
              "      <td>TV Show</td>\n",
              "      <td>TV-MA</td>\n",
              "      <td>4 Seasons</td>\n",
              "      <td>NaN</td>\n",
              "      <td>2016</td>\n",
              "      <td>United States</td>\n",
              "    </tr>\n",
              "    <tr>\n",
              "      <th>7180</th>\n",
              "      <td>A Young Doctor's Notebook and Other Stories</td>\n",
              "      <td>70281022</td>\n",
              "      <td>British TV Shows, TV Comedies, TV Dramas</td>\n",
              "      <td>TV Show</td>\n",
              "      <td>TV-MA</td>\n",
              "      <td>2 Seasons</td>\n",
              "      <td>NaN</td>\n",
              "      <td>2013</td>\n",
              "      <td>United Kingdom</td>\n",
              "    </tr>\n",
              "    <tr>\n",
              "      <th>7181</th>\n",
              "      <td>Friends</td>\n",
              "      <td>70153404</td>\n",
              "      <td>Classic &amp; Cult TV, TV Comedies</td>\n",
              "      <td>TV Show</td>\n",
              "      <td>TV-14</td>\n",
              "      <td>10 Seasons</td>\n",
              "      <td>NaN</td>\n",
              "      <td>2003</td>\n",
              "      <td>United States</td>\n",
              "    </tr>\n",
              "  </tbody>\n",
              "</table>\n",
              "<p>7182 rows × 9 columns</p>\n",
              "</div>"
            ],
            "text/plain": [
              "                                            title  ...         country\n",
              "0         Norm of the North: King Sized Adventure  ...   United States\n",
              "1         Norm of the North: King Sized Adventure  ...           India\n",
              "2         Norm of the North: King Sized Adventure  ...     South Korea\n",
              "3         Norm of the North: King Sized Adventure  ...           China\n",
              "4                      Jandino: Whatever it Takes  ...  United Kingdom\n",
              "...                                           ...  ...             ...\n",
              "7177                 The Adventures of Figaro Pho  ...       Australia\n",
              "7178                                 Red vs. Blue  ...   United States\n",
              "7179                                        Maron  ...   United States\n",
              "7180  A Young Doctor's Notebook and Other Stories  ...  United Kingdom\n",
              "7181                                      Friends  ...   United States\n",
              "\n",
              "[7182 rows x 9 columns]"
            ]
          },
          "metadata": {
            "tags": []
          },
          "execution_count": 18
        }
      ]
    },
    {
      "cell_type": "code",
      "metadata": {
        "id": "4mAwXosZqrdU",
        "outputId": "d96e27e5-b75e-4682-908e-78970b2bd6d7",
        "colab": {
          "base_uri": "https://localhost:8080/",
          "height": 1000
        }
      },
      "source": [
        "netflix_df.sample(10)"
      ],
      "execution_count": 54,
      "outputs": [
        {
          "output_type": "execute_result",
          "data": {
            "text/html": [
              "<div>\n",
              "<style scoped>\n",
              "    .dataframe tbody tr th:only-of-type {\n",
              "        vertical-align: middle;\n",
              "    }\n",
              "\n",
              "    .dataframe tbody tr th {\n",
              "        vertical-align: top;\n",
              "    }\n",
              "\n",
              "    .dataframe thead th {\n",
              "        text-align: right;\n",
              "    }\n",
              "</style>\n",
              "<table border=\"1\" class=\"dataframe\">\n",
              "  <thead>\n",
              "    <tr style=\"text-align: right;\">\n",
              "      <th></th>\n",
              "      <th>show_id</th>\n",
              "      <th>type</th>\n",
              "      <th>title</th>\n",
              "      <th>country</th>\n",
              "      <th>cast</th>\n",
              "      <th>rating</th>\n",
              "      <th>duration</th>\n",
              "      <th>date_added</th>\n",
              "      <th>release_year</th>\n",
              "      <th>listed_in</th>\n",
              "    </tr>\n",
              "  </thead>\n",
              "  <tbody>\n",
              "    <tr>\n",
              "      <th>3628</th>\n",
              "      <td>880640</td>\n",
              "      <td>Movie</td>\n",
              "      <td>Pulp Fiction</td>\n",
              "      <td>United States</td>\n",
              "      <td>John Travolta, Samuel L. Jackson, Uma Thurman,...</td>\n",
              "      <td>R</td>\n",
              "      <td>154 min</td>\n",
              "      <td>January 1, 2019</td>\n",
              "      <td>1994</td>\n",
              "      <td>Classic Movies, Cult Movies, Dramas</td>\n",
              "    </tr>\n",
              "    <tr>\n",
              "      <th>5733</th>\n",
              "      <td>80998905</td>\n",
              "      <td>TV Show</td>\n",
              "      <td>Sick Note</td>\n",
              "      <td>United Kingdom</td>\n",
              "      <td>Rupert Grint, Nick Frost, Don Johnson, Lindsay...</td>\n",
              "      <td>TV-MA</td>\n",
              "      <td>2 Seasons</td>\n",
              "      <td>November 23, 2018</td>\n",
              "      <td>2018</td>\n",
              "      <td>British TV Shows, International TV Shows, TV C...</td>\n",
              "    </tr>\n",
              "    <tr>\n",
              "      <th>750</th>\n",
              "      <td>80201868</td>\n",
              "      <td>TV Show</td>\n",
              "      <td>The Curious Creations of Christine McConnell</td>\n",
              "      <td>NaN</td>\n",
              "      <td>Christine McConnell, Colleen Smith, Adam Mayfi...</td>\n",
              "      <td>TV-PG</td>\n",
              "      <td>1 Season</td>\n",
              "      <td>October 12, 2018</td>\n",
              "      <td>2018</td>\n",
              "      <td>TV Comedies, TV Mysteries</td>\n",
              "    </tr>\n",
              "    <tr>\n",
              "      <th>907</th>\n",
              "      <td>70229048</td>\n",
              "      <td>Movie</td>\n",
              "      <td>Thaandavam</td>\n",
              "      <td>India</td>\n",
              "      <td>Vikram, Jagapathi Babu, Anushka Shetty, Amy Ja...</td>\n",
              "      <td>TV-14</td>\n",
              "      <td>156 min</td>\n",
              "      <td>October 1, 2018</td>\n",
              "      <td>2012</td>\n",
              "      <td>Action &amp; Adventure, International Movies, Musi...</td>\n",
              "    </tr>\n",
              "    <tr>\n",
              "      <th>687</th>\n",
              "      <td>81154549</td>\n",
              "      <td>TV Show</td>\n",
              "      <td>Magical Andes</td>\n",
              "      <td>NaN</td>\n",
              "      <td>NaN</td>\n",
              "      <td>TV-G</td>\n",
              "      <td>1 Season</td>\n",
              "      <td>October 15, 2019</td>\n",
              "      <td>2019</td>\n",
              "      <td>Docuseries, International TV Shows, Science &amp; ...</td>\n",
              "    </tr>\n",
              "    <tr>\n",
              "      <th>1172</th>\n",
              "      <td>60004471</td>\n",
              "      <td>Movie</td>\n",
              "      <td>Evolution</td>\n",
              "      <td>United States</td>\n",
              "      <td>David Duchovny, Julianne Moore, Orlando Jones,...</td>\n",
              "      <td>PG-13</td>\n",
              "      <td>102 min</td>\n",
              "      <td>November 20, 2019</td>\n",
              "      <td>2001</td>\n",
              "      <td>Comedies, Sci-Fi &amp; Fantasy</td>\n",
              "    </tr>\n",
              "    <tr>\n",
              "      <th>3541</th>\n",
              "      <td>80117557</td>\n",
              "      <td>TV Show</td>\n",
              "      <td>Messiah</td>\n",
              "      <td>United States</td>\n",
              "      <td>Michelle Monaghan, Mehdi Dehbi, John Ortiz, To...</td>\n",
              "      <td>TV-MA</td>\n",
              "      <td>1 Season</td>\n",
              "      <td>January 1, 2020</td>\n",
              "      <td>2020</td>\n",
              "      <td>TV Dramas, TV Thrillers</td>\n",
              "    </tr>\n",
              "    <tr>\n",
              "      <th>1668</th>\n",
              "      <td>80134781</td>\n",
              "      <td>Movie</td>\n",
              "      <td>Hasan Minhaj: Homecoming King</td>\n",
              "      <td>NaN</td>\n",
              "      <td>Hasan Minhaj</td>\n",
              "      <td>TV-MA</td>\n",
              "      <td>73 min</td>\n",
              "      <td>May 23, 2017</td>\n",
              "      <td>2017</td>\n",
              "      <td>Stand-Up Comedy</td>\n",
              "    </tr>\n",
              "    <tr>\n",
              "      <th>3120</th>\n",
              "      <td>80992111</td>\n",
              "      <td>Movie</td>\n",
              "      <td>Soul Robbers</td>\n",
              "      <td>Mexico</td>\n",
              "      <td>Sofía Sisniega, Natasha Dupeyron, Ana Sofía Du...</td>\n",
              "      <td>TV-MA</td>\n",
              "      <td>88 min</td>\n",
              "      <td>July 1, 2018</td>\n",
              "      <td>2015</td>\n",
              "      <td>Horror Movies, International Movies</td>\n",
              "    </tr>\n",
              "    <tr>\n",
              "      <th>2757</th>\n",
              "      <td>60023237</td>\n",
              "      <td>Movie</td>\n",
              "      <td>Y Tu Mamá También</td>\n",
              "      <td>Mexico</td>\n",
              "      <td>Maribel Verdú, Gael García Bernal, Diego Luna,...</td>\n",
              "      <td>R</td>\n",
              "      <td>106 min</td>\n",
              "      <td>June 1, 2017</td>\n",
              "      <td>2001</td>\n",
              "      <td>Dramas, Independent Movies, International Movies</td>\n",
              "    </tr>\n",
              "  </tbody>\n",
              "</table>\n",
              "</div>"
            ],
            "text/plain": [
              "       show_id  ...                                          listed_in\n",
              "3628    880640  ...                Classic Movies, Cult Movies, Dramas\n",
              "5733  80998905  ...  British TV Shows, International TV Shows, TV C...\n",
              "750   80201868  ...                          TV Comedies, TV Mysteries\n",
              "907   70229048  ...  Action & Adventure, International Movies, Musi...\n",
              "687   81154549  ...  Docuseries, International TV Shows, Science & ...\n",
              "1172  60004471  ...                         Comedies, Sci-Fi & Fantasy\n",
              "3541  80117557  ...                            TV Dramas, TV Thrillers\n",
              "1668  80134781  ...                                    Stand-Up Comedy\n",
              "3120  80992111  ...                Horror Movies, International Movies\n",
              "2757  60023237  ...   Dramas, Independent Movies, International Movies\n",
              "\n",
              "[10 rows x 10 columns]"
            ]
          },
          "metadata": {
            "tags": []
          },
          "execution_count": 54
        }
      ]
    },
    {
      "cell_type": "code",
      "metadata": {
        "id": "60SUJBHu_HJk"
      },
      "source": [
        "import jovian"
      ],
      "execution_count": 20,
      "outputs": []
    },
    {
      "cell_type": "code",
      "metadata": {
        "id": "BWz_lzA0_HJn",
        "outputId": "ebab1b22-4278-4add-8f4f-e3f336ad21ce",
        "colab": {
          "base_uri": "https://localhost:8080/",
          "height": 86
        }
      },
      "source": [
        "jovian.commit(project=project_name)"
      ],
      "execution_count": 21,
      "outputs": [
        {
          "output_type": "stream",
          "text": [
            "[jovian] Detected Colab notebook...\u001b[0m\n",
            "[jovian] Uploading colab notebook to Jovian...\u001b[0m\n",
            "[jovian] Committed successfully! https://jovian.ml/csendranshi/netflix-dataset-analysis\u001b[0m\n"
          ],
          "name": "stdout"
        },
        {
          "output_type": "execute_result",
          "data": {
            "application/vnd.google.colaboratory.intrinsic+json": {
              "type": "string"
            },
            "text/plain": [
              "'https://jovian.ml/csendranshi/netflix-dataset-analysis'"
            ]
          },
          "metadata": {
            "tags": []
          },
          "execution_count": 21
        }
      ]
    },
    {
      "cell_type": "markdown",
      "metadata": {
        "id": "xbst2xSF_HJq"
      },
      "source": [
        "## Exploratory Analysis and Visualization\n",
        "\n"
      ]
    },
    {
      "cell_type": "code",
      "metadata": {
        "id": "J8HV6T7q_HJq",
        "outputId": "8cbe51e1-7a82-40e8-c95b-54ccd2cc08ce",
        "colab": {
          "base_uri": "https://localhost:8080/",
          "height": 70
        }
      },
      "source": [
        "import seaborn as sns\n",
        "import matplotlib\n",
        "import matplotlib.pyplot as plt\n",
        "%matplotlib inline\n",
        "\n",
        "sns.set_style('darkgrid')\n",
        "matplotlib.rcParams['font.size'] = 14\n",
        "matplotlib.rcParams['figure.figsize'] = (9, 5)\n",
        "matplotlib.rcParams['figure.facecolor'] = '#fff'"
      ],
      "execution_count": 36,
      "outputs": [
        {
          "output_type": "stream",
          "text": [
            "/usr/local/lib/python3.6/dist-packages/statsmodels/tools/_testing.py:19: FutureWarning: pandas.util.testing is deprecated. Use the functions in the public API at pandas.testing instead.\n",
            "  import pandas.util.testing as tm\n"
          ],
          "name": "stderr"
        }
      ]
    },
    {
      "cell_type": "markdown",
      "metadata": {
        "id": "xkywoZ8PtzPR"
      },
      "source": [
        "###COUNTRY\n",
        "Let's look at the number of countries from there are movies and TV shows in this dataset, and plot the 10 countries with the highest number of productions."
      ]
    },
    {
      "cell_type": "code",
      "metadata": {
        "id": "FgqwGahptya5",
        "outputId": "029eb527-f32d-418d-e741-f40cd3f68f4a",
        "colab": {
          "base_uri": "https://localhost:8080/",
          "height": 218
        }
      },
      "source": [
        "netflix_df_country.country"
      ],
      "execution_count": 23,
      "outputs": [
        {
          "output_type": "execute_result",
          "data": {
            "text/plain": [
              "0        United States\n",
              "1                India\n",
              "2          South Korea\n",
              "3                China\n",
              "4       United Kingdom\n",
              "             ...      \n",
              "7177         Australia\n",
              "7178     United States\n",
              "7179     United States\n",
              "7180    United Kingdom\n",
              "7181     United States\n",
              "Name: country, Length: 7182, dtype: object"
            ]
          },
          "metadata": {
            "tags": []
          },
          "execution_count": 23
        }
      ]
    },
    {
      "cell_type": "code",
      "metadata": {
        "id": "vKcbxxfF_HJt",
        "outputId": "7c384b11-72a6-44a1-eba8-b1d23f072424",
        "colab": {
          "base_uri": "https://localhost:8080/",
          "height": 34
        }
      },
      "source": [
        "netflix_df_country.country.nunique()"
      ],
      "execution_count": 24,
      "outputs": [
        {
          "output_type": "execute_result",
          "data": {
            "text/plain": [
              "173"
            ]
          },
          "metadata": {
            "tags": []
          },
          "execution_count": 24
        }
      ]
    },
    {
      "cell_type": "code",
      "metadata": {
        "id": "81MMHeTX_HJw",
        "outputId": "d564cf43-6463-4cb7-d998-f4d9df9ece50",
        "colab": {
          "base_uri": "https://localhost:8080/",
          "height": 286
        }
      },
      "source": [
        "top_countries= netflix_df_country.country.value_counts().head(15)\n",
        "top_countries"
      ],
      "execution_count": 25,
      "outputs": [
        {
          "output_type": "execute_result",
          "data": {
            "text/plain": [
              "United States      2302\n",
              "India               808\n",
              "United Kingdom      483\n",
              " United States      308\n",
              "Canada              206\n",
              "Japan               184\n",
              "France              147\n",
              "South Korea         146\n",
              "Spain               139\n",
              " France             124\n",
              " United Kingdom     119\n",
              " Canada             112\n",
              "Mexico               99\n",
              "Australia            94\n",
              " Germany             86\n",
              "Name: country, dtype: int64"
            ]
          },
          "metadata": {
            "tags": []
          },
          "execution_count": 25
        }
      ]
    },
    {
      "cell_type": "markdown",
      "metadata": {
        "id": "KvAX1cTy_z-a"
      },
      "source": [
        "We can now visualize this using a bar chart"
      ]
    },
    {
      "cell_type": "code",
      "metadata": {
        "id": "zdwnX-9p_HJy",
        "outputId": "cc7fd64c-aaba-4d3c-d16b-0b11916765eb",
        "colab": {
          "base_uri": "https://localhost:8080/",
          "height": 501
        }
      },
      "source": [
        "plt.figure(figsize=(12,6))\n",
        "plt.xticks(rotation=90)\n",
        "plt.ylabel(\"No. of movies produced\")\n",
        "# plt.xlabel()\n",
        "plt.title(\"Movies and TV Shows released by Country 1925-2020\")\n",
        "sns.barplot(top_countries.index,top_countries);"
      ],
      "execution_count": 26,
      "outputs": [
        {
          "output_type": "display_data",
          "data": {
            "image/png": "[encoded data removed]",
            "text/plain": [
              "<Figure size 864x432 with 1 Axes>"
            ]
          },
          "metadata": {
            "tags": []
          }
        }
      ]
    },
    {
      "cell_type": "markdown",
      "metadata": {
        "id": "LCMODo9PDen6"
      },
      "source": [
        "It appears that a disproportionately high number of movies and TV shows were released in USA alone, which might be a expected as USA is home to the world's largest and oldest film industry followed by INDIA having the largest national film industry. \n",
        "\n",
        "We can already see that the dataset may not be representative of the entire movies and shows produced in the countries, but only the ones available on NETFLIX. "
      ]
    },
    {
      "cell_type": "markdown",
      "metadata": {
        "id": "MF6HbcVSEuJY"
      },
      "source": [
        "###Content creation per Decade\n",
        "The distribution of movies and TV shows produced in the respective years is another important factor to look at, and we can use a histogram to a visualise it."
      ]
    },
    {
      "cell_type": "code",
      "metadata": {
        "id": "qXRAf71FA0X6"
      },
      "source": [
        "import numpy as np\n"
      ],
      "execution_count": 27,
      "outputs": []
    },
    {
      "cell_type": "code",
      "metadata": {
        "id": "WQIbFpNl_HJ2",
        "outputId": "7fcee6ab-25a8-449f-9f9a-742d606c1269",
        "colab": {
          "base_uri": "https://localhost:8080/",
          "height": 416
        }
      },
      "source": [
        "plt.figure(figsize=(12, 6))\n",
        "plt.title(\"Content Available per Decade\")\n",
        "plt.xlabel('Years')\n",
        "plt.ylabel('Number of Movies/Shows available')\n",
        "\n",
        "plt.hist(netflix_df.release_year, bins=np.arange(1920,2021,10), color='#f33');"
      ],
      "execution_count": 28,
      "outputs": [
        {
          "output_type": "display_data",
          "data": {
            "image/png": "[encoded data removed]",
            "text/plain": [
              "<Figure size 864x432 with 1 Axes>"
            ]
          },
          "metadata": {
            "tags": []
          }
        }
      ]
    },
    {
      "cell_type": "markdown",
      "metadata": {
        "id": "n2F1ncivHMdc"
      },
      "source": [
        "It appears that a large percentage of the content available on Netflix has been released in the decade 2010-2020, which is somewhat representative of the boom in the film and technology industry and easily available media channels. In general, a lot of young people have been actively involved both in production and viewing of the content in the last decade. \n",
        "\n",
        "This surge in content availability from the past decade might also infer to the present generation binging latest movies and shows rather than time old classics."
      ]
    },
    {
      "cell_type": "markdown",
      "metadata": {
        "id": "L4MU6OgJSXE8"
      },
      "source": [
        "###MOVIES vs TV SHOWS"
      ]
    },
    {
      "cell_type": "code",
      "metadata": {
        "id": "jOhUaxmbhSvS",
        "outputId": "8d929fe7-bc77-43cf-82fa-ee00f51766ab",
        "colab": {
          "base_uri": "https://localhost:8080/",
          "height": 323
        }
      },
      "source": [
        "movie_count=netflix_df.type.value_counts()\n",
        "label='Movies','TV Shows'\n",
        "plt.title(\"Percentage of Movies vs TV Shows streaming\")\n",
        "my_colors=['#888','#f44']\n",
        "plt.pie(movie_count,labels=label,autopct='%1.1f%%',startangle=90,colors=my_colors);"
      ],
      "execution_count": 29,
      "outputs": [
        {
          "output_type": "display_data",
          "data": {
            "image/png": "[encoded data removed]",
            "text/plain": [
              "<Figure size 648x360 with 1 Axes>"
            ]
          },
          "metadata": {
            "tags": []
          }
        }
      ]
    },
    {
      "cell_type": "markdown",
      "metadata": {
        "id": "JMNs70MBTFQO"
      },
      "source": [
        "It is observed that the percentage of `Movies` is almost twice to that of `TV Shows`. This trend might be a result of the busy schedules and lifestyles of the millennials, hence preference given to content with shorter run time. This can also be an outcome of lesser commitment and financial investment needed for movie production than a TV Show."
      ]
    },
    {
      "cell_type": "markdown",
      "metadata": {
        "id": "qfXyp49vDMJq"
      },
      "source": [
        "###Movie Duration\n",
        "\n",
        "We'll now find out the most common range of the movie duration.   "
      ]
    },
    {
      "cell_type": "code",
      "metadata": {
        "id": "YwaB7EaDnNod",
        "outputId": "210ff9df-0f12-4674-a401-a5876615e2a0",
        "colab": {
          "base_uri": "https://localhost:8080/",
          "height": 1000
        }
      },
      "source": [
        "netflix_df_movies=netflix_df[netflix_df.type.eq('Movie')]\n",
        "netflix_df_movies"
      ],
      "execution_count": 60,
      "outputs": [
        {
          "output_type": "execute_result",
          "data": {
            "text/html": [
              "<div>\n",
              "<style scoped>\n",
              "    .dataframe tbody tr th:only-of-type {\n",
              "        vertical-align: middle;\n",
              "    }\n",
              "\n",
              "    .dataframe tbody tr th {\n",
              "        vertical-align: top;\n",
              "    }\n",
              "\n",
              "    .dataframe thead th {\n",
              "        text-align: right;\n",
              "    }\n",
              "</style>\n",
              "<table border=\"1\" class=\"dataframe\">\n",
              "  <thead>\n",
              "    <tr style=\"text-align: right;\">\n",
              "      <th></th>\n",
              "      <th>show_id</th>\n",
              "      <th>type</th>\n",
              "      <th>title</th>\n",
              "      <th>country</th>\n",
              "      <th>cast</th>\n",
              "      <th>rating</th>\n",
              "      <th>duration</th>\n",
              "      <th>date_added</th>\n",
              "      <th>release_year</th>\n",
              "      <th>listed_in</th>\n",
              "    </tr>\n",
              "  </thead>\n",
              "  <tbody>\n",
              "    <tr>\n",
              "      <th>0</th>\n",
              "      <td>81145628</td>\n",
              "      <td>Movie</td>\n",
              "      <td>Norm of the North: King Sized Adventure</td>\n",
              "      <td>United States, India, South Korea, China</td>\n",
              "      <td>Alan Marriott, Andrew Toth, Brian Dobson, Cole...</td>\n",
              "      <td>TV-PG</td>\n",
              "      <td>90 min</td>\n",
              "      <td>September 9, 2019</td>\n",
              "      <td>2019</td>\n",
              "      <td>Children &amp; Family Movies, Comedies</td>\n",
              "    </tr>\n",
              "    <tr>\n",
              "      <th>1</th>\n",
              "      <td>80117401</td>\n",
              "      <td>Movie</td>\n",
              "      <td>Jandino: Whatever it Takes</td>\n",
              "      <td>United Kingdom</td>\n",
              "      <td>Jandino Asporaat</td>\n",
              "      <td>TV-MA</td>\n",
              "      <td>94 min</td>\n",
              "      <td>September 9, 2016</td>\n",
              "      <td>2016</td>\n",
              "      <td>Stand-Up Comedy</td>\n",
              "    </tr>\n",
              "    <tr>\n",
              "      <th>4</th>\n",
              "      <td>80125979</td>\n",
              "      <td>Movie</td>\n",
              "      <td>#realityhigh</td>\n",
              "      <td>United States</td>\n",
              "      <td>Nesta Cooper, Kate Walsh, John Michael Higgins...</td>\n",
              "      <td>TV-14</td>\n",
              "      <td>99 min</td>\n",
              "      <td>September 8, 2017</td>\n",
              "      <td>2017</td>\n",
              "      <td>Comedies</td>\n",
              "    </tr>\n",
              "    <tr>\n",
              "      <th>6</th>\n",
              "      <td>70304989</td>\n",
              "      <td>Movie</td>\n",
              "      <td>Automata</td>\n",
              "      <td>Bulgaria, United States, Spain, Canada</td>\n",
              "      <td>Antonio Banderas, Dylan McDermott, Melanie Gri...</td>\n",
              "      <td>R</td>\n",
              "      <td>110 min</td>\n",
              "      <td>September 8, 2017</td>\n",
              "      <td>2014</td>\n",
              "      <td>International Movies, Sci-Fi &amp; Fantasy, Thrillers</td>\n",
              "    </tr>\n",
              "    <tr>\n",
              "      <th>7</th>\n",
              "      <td>80164077</td>\n",
              "      <td>Movie</td>\n",
              "      <td>Fabrizio Copano: Solo pienso en mi</td>\n",
              "      <td>Chile</td>\n",
              "      <td>Fabrizio Copano</td>\n",
              "      <td>TV-MA</td>\n",
              "      <td>60 min</td>\n",
              "      <td>September 8, 2017</td>\n",
              "      <td>2017</td>\n",
              "      <td>Stand-Up Comedy</td>\n",
              "    </tr>\n",
              "    <tr>\n",
              "      <th>...</th>\n",
              "      <td>...</td>\n",
              "      <td>...</td>\n",
              "      <td>...</td>\n",
              "      <td>...</td>\n",
              "      <td>...</td>\n",
              "      <td>...</td>\n",
              "      <td>...</td>\n",
              "      <td>...</td>\n",
              "      <td>...</td>\n",
              "      <td>...</td>\n",
              "    </tr>\n",
              "    <tr>\n",
              "      <th>5577</th>\n",
              "      <td>80085438</td>\n",
              "      <td>Movie</td>\n",
              "      <td>Frank and Cindy</td>\n",
              "      <td>United States</td>\n",
              "      <td>NaN</td>\n",
              "      <td>TV-MA</td>\n",
              "      <td>70 min</td>\n",
              "      <td>April 1, 2016</td>\n",
              "      <td>2007</td>\n",
              "      <td>Documentaries</td>\n",
              "    </tr>\n",
              "    <tr>\n",
              "      <th>5578</th>\n",
              "      <td>80085439</td>\n",
              "      <td>Movie</td>\n",
              "      <td>Frank and Cindy</td>\n",
              "      <td>United States</td>\n",
              "      <td>Rene Russo, Oliver Platt, Johnny Simmons, Jane...</td>\n",
              "      <td>R</td>\n",
              "      <td>102 min</td>\n",
              "      <td>April 1, 2016</td>\n",
              "      <td>2015</td>\n",
              "      <td>Comedies, Dramas, Independent Movies</td>\n",
              "    </tr>\n",
              "    <tr>\n",
              "      <th>5579</th>\n",
              "      <td>80011846</td>\n",
              "      <td>Movie</td>\n",
              "      <td>Iverson</td>\n",
              "      <td>United States</td>\n",
              "      <td>Allen Iverson</td>\n",
              "      <td>NR</td>\n",
              "      <td>88 min</td>\n",
              "      <td>April 1, 2016</td>\n",
              "      <td>2014</td>\n",
              "      <td>Documentaries, Sports Movies</td>\n",
              "    </tr>\n",
              "    <tr>\n",
              "      <th>5580</th>\n",
              "      <td>80064521</td>\n",
              "      <td>Movie</td>\n",
              "      <td>Jeremy Scott: The People's Designer</td>\n",
              "      <td>United States</td>\n",
              "      <td>Jeremy Scott</td>\n",
              "      <td>PG-13</td>\n",
              "      <td>109 min</td>\n",
              "      <td>April 1, 2016</td>\n",
              "      <td>2015</td>\n",
              "      <td>Documentaries</td>\n",
              "    </tr>\n",
              "    <tr>\n",
              "      <th>6231</th>\n",
              "      <td>80116008</td>\n",
              "      <td>Movie</td>\n",
              "      <td>Little Baby Bum: Nursery Rhyme Friends</td>\n",
              "      <td>NaN</td>\n",
              "      <td>NaN</td>\n",
              "      <td>NaN</td>\n",
              "      <td>60 min</td>\n",
              "      <td>NaN</td>\n",
              "      <td>2016</td>\n",
              "      <td>Movies</td>\n",
              "    </tr>\n",
              "  </tbody>\n",
              "</table>\n",
              "<p>4265 rows × 10 columns</p>\n",
              "</div>"
            ],
            "text/plain": [
              "       show_id  ...                                          listed_in\n",
              "0     81145628  ...                 Children & Family Movies, Comedies\n",
              "1     80117401  ...                                    Stand-Up Comedy\n",
              "4     80125979  ...                                           Comedies\n",
              "6     70304989  ...  International Movies, Sci-Fi & Fantasy, Thrillers\n",
              "7     80164077  ...                                    Stand-Up Comedy\n",
              "...        ...  ...                                                ...\n",
              "5577  80085438  ...                                      Documentaries\n",
              "5578  80085439  ...               Comedies, Dramas, Independent Movies\n",
              "5579  80011846  ...                       Documentaries, Sports Movies\n",
              "5580  80064521  ...                                      Documentaries\n",
              "6231  80116008  ...                                             Movies\n",
              "\n",
              "[4265 rows x 10 columns]"
            ]
          },
          "metadata": {
            "tags": []
          },
          "execution_count": 60
        }
      ]
    },
    {
      "cell_type": "code",
      "metadata": {
        "id": "zg12DXm4b1Bp",
        "outputId": "9ba1840a-b980-4c54-ca55-136966dacee2",
        "colab": {
          "base_uri": "https://localhost:8080/",
          "height": 1000
        }
      },
      "source": [
        "netflix_df_movies['duration'] = netflix_df_movies['duration'].apply(lambda x: int(str(x)[:-4]))\n",
        "netflix_df_movies"
      ],
      "execution_count": 61,
      "outputs": [
        {
          "output_type": "stream",
          "text": [
            "/usr/local/lib/python3.6/dist-packages/ipykernel_launcher.py:1: SettingWithCopyWarning: \n",
            "A value is trying to be set on a copy of a slice from a DataFrame.\n",
            "Try using .loc[row_indexer,col_indexer] = value instead\n",
            "\n",
            "See the caveats in the documentation: https://pandas.pydata.org/pandas-docs/stable/user_guide/indexing.html#returning-a-view-versus-a-copy\n",
            "  \"\"\"Entry point for launching an IPython kernel.\n"
          ],
          "name": "stderr"
        },
        {
          "output_type": "execute_result",
          "data": {
            "text/html": [
              "<div>\n",
              "<style scoped>\n",
              "    .dataframe tbody tr th:only-of-type {\n",
              "        vertical-align: middle;\n",
              "    }\n",
              "\n",
              "    .dataframe tbody tr th {\n",
              "        vertical-align: top;\n",
              "    }\n",
              "\n",
              "    .dataframe thead th {\n",
              "        text-align: right;\n",
              "    }\n",
              "</style>\n",
              "<table border=\"1\" class=\"dataframe\">\n",
              "  <thead>\n",
              "    <tr style=\"text-align: right;\">\n",
              "      <th></th>\n",
              "      <th>show_id</th>\n",
              "      <th>type</th>\n",
              "      <th>title</th>\n",
              "      <th>country</th>\n",
              "      <th>cast</th>\n",
              "      <th>rating</th>\n",
              "      <th>duration</th>\n",
              "      <th>date_added</th>\n",
              "      <th>release_year</th>\n",
              "      <th>listed_in</th>\n",
              "    </tr>\n",
              "  </thead>\n",
              "  <tbody>\n",
              "    <tr>\n",
              "      <th>0</th>\n",
              "      <td>81145628</td>\n",
              "      <td>Movie</td>\n",
              "      <td>Norm of the North: King Sized Adventure</td>\n",
              "      <td>United States, India, South Korea, China</td>\n",
              "      <td>Alan Marriott, Andrew Toth, Brian Dobson, Cole...</td>\n",
              "      <td>TV-PG</td>\n",
              "      <td>90</td>\n",
              "      <td>September 9, 2019</td>\n",
              "      <td>2019</td>\n",
              "      <td>Children &amp; Family Movies, Comedies</td>\n",
              "    </tr>\n",
              "    <tr>\n",
              "      <th>1</th>\n",
              "      <td>80117401</td>\n",
              "      <td>Movie</td>\n",
              "      <td>Jandino: Whatever it Takes</td>\n",
              "      <td>United Kingdom</td>\n",
              "      <td>Jandino Asporaat</td>\n",
              "      <td>TV-MA</td>\n",
              "      <td>94</td>\n",
              "      <td>September 9, 2016</td>\n",
              "      <td>2016</td>\n",
              "      <td>Stand-Up Comedy</td>\n",
              "    </tr>\n",
              "    <tr>\n",
              "      <th>4</th>\n",
              "      <td>80125979</td>\n",
              "      <td>Movie</td>\n",
              "      <td>#realityhigh</td>\n",
              "      <td>United States</td>\n",
              "      <td>Nesta Cooper, Kate Walsh, John Michael Higgins...</td>\n",
              "      <td>TV-14</td>\n",
              "      <td>99</td>\n",
              "      <td>September 8, 2017</td>\n",
              "      <td>2017</td>\n",
              "      <td>Comedies</td>\n",
              "    </tr>\n",
              "    <tr>\n",
              "      <th>6</th>\n",
              "      <td>70304989</td>\n",
              "      <td>Movie</td>\n",
              "      <td>Automata</td>\n",
              "      <td>Bulgaria, United States, Spain, Canada</td>\n",
              "      <td>Antonio Banderas, Dylan McDermott, Melanie Gri...</td>\n",
              "      <td>R</td>\n",
              "      <td>110</td>\n",
              "      <td>September 8, 2017</td>\n",
              "      <td>2014</td>\n",
              "      <td>International Movies, Sci-Fi &amp; Fantasy, Thrillers</td>\n",
              "    </tr>\n",
              "    <tr>\n",
              "      <th>7</th>\n",
              "      <td>80164077</td>\n",
              "      <td>Movie</td>\n",
              "      <td>Fabrizio Copano: Solo pienso en mi</td>\n",
              "      <td>Chile</td>\n",
              "      <td>Fabrizio Copano</td>\n",
              "      <td>TV-MA</td>\n",
              "      <td>60</td>\n",
              "      <td>September 8, 2017</td>\n",
              "      <td>2017</td>\n",
              "      <td>Stand-Up Comedy</td>\n",
              "    </tr>\n",
              "    <tr>\n",
              "      <th>...</th>\n",
              "      <td>...</td>\n",
              "      <td>...</td>\n",
              "      <td>...</td>\n",
              "      <td>...</td>\n",
              "      <td>...</td>\n",
              "      <td>...</td>\n",
              "      <td>...</td>\n",
              "      <td>...</td>\n",
              "      <td>...</td>\n",
              "      <td>...</td>\n",
              "    </tr>\n",
              "    <tr>\n",
              "      <th>5577</th>\n",
              "      <td>80085438</td>\n",
              "      <td>Movie</td>\n",
              "      <td>Frank and Cindy</td>\n",
              "      <td>United States</td>\n",
              "      <td>NaN</td>\n",
              "      <td>TV-MA</td>\n",
              "      <td>70</td>\n",
              "      <td>April 1, 2016</td>\n",
              "      <td>2007</td>\n",
              "      <td>Documentaries</td>\n",
              "    </tr>\n",
              "    <tr>\n",
              "      <th>5578</th>\n",
              "      <td>80085439</td>\n",
              "      <td>Movie</td>\n",
              "      <td>Frank and Cindy</td>\n",
              "      <td>United States</td>\n",
              "      <td>Rene Russo, Oliver Platt, Johnny Simmons, Jane...</td>\n",
              "      <td>R</td>\n",
              "      <td>102</td>\n",
              "      <td>April 1, 2016</td>\n",
              "      <td>2015</td>\n",
              "      <td>Comedies, Dramas, Independent Movies</td>\n",
              "    </tr>\n",
              "    <tr>\n",
              "      <th>5579</th>\n",
              "      <td>80011846</td>\n",
              "      <td>Movie</td>\n",
              "      <td>Iverson</td>\n",
              "      <td>United States</td>\n",
              "      <td>Allen Iverson</td>\n",
              "      <td>NR</td>\n",
              "      <td>88</td>\n",
              "      <td>April 1, 2016</td>\n",
              "      <td>2014</td>\n",
              "      <td>Documentaries, Sports Movies</td>\n",
              "    </tr>\n",
              "    <tr>\n",
              "      <th>5580</th>\n",
              "      <td>80064521</td>\n",
              "      <td>Movie</td>\n",
              "      <td>Jeremy Scott: The People's Designer</td>\n",
              "      <td>United States</td>\n",
              "      <td>Jeremy Scott</td>\n",
              "      <td>PG-13</td>\n",
              "      <td>109</td>\n",
              "      <td>April 1, 2016</td>\n",
              "      <td>2015</td>\n",
              "      <td>Documentaries</td>\n",
              "    </tr>\n",
              "    <tr>\n",
              "      <th>6231</th>\n",
              "      <td>80116008</td>\n",
              "      <td>Movie</td>\n",
              "      <td>Little Baby Bum: Nursery Rhyme Friends</td>\n",
              "      <td>NaN</td>\n",
              "      <td>NaN</td>\n",
              "      <td>NaN</td>\n",
              "      <td>60</td>\n",
              "      <td>NaN</td>\n",
              "      <td>2016</td>\n",
              "      <td>Movies</td>\n",
              "    </tr>\n",
              "  </tbody>\n",
              "</table>\n",
              "<p>4265 rows × 10 columns</p>\n",
              "</div>"
            ],
            "text/plain": [
              "       show_id  ...                                          listed_in\n",
              "0     81145628  ...                 Children & Family Movies, Comedies\n",
              "1     80117401  ...                                    Stand-Up Comedy\n",
              "4     80125979  ...                                           Comedies\n",
              "6     70304989  ...  International Movies, Sci-Fi & Fantasy, Thrillers\n",
              "7     80164077  ...                                    Stand-Up Comedy\n",
              "...        ...  ...                                                ...\n",
              "5577  80085438  ...                                      Documentaries\n",
              "5578  80085439  ...               Comedies, Dramas, Independent Movies\n",
              "5579  80011846  ...                       Documentaries, Sports Movies\n",
              "5580  80064521  ...                                      Documentaries\n",
              "6231  80116008  ...                                             Movies\n",
              "\n",
              "[4265 rows x 10 columns]"
            ]
          },
          "metadata": {
            "tags": []
          },
          "execution_count": 61
        }
      ]
    },
    {
      "cell_type": "code",
      "metadata": {
        "id": "8iW4NgdzgJiw",
        "outputId": "16f6c057-cf95-424c-bfc0-fa76bcd99760",
        "colab": {
          "base_uri": "https://localhost:8080/",
          "height": 284
        }
      },
      "source": [
        "netflix_df_movies.describe()"
      ],
      "execution_count": 62,
      "outputs": [
        {
          "output_type": "execute_result",
          "data": {
            "text/html": [
              "<div>\n",
              "<style scoped>\n",
              "    .dataframe tbody tr th:only-of-type {\n",
              "        vertical-align: middle;\n",
              "    }\n",
              "\n",
              "    .dataframe tbody tr th {\n",
              "        vertical-align: top;\n",
              "    }\n",
              "\n",
              "    .dataframe thead th {\n",
              "        text-align: right;\n",
              "    }\n",
              "</style>\n",
              "<table border=\"1\" class=\"dataframe\">\n",
              "  <thead>\n",
              "    <tr style=\"text-align: right;\">\n",
              "      <th></th>\n",
              "      <th>show_id</th>\n",
              "      <th>duration</th>\n",
              "      <th>release_year</th>\n",
              "    </tr>\n",
              "  </thead>\n",
              "  <tbody>\n",
              "    <tr>\n",
              "      <th>count</th>\n",
              "      <td>4.265000e+03</td>\n",
              "      <td>4265.000000</td>\n",
              "      <td>4265.000000</td>\n",
              "    </tr>\n",
              "    <tr>\n",
              "      <th>mean</th>\n",
              "      <td>7.562096e+07</td>\n",
              "      <td>99.100821</td>\n",
              "      <td>2012.354279</td>\n",
              "    </tr>\n",
              "    <tr>\n",
              "      <th>std</th>\n",
              "      <td>1.287630e+07</td>\n",
              "      <td>28.074857</td>\n",
              "      <td>9.735306</td>\n",
              "    </tr>\n",
              "    <tr>\n",
              "      <th>min</th>\n",
              "      <td>2.477470e+05</td>\n",
              "      <td>3.000000</td>\n",
              "      <td>1942.000000</td>\n",
              "    </tr>\n",
              "    <tr>\n",
              "      <th>25%</th>\n",
              "      <td>7.030419e+07</td>\n",
              "      <td>86.000000</td>\n",
              "      <td>2012.000000</td>\n",
              "    </tr>\n",
              "    <tr>\n",
              "      <th>50%</th>\n",
              "      <td>8.015858e+07</td>\n",
              "      <td>98.000000</td>\n",
              "      <td>2016.000000</td>\n",
              "    </tr>\n",
              "    <tr>\n",
              "      <th>75%</th>\n",
              "      <td>8.099157e+07</td>\n",
              "      <td>115.000000</td>\n",
              "      <td>2017.000000</td>\n",
              "    </tr>\n",
              "    <tr>\n",
              "      <th>max</th>\n",
              "      <td>8.123573e+07</td>\n",
              "      <td>312.000000</td>\n",
              "      <td>2020.000000</td>\n",
              "    </tr>\n",
              "  </tbody>\n",
              "</table>\n",
              "</div>"
            ],
            "text/plain": [
              "            show_id     duration  release_year\n",
              "count  4.265000e+03  4265.000000   4265.000000\n",
              "mean   7.562096e+07    99.100821   2012.354279\n",
              "std    1.287630e+07    28.074857      9.735306\n",
              "min    2.477470e+05     3.000000   1942.000000\n",
              "25%    7.030419e+07    86.000000   2012.000000\n",
              "50%    8.015858e+07    98.000000   2016.000000\n",
              "75%    8.099157e+07   115.000000   2017.000000\n",
              "max    8.123573e+07   312.000000   2020.000000"
            ]
          },
          "metadata": {
            "tags": []
          },
          "execution_count": 62
        }
      ]
    },
    {
      "cell_type": "code",
      "metadata": {
        "id": "4puF6my-EA6D",
        "outputId": "94ac20bb-e5b9-423e-e741-50467699a333",
        "colab": {
          "base_uri": "https://localhost:8080/",
          "height": 336
        }
      },
      "source": [
        "plt.xticks(rotation=90)\n",
        "plt.hist(netflix_df_movies.duration, bins=np.arange(2,313,10),color=\"#f44\");"
      ],
      "execution_count": 33,
      "outputs": [
        {
          "output_type": "display_data",
          "data": {
            "image/png": "[encoded data removed]",
            "text/plain": [
              "<Figure size 648x360 with 1 Axes>"
            ]
          },
          "metadata": {
            "tags": []
          }
        }
      ]
    },
    {
      "cell_type": "markdown",
      "metadata": {
        "id": "JEkP3QJ8g-aW"
      },
      "source": [
        "It appears that an extremely large amount of movies have a duration in the range of 90 - 110 minutes. This can be seen as the most preferable range for production. This is consistent with our movie watching intuition."
      ]
    },
    {
      "cell_type": "markdown",
      "metadata": {
        "id": "9APkhzSEoQQ7"
      },
      "source": [
        "###GENRE\n",
        "\n",
        "Analyzing the trends in categories of the content available on netflix"
      ]
    },
    {
      "cell_type": "code",
      "metadata": {
        "id": "W4sWOx5Qr0ov",
        "outputId": "966f5fdc-1265-402e-d0a0-3fc6572ec002",
        "colab": {
          "base_uri": "https://localhost:8080/",
          "height": 218
        }
      },
      "source": [
        "netflix_df_listed_in.listed_in"
      ],
      "execution_count": 34,
      "outputs": [
        {
          "output_type": "execute_result",
          "data": {
            "text/plain": [
              "0        Children & Family Movies\n",
              "1                        Comedies\n",
              "2                 Stand-Up Comedy\n",
              "3                        Kids' TV\n",
              "4                        Kids' TV\n",
              "                   ...           \n",
              "13665            British TV Shows\n",
              "13666                 TV Comedies\n",
              "13667                   TV Dramas\n",
              "13668           Classic & Cult TV\n",
              "13669                 TV Comedies\n",
              "Name: listed_in, Length: 13670, dtype: object"
            ]
          },
          "metadata": {
            "tags": []
          },
          "execution_count": 34
        }
      ]
    },
    {
      "cell_type": "code",
      "metadata": {
        "id": "XQtsVqWjr4BN",
        "outputId": "afbcde1a-d4e3-4172-f1d3-406c1dc7a6f4",
        "colab": {
          "base_uri": "https://localhost:8080/",
          "height": 34
        }
      },
      "source": [
        "netflix_df_listed_in.listed_in.nunique()"
      ],
      "execution_count": 35,
      "outputs": [
        {
          "output_type": "execute_result",
          "data": {
            "text/plain": [
              "72"
            ]
          },
          "metadata": {
            "tags": []
          },
          "execution_count": 35
        }
      ]
    },
    {
      "cell_type": "code",
      "metadata": {
        "id": "U4oR3mU_sCV4",
        "outputId": "69e835c7-3d71-4ed5-ff4c-2e3a84fb5162",
        "colab": {
          "base_uri": "https://localhost:8080/",
          "height": 370
        }
      },
      "source": [
        "top_genres=netflix_df_listed_in.listed_in.value_counts().head(20)\n",
        "top_genres"
      ],
      "execution_count": 36,
      "outputs": [
        {
          "output_type": "execute_result",
          "data": {
            "text/plain": [
              " International Movies       1842\n",
              "Dramas                      1077\n",
              "Comedies                     803\n",
              "Documentaries                644\n",
              "Action & Adventure           597\n",
              "International TV Shows       570\n",
              " Dramas                      546\n",
              " TV Dramas                   543\n",
              " Independent Movies          534\n",
              " International TV Shows      431\n",
              " Romantic Movies             374\n",
              "Children & Family Movies     358\n",
              " Thrillers                   352\n",
              " TV Comedies                 347\n",
              " Comedies                    310\n",
              "Crime TV Shows               309\n",
              "Kids' TV                     288\n",
              "Stand-Up Comedy              273\n",
              " Romantic TV Shows           257\n",
              " Music & Musicals            231\n",
              "Name: listed_in, dtype: int64"
            ]
          },
          "metadata": {
            "tags": []
          },
          "execution_count": 36
        }
      ]
    },
    {
      "cell_type": "code",
      "metadata": {
        "id": "U2tR5gjgrHy7",
        "outputId": "33c94136-b810-402b-852c-e8e8a7bb95e4",
        "colab": {
          "base_uri": "https://localhost:8080/",
          "height": 443
        }
      },
      "source": [
        "plt.figure(figsize=(15,5))\n",
        "plt.xticks(rotation=90)\n",
        "plt.xlabel(\"Genres\")\n",
        "plt.ylabel(\"Count\")\n",
        "plt.title(\"Classification by Genre\")\n",
        "sns.barplot(top_genres.index,top_genres);"
      ],
      "execution_count": 37,
      "outputs": [
        {
          "output_type": "display_data",
          "data": {
            "image/png": "[encoded data removed]",
            "text/plain": [
              "<Figure size 1080x360 with 1 Axes>"
            ]
          },
          "metadata": {
            "tags": []
          }
        }
      ]
    },
    {
      "cell_type": "markdown",
      "metadata": {
        "id": "Po3jjnOut_48"
      },
      "source": [
        "It appears that the categories `International Movies`, `Drama` and `Comedies` remark for the highest amount of content followed by `Documentaries`. It signifies the viewer's interests in happenings around the globe and account for the global media reach."
      ]
    },
    {
      "cell_type": "markdown",
      "metadata": {
        "id": "PzykdY32SMSI"
      },
      "source": [
        "###RATING\n",
        "Following is the distribution of content according to the ratings given. This will determine the `rating` with maximum number of Movies and TV shows"
      ]
    },
    {
      "cell_type": "code",
      "metadata": {
        "id": "Udi2KWTKSLtT",
        "outputId": "c952cde7-3511-4674-acb2-5f1b842acf60",
        "colab": {
          "base_uri": "https://localhost:8080/",
          "height": 269
        }
      },
      "source": [
        "top_rating=netflix_df.rating.value_counts()\n",
        "top_rating"
      ],
      "execution_count": 43,
      "outputs": [
        {
          "output_type": "execute_result",
          "data": {
            "text/plain": [
              "TV-MA       2027\n",
              "TV-14       1698\n",
              "TV-PG        701\n",
              "R            508\n",
              "PG-13        286\n",
              "NR           218\n",
              "PG           184\n",
              "TV-Y7        169\n",
              "TV-G         149\n",
              "TV-Y         143\n",
              "TV-Y7-FV      95\n",
              "G             37\n",
              "UR             7\n",
              "NC-17          2\n",
              "Name: rating, dtype: int64"
            ]
          },
          "metadata": {
            "tags": []
          },
          "execution_count": 43
        }
      ]
    },
    {
      "cell_type": "code",
      "metadata": {
        "id": "rMiZcNZllecm",
        "outputId": "bb043ad6-3507-432c-b47c-6a72fa262d6e",
        "colab": {
          "base_uri": "https://localhost:8080/",
          "height": 369
        }
      },
      "source": [
        "plt.figure(figsize=(15,6))\n",
        "plt.xlabel(\"Rating\")\n",
        "plt.ylabel(\"Count\")\n",
        "plt.title(\"Distribution of Ratings\")\n",
        "plt.bar(top_rating.index, top_rating)"
      ],
      "execution_count": 50,
      "outputs": [
        {
          "output_type": "execute_result",
          "data": {
            "text/plain": [
              "<BarContainer object of 14 artists>"
            ]
          },
          "metadata": {
            "tags": []
          },
          "execution_count": 50
        },
        {
          "output_type": "display_data",
          "data": {
            "image/png": "[encoded data removed]",
            "text/plain": [
              "<Figure size 1080x432 with 1 Axes>"
            ]
          },
          "metadata": {
            "tags": []
          }
        }
      ]
    },
    {
      "cell_type": "markdown",
      "metadata": {
        "id": "itkkPyHIplBN"
      },
      "source": [
        "As seen above, the most common rating given to the content is `TV-MA`,ie the content is only for Matured Audience and not for Kids. The rating `NC-17`, ie not suitable for audience under the age of 17, is the raremost. "
      ]
    },
    {
      "cell_type": "markdown",
      "metadata": {
        "id": "IwB03Qv1yT1t"
      },
      "source": [
        "###General Info"
      ]
    },
    {
      "cell_type": "code",
      "metadata": {
        "id": "M7UTcYDgyxlo",
        "outputId": "15d25e4f-53fb-4559-b73f-d04309617d77",
        "colab": {
          "base_uri": "https://localhost:8080/",
          "height": 892
        }
      },
      "source": [
        "netflix_df_movies"
      ],
      "execution_count": 94,
      "outputs": [
        {
          "output_type": "execute_result",
          "data": {
            "text/html": [
              "<div>\n",
              "<style scoped>\n",
              "    .dataframe tbody tr th:only-of-type {\n",
              "        vertical-align: middle;\n",
              "    }\n",
              "\n",
              "    .dataframe tbody tr th {\n",
              "        vertical-align: top;\n",
              "    }\n",
              "\n",
              "    .dataframe thead th {\n",
              "        text-align: right;\n",
              "    }\n",
              "</style>\n",
              "<table border=\"1\" class=\"dataframe\">\n",
              "  <thead>\n",
              "    <tr style=\"text-align: right;\">\n",
              "      <th></th>\n",
              "      <th>show_id</th>\n",
              "      <th>type</th>\n",
              "      <th>title</th>\n",
              "      <th>country</th>\n",
              "      <th>rating</th>\n",
              "      <th>duration</th>\n",
              "      <th>date_added</th>\n",
              "      <th>release_year</th>\n",
              "      <th>listed_in</th>\n",
              "    </tr>\n",
              "  </thead>\n",
              "  <tbody>\n",
              "    <tr>\n",
              "      <th>0</th>\n",
              "      <td>81145628</td>\n",
              "      <td>Movie</td>\n",
              "      <td>Norm of the North: King Sized Adventure</td>\n",
              "      <td>United States, India, South Korea, China</td>\n",
              "      <td>TV-PG</td>\n",
              "      <td>90</td>\n",
              "      <td>September 9, 2019</td>\n",
              "      <td>2019</td>\n",
              "      <td>Children &amp; Family Movies, Comedies</td>\n",
              "    </tr>\n",
              "    <tr>\n",
              "      <th>1</th>\n",
              "      <td>80117401</td>\n",
              "      <td>Movie</td>\n",
              "      <td>Jandino: Whatever it Takes</td>\n",
              "      <td>United Kingdom</td>\n",
              "      <td>TV-MA</td>\n",
              "      <td>94</td>\n",
              "      <td>September 9, 2016</td>\n",
              "      <td>2016</td>\n",
              "      <td>Stand-Up Comedy</td>\n",
              "    </tr>\n",
              "    <tr>\n",
              "      <th>4</th>\n",
              "      <td>80125979</td>\n",
              "      <td>Movie</td>\n",
              "      <td>#realityhigh</td>\n",
              "      <td>United States</td>\n",
              "      <td>TV-14</td>\n",
              "      <td>99</td>\n",
              "      <td>September 8, 2017</td>\n",
              "      <td>2017</td>\n",
              "      <td>Comedies</td>\n",
              "    </tr>\n",
              "    <tr>\n",
              "      <th>6</th>\n",
              "      <td>70304989</td>\n",
              "      <td>Movie</td>\n",
              "      <td>Automata</td>\n",
              "      <td>Bulgaria, United States, Spain, Canada</td>\n",
              "      <td>R</td>\n",
              "      <td>110</td>\n",
              "      <td>September 8, 2017</td>\n",
              "      <td>2014</td>\n",
              "      <td>International Movies, Sci-Fi &amp; Fantasy, Thrillers</td>\n",
              "    </tr>\n",
              "    <tr>\n",
              "      <th>7</th>\n",
              "      <td>80164077</td>\n",
              "      <td>Movie</td>\n",
              "      <td>Fabrizio Copano: Solo pienso en mi</td>\n",
              "      <td>Chile</td>\n",
              "      <td>TV-MA</td>\n",
              "      <td>60</td>\n",
              "      <td>September 8, 2017</td>\n",
              "      <td>2017</td>\n",
              "      <td>Stand-Up Comedy</td>\n",
              "    </tr>\n",
              "    <tr>\n",
              "      <th>...</th>\n",
              "      <td>...</td>\n",
              "      <td>...</td>\n",
              "      <td>...</td>\n",
              "      <td>...</td>\n",
              "      <td>...</td>\n",
              "      <td>...</td>\n",
              "      <td>...</td>\n",
              "      <td>...</td>\n",
              "      <td>...</td>\n",
              "    </tr>\n",
              "    <tr>\n",
              "      <th>5577</th>\n",
              "      <td>80085438</td>\n",
              "      <td>Movie</td>\n",
              "      <td>Frank and Cindy</td>\n",
              "      <td>United States</td>\n",
              "      <td>TV-MA</td>\n",
              "      <td>70</td>\n",
              "      <td>April 1, 2016</td>\n",
              "      <td>2007</td>\n",
              "      <td>Documentaries</td>\n",
              "    </tr>\n",
              "    <tr>\n",
              "      <th>5578</th>\n",
              "      <td>80085439</td>\n",
              "      <td>Movie</td>\n",
              "      <td>Frank and Cindy</td>\n",
              "      <td>United States</td>\n",
              "      <td>R</td>\n",
              "      <td>102</td>\n",
              "      <td>April 1, 2016</td>\n",
              "      <td>2015</td>\n",
              "      <td>Comedies, Dramas, Independent Movies</td>\n",
              "    </tr>\n",
              "    <tr>\n",
              "      <th>5579</th>\n",
              "      <td>80011846</td>\n",
              "      <td>Movie</td>\n",
              "      <td>Iverson</td>\n",
              "      <td>United States</td>\n",
              "      <td>NR</td>\n",
              "      <td>88</td>\n",
              "      <td>April 1, 2016</td>\n",
              "      <td>2014</td>\n",
              "      <td>Documentaries, Sports Movies</td>\n",
              "    </tr>\n",
              "    <tr>\n",
              "      <th>5580</th>\n",
              "      <td>80064521</td>\n",
              "      <td>Movie</td>\n",
              "      <td>Jeremy Scott: The People's Designer</td>\n",
              "      <td>United States</td>\n",
              "      <td>PG-13</td>\n",
              "      <td>109</td>\n",
              "      <td>April 1, 2016</td>\n",
              "      <td>2015</td>\n",
              "      <td>Documentaries</td>\n",
              "    </tr>\n",
              "    <tr>\n",
              "      <th>6231</th>\n",
              "      <td>80116008</td>\n",
              "      <td>Movie</td>\n",
              "      <td>Little Baby Bum: Nursery Rhyme Friends</td>\n",
              "      <td>NaN</td>\n",
              "      <td>NaN</td>\n",
              "      <td>60</td>\n",
              "      <td>NaN</td>\n",
              "      <td>2016</td>\n",
              "      <td>Movies</td>\n",
              "    </tr>\n",
              "  </tbody>\n",
              "</table>\n",
              "<p>4265 rows × 9 columns</p>\n",
              "</div>"
            ],
            "text/plain": [
              "       show_id  ...                                          listed_in\n",
              "0     81145628  ...                 Children & Family Movies, Comedies\n",
              "1     80117401  ...                                    Stand-Up Comedy\n",
              "4     80125979  ...                                           Comedies\n",
              "6     70304989  ...  International Movies, Sci-Fi & Fantasy, Thrillers\n",
              "7     80164077  ...                                    Stand-Up Comedy\n",
              "...        ...  ...                                                ...\n",
              "5577  80085438  ...                                      Documentaries\n",
              "5578  80085439  ...               Comedies, Dramas, Independent Movies\n",
              "5579  80011846  ...                       Documentaries, Sports Movies\n",
              "5580  80064521  ...                                      Documentaries\n",
              "6231  80116008  ...                                             Movies\n",
              "\n",
              "[4265 rows x 9 columns]"
            ]
          },
          "metadata": {
            "tags": []
          },
          "execution_count": 94
        }
      ]
    },
    {
      "cell_type": "code",
      "metadata": {
        "id": "WIl2iA-F_HKF",
        "outputId": "ea866dc3-2e28-4aaa-d4d6-9f36190ff44e",
        "colab": {
          "base_uri": "https://localhost:8080/",
          "height": 416
        }
      },
      "source": [
        "sns.pairplot(netflix_df, hue='type');"
      ],
      "execution_count": 99,
      "outputs": [
        {
          "output_type": "display_data",
          "data": {
            "text/plain": [
              "<Figure size 1080x1080 with 0 Axes>"
            ]
          },
          "metadata": {
            "tags": []
          }
        },
        {
          "output_type": "display_data",
          "data": {
            "image/png": "[encoded data removed]",
            "text/plain": [
              "<Figure size 470.9x360 with 6 Axes>"
            ]
          },
          "metadata": {
            "tags": []
          }
        }
      ]
    },
    {
      "cell_type": "code",
      "metadata": {
        "id": "z61LeHHu_HJ4"
      },
      "source": [
        "import jovian"
      ],
      "execution_count": 38,
      "outputs": []
    },
    {
      "cell_type": "code",
      "metadata": {
        "id": "dSoNLKdV_HJ7",
        "outputId": "60fac10b-a4ec-4c43-8e63-e471ad9c96dc",
        "colab": {
          "base_uri": "https://localhost:8080/",
          "height": 86
        }
      },
      "source": [
        "jovian.commit(project=project_name)"
      ],
      "execution_count": 100,
      "outputs": [
        {
          "output_type": "stream",
          "text": [
            "[jovian] Detected Colab notebook...\u001b[0m\n",
            "[jovian] Uploading colab notebook to Jovian...\u001b[0m\n",
            "[jovian] Committed successfully! https://jovian.ml/csendranshi/netflix-dataset-analysis\u001b[0m\n"
          ],
          "name": "stdout"
        },
        {
          "output_type": "execute_result",
          "data": {
            "application/vnd.google.colaboratory.intrinsic+json": {
              "type": "string"
            },
            "text/plain": [
              "'https://jovian.ml/csendranshi/netflix-dataset-analysis'"
            ]
          },
          "metadata": {
            "tags": []
          },
          "execution_count": 100
        }
      ]
    },
    {
      "cell_type": "markdown",
      "metadata": {
        "id": "ecPD22qs_HJ-"
      },
      "source": [
        "## Asking and Answering Questions\n"
      ]
    },
    {
      "cell_type": "markdown",
      "metadata": {
        "id": "IGQ9QCsRsQhA"
      },
      "source": [
        "###Q1\n",
        "In which category were maximum number of movies made in the year 2013?"
      ]
    },
    {
      "cell_type": "code",
      "metadata": {
        "id": "Qferv8eT_HJ-",
        "outputId": "65ae5da8-d838-4803-dddf-0d9536ed3bd5",
        "colab": {
          "base_uri": "https://localhost:8080/",
          "height": 402
        }
      },
      "source": [
        "netflix_df_2013=netflix_df_listed_in[netflix_df_listed_in.release_year.eq(2013)]\n",
        "netflix_df_2013"
      ],
      "execution_count": 101,
      "outputs": [
        {
          "output_type": "execute_result",
          "data": {
            "text/html": [
              "<div>\n",
              "<style scoped>\n",
              "    .dataframe tbody tr th:only-of-type {\n",
              "        vertical-align: middle;\n",
              "    }\n",
              "\n",
              "    .dataframe tbody tr th {\n",
              "        vertical-align: top;\n",
              "    }\n",
              "\n",
              "    .dataframe thead th {\n",
              "        text-align: right;\n",
              "    }\n",
              "</style>\n",
              "<table border=\"1\" class=\"dataframe\">\n",
              "  <thead>\n",
              "    <tr style=\"text-align: right;\">\n",
              "      <th></th>\n",
              "      <th>title</th>\n",
              "      <th>show_id</th>\n",
              "      <th>country</th>\n",
              "      <th>type</th>\n",
              "      <th>rating</th>\n",
              "      <th>duration</th>\n",
              "      <th>date_added</th>\n",
              "      <th>release_year</th>\n",
              "      <th>listed_in</th>\n",
              "    </tr>\n",
              "  </thead>\n",
              "  <tbody>\n",
              "    <tr>\n",
              "      <th>3</th>\n",
              "      <td>Transformers Prime</td>\n",
              "      <td>70234439</td>\n",
              "      <td>United States</td>\n",
              "      <td>TV Show</td>\n",
              "      <td>TV-Y7-FV</td>\n",
              "      <td>1 Season</td>\n",
              "      <td>September 8, 2018</td>\n",
              "      <td>2013</td>\n",
              "      <td>Kids' TV</td>\n",
              "    </tr>\n",
              "    <tr>\n",
              "      <th>22</th>\n",
              "      <td>Krish Trish and Baltiboy: Battle of Wits</td>\n",
              "      <td>80182483</td>\n",
              "      <td>NaN</td>\n",
              "      <td>Movie</td>\n",
              "      <td>TV-Y7</td>\n",
              "      <td>62 min</td>\n",
              "      <td>September 8, 2017</td>\n",
              "      <td>2013</td>\n",
              "      <td>Children &amp; Family Movies</td>\n",
              "    </tr>\n",
              "    <tr>\n",
              "      <th>27</th>\n",
              "      <td>Krish Trish and Baltiboy: The Greatest Trick</td>\n",
              "      <td>80182621</td>\n",
              "      <td>NaN</td>\n",
              "      <td>Movie</td>\n",
              "      <td>TV-Y7</td>\n",
              "      <td>60 min</td>\n",
              "      <td>September 8, 2017</td>\n",
              "      <td>2013</td>\n",
              "      <td>Children &amp; Family Movies</td>\n",
              "    </tr>\n",
              "    <tr>\n",
              "      <th>195</th>\n",
              "      <td>The Sinking Of Van Der Wijck</td>\n",
              "      <td>81002866</td>\n",
              "      <td>Indonesia</td>\n",
              "      <td>Movie</td>\n",
              "      <td>TV-14</td>\n",
              "      <td>163 min</td>\n",
              "      <td>September 28, 2018</td>\n",
              "      <td>2013</td>\n",
              "      <td>Dramas</td>\n",
              "    </tr>\n",
              "    <tr>\n",
              "      <th>196</th>\n",
              "      <td>The Sinking Of Van Der Wijck</td>\n",
              "      <td>81002866</td>\n",
              "      <td>Indonesia</td>\n",
              "      <td>Movie</td>\n",
              "      <td>TV-14</td>\n",
              "      <td>163 min</td>\n",
              "      <td>September 28, 2018</td>\n",
              "      <td>2013</td>\n",
              "      <td>International Movies</td>\n",
              "    </tr>\n",
              "    <tr>\n",
              "      <th>...</th>\n",
              "      <td>...</td>\n",
              "      <td>...</td>\n",
              "      <td>...</td>\n",
              "      <td>...</td>\n",
              "      <td>...</td>\n",
              "      <td>...</td>\n",
              "      <td>...</td>\n",
              "      <td>...</td>\n",
              "      <td>...</td>\n",
              "    </tr>\n",
              "    <tr>\n",
              "      <th>13620</th>\n",
              "      <td>Mr. Young</td>\n",
              "      <td>70264078</td>\n",
              "      <td>Canada</td>\n",
              "      <td>TV Show</td>\n",
              "      <td>TV-G</td>\n",
              "      <td>2 Seasons</td>\n",
              "      <td>April 16, 2019</td>\n",
              "      <td>2013</td>\n",
              "      <td>Kids' TV</td>\n",
              "    </tr>\n",
              "    <tr>\n",
              "      <th>13621</th>\n",
              "      <td>Mr. Young</td>\n",
              "      <td>70264078</td>\n",
              "      <td>Canada</td>\n",
              "      <td>TV Show</td>\n",
              "      <td>TV-G</td>\n",
              "      <td>2 Seasons</td>\n",
              "      <td>April 16, 2019</td>\n",
              "      <td>2013</td>\n",
              "      <td>TV Comedies</td>\n",
              "    </tr>\n",
              "    <tr>\n",
              "      <th>13665</th>\n",
              "      <td>A Young Doctor's Notebook and Other Stories</td>\n",
              "      <td>70281022</td>\n",
              "      <td>United Kingdom</td>\n",
              "      <td>TV Show</td>\n",
              "      <td>TV-MA</td>\n",
              "      <td>2 Seasons</td>\n",
              "      <td>NaN</td>\n",
              "      <td>2013</td>\n",
              "      <td>British TV Shows</td>\n",
              "    </tr>\n",
              "    <tr>\n",
              "      <th>13666</th>\n",
              "      <td>A Young Doctor's Notebook and Other Stories</td>\n",
              "      <td>70281022</td>\n",
              "      <td>United Kingdom</td>\n",
              "      <td>TV Show</td>\n",
              "      <td>TV-MA</td>\n",
              "      <td>2 Seasons</td>\n",
              "      <td>NaN</td>\n",
              "      <td>2013</td>\n",
              "      <td>TV Comedies</td>\n",
              "    </tr>\n",
              "    <tr>\n",
              "      <th>13667</th>\n",
              "      <td>A Young Doctor's Notebook and Other Stories</td>\n",
              "      <td>70281022</td>\n",
              "      <td>United Kingdom</td>\n",
              "      <td>TV Show</td>\n",
              "      <td>TV-MA</td>\n",
              "      <td>2 Seasons</td>\n",
              "      <td>NaN</td>\n",
              "      <td>2013</td>\n",
              "      <td>TV Dramas</td>\n",
              "    </tr>\n",
              "  </tbody>\n",
              "</table>\n",
              "<p>544 rows × 9 columns</p>\n",
              "</div>"
            ],
            "text/plain": [
              "                                              title  ...                 listed_in\n",
              "3                                Transformers Prime  ...                  Kids' TV\n",
              "22         Krish Trish and Baltiboy: Battle of Wits  ...  Children & Family Movies\n",
              "27     Krish Trish and Baltiboy: The Greatest Trick  ...  Children & Family Movies\n",
              "195                    The Sinking Of Van Der Wijck  ...                    Dramas\n",
              "196                    The Sinking Of Van Der Wijck  ...      International Movies\n",
              "...                                             ...  ...                       ...\n",
              "13620                                     Mr. Young  ...                  Kids' TV\n",
              "13621                                     Mr. Young  ...               TV Comedies\n",
              "13665   A Young Doctor's Notebook and Other Stories  ...          British TV Shows\n",
              "13666   A Young Doctor's Notebook and Other Stories  ...               TV Comedies\n",
              "13667   A Young Doctor's Notebook and Other Stories  ...                 TV Dramas\n",
              "\n",
              "[544 rows x 9 columns]"
            ]
          },
          "metadata": {
            "tags": []
          },
          "execution_count": 101
        }
      ]
    },
    {
      "cell_type": "code",
      "metadata": {
        "id": "8IkNUceZwIeA",
        "outputId": "08756edc-98db-4304-d857-07a600adf293",
        "colab": {
          "base_uri": "https://localhost:8080/",
          "height": 118
        }
      },
      "source": [
        "top_category_2013=netflix_df_2013.listed_in.value_counts().head(5)\n",
        "top_category_2013"
      ],
      "execution_count": 113,
      "outputs": [
        {
          "output_type": "execute_result",
          "data": {
            "text/plain": [
              " International Movies    103\n",
              "Dramas                    47\n",
              "Comedies                  37\n",
              "Documentaries             28\n",
              " Independent Movies       25\n",
              "Name: listed_in, dtype: int64"
            ]
          },
          "metadata": {
            "tags": []
          },
          "execution_count": 113
        }
      ]
    },
    {
      "cell_type": "code",
      "metadata": {
        "id": "w0U34ZZS_HKB",
        "outputId": "eb3a5bdd-382d-43a7-ae2e-c6035f7d26cb",
        "colab": {
          "base_uri": "https://localhost:8080/",
          "height": 477
        }
      },
      "source": [
        "plt.xticks(rotation=90)\n",
        "plt.title(\"Top categories in 2013\")\n",
        "sns.barplot(top_category_2013.index, top_category_2013);"
      ],
      "execution_count": 121,
      "outputs": [
        {
          "output_type": "display_data",
          "data": {
            "image/png": "[encoded data removed]",
            "text/plain": [
              "<Figure size 648x360 with 1 Axes>"
            ]
          },
          "metadata": {
            "tags": []
          }
        }
      ]
    },
    {
      "cell_type": "markdown",
      "metadata": {
        "id": "n2j1BvbgFb-M"
      },
      "source": [
        "International Movies category witnessed highest content creation in 2013."
      ]
    },
    {
      "cell_type": "markdown",
      "metadata": {
        "id": "a3MHrRkL_SfN"
      },
      "source": [
        "###Q2\n",
        "In which month are the highest number of movies added?"
      ]
    },
    {
      "cell_type": "code",
      "metadata": {
        "id": "Gu_-T-q7A_Wd"
      },
      "source": [
        "netflix_df_month=netflix_df.copy()"
      ],
      "execution_count": 55,
      "outputs": []
    },
    {
      "cell_type": "code",
      "metadata": {
        "id": "S7-QnCsi_HKI",
        "outputId": "755fefd6-5865-4b59-b3af-f4a90844273d",
        "colab": {
          "base_uri": "https://localhost:8080/",
          "height": 461
        }
      },
      "source": [
        "netflix_df_month['date_added']=netflix_df_month['date_added'].apply(lambda x: str(x).split(' ')[0])\n",
        "netflix_df_month.sample(10)"
      ],
      "execution_count": 56,
      "outputs": [
        {
          "output_type": "execute_result",
          "data": {
            "text/html": [
              "<div>\n",
              "<style scoped>\n",
              "    .dataframe tbody tr th:only-of-type {\n",
              "        vertical-align: middle;\n",
              "    }\n",
              "\n",
              "    .dataframe tbody tr th {\n",
              "        vertical-align: top;\n",
              "    }\n",
              "\n",
              "    .dataframe thead th {\n",
              "        text-align: right;\n",
              "    }\n",
              "</style>\n",
              "<table border=\"1\" class=\"dataframe\">\n",
              "  <thead>\n",
              "    <tr style=\"text-align: right;\">\n",
              "      <th></th>\n",
              "      <th>show_id</th>\n",
              "      <th>type</th>\n",
              "      <th>title</th>\n",
              "      <th>country</th>\n",
              "      <th>cast</th>\n",
              "      <th>rating</th>\n",
              "      <th>duration</th>\n",
              "      <th>date_added</th>\n",
              "      <th>release_year</th>\n",
              "      <th>listed_in</th>\n",
              "    </tr>\n",
              "  </thead>\n",
              "  <tbody>\n",
              "    <tr>\n",
              "      <th>3660</th>\n",
              "      <td>80228146</td>\n",
              "      <td>Movie</td>\n",
              "      <td>Jora 10 Numbaria</td>\n",
              "      <td>India</td>\n",
              "      <td>Deep Sidhu, Dharmendra, Ashish Duggal, Aman Hu...</td>\n",
              "      <td>TV-MA</td>\n",
              "      <td>135 min</td>\n",
              "      <td>January</td>\n",
              "      <td>2017</td>\n",
              "      <td>Action &amp; Adventure, International Movies</td>\n",
              "    </tr>\n",
              "    <tr>\n",
              "      <th>1844</th>\n",
              "      <td>80170875</td>\n",
              "      <td>Movie</td>\n",
              "      <td>God's Own Country</td>\n",
              "      <td>United Kingdom</td>\n",
              "      <td>Josh O'Connor, Alec Secareanu, Ian Hart, Gemma...</td>\n",
              "      <td>TV-MA</td>\n",
              "      <td>105 min</td>\n",
              "      <td>May</td>\n",
              "      <td>2017</td>\n",
              "      <td>Dramas, Independent Movies, International Movies</td>\n",
              "    </tr>\n",
              "    <tr>\n",
              "      <th>5925</th>\n",
              "      <td>80049870</td>\n",
              "      <td>TV Show</td>\n",
              "      <td>Dawn of the Croods</td>\n",
              "      <td>United States</td>\n",
              "      <td>Stephanie Lemelin, A.J. LoCascio, Dan Milano, ...</td>\n",
              "      <td>TV-Y7</td>\n",
              "      <td>4 Seasons</td>\n",
              "      <td></td>\n",
              "      <td>2017</td>\n",
              "      <td>Kids' TV</td>\n",
              "    </tr>\n",
              "    <tr>\n",
              "      <th>6034</th>\n",
              "      <td>80117038</td>\n",
              "      <td>TV Show</td>\n",
              "      <td>Big Mouth</td>\n",
              "      <td>United States</td>\n",
              "      <td>Nick Kroll, John Mulaney, Jessi Klein, Jason M...</td>\n",
              "      <td>TV-MA</td>\n",
              "      <td>3 Seasons</td>\n",
              "      <td></td>\n",
              "      <td>2019</td>\n",
              "      <td>TV Comedies</td>\n",
              "    </tr>\n",
              "    <tr>\n",
              "      <th>5040</th>\n",
              "      <td>70237054</td>\n",
              "      <td>Movie</td>\n",
              "      <td>Jim Gaffigan: Mr. Universe</td>\n",
              "      <td>United States</td>\n",
              "      <td>Jim Gaffigan</td>\n",
              "      <td>TV-14</td>\n",
              "      <td>77 min</td>\n",
              "      <td>August</td>\n",
              "      <td>2012</td>\n",
              "      <td>Stand-Up Comedy</td>\n",
              "    </tr>\n",
              "    <tr>\n",
              "      <th>123</th>\n",
              "      <td>80198423</td>\n",
              "      <td>Movie</td>\n",
              "      <td>Teach Us All</td>\n",
              "      <td>United States</td>\n",
              "      <td>NaN</td>\n",
              "      <td>TV-14</td>\n",
              "      <td>81 min</td>\n",
              "      <td>September</td>\n",
              "      <td>2017</td>\n",
              "      <td>Documentaries</td>\n",
              "    </tr>\n",
              "    <tr>\n",
              "      <th>2031</th>\n",
              "      <td>80117458</td>\n",
              "      <td>Movie</td>\n",
              "      <td>First Match</td>\n",
              "      <td>United States</td>\n",
              "      <td>Elvire Emanuelle, Yahya Abdul-Mateen II, Colma...</td>\n",
              "      <td>TV-MA</td>\n",
              "      <td>103 min</td>\n",
              "      <td>March</td>\n",
              "      <td>2018</td>\n",
              "      <td>Dramas, Independent Movies, Sports Movies</td>\n",
              "    </tr>\n",
              "    <tr>\n",
              "      <th>2656</th>\n",
              "      <td>80172284</td>\n",
              "      <td>Movie</td>\n",
              "      <td>S Is for Stanley</td>\n",
              "      <td>Italy</td>\n",
              "      <td>NaN</td>\n",
              "      <td>TV-MA</td>\n",
              "      <td>82 min</td>\n",
              "      <td>June</td>\n",
              "      <td>2016</td>\n",
              "      <td>Documentaries, International Movies</td>\n",
              "    </tr>\n",
              "    <tr>\n",
              "      <th>774</th>\n",
              "      <td>70245168</td>\n",
              "      <td>TV Show</td>\n",
              "      <td>Nature's Great Events (2009)</td>\n",
              "      <td>United States, United Kingdom</td>\n",
              "      <td>David Attenborough</td>\n",
              "      <td>TV-PG</td>\n",
              "      <td>1 Season</td>\n",
              "      <td>October</td>\n",
              "      <td>2009</td>\n",
              "      <td>British TV Shows, Docuseries, Science &amp; Nature TV</td>\n",
              "    </tr>\n",
              "    <tr>\n",
              "      <th>3032</th>\n",
              "      <td>60010069</td>\n",
              "      <td>Movie</td>\n",
              "      <td>Alice Doesn't Live Here Anymore</td>\n",
              "      <td>United States</td>\n",
              "      <td>Ellen Burstyn, Kris Kristofferson, Billy Green...</td>\n",
              "      <td>PG</td>\n",
              "      <td>112 min</td>\n",
              "      <td>July</td>\n",
              "      <td>1974</td>\n",
              "      <td>Classic Movies, Comedies, Dramas</td>\n",
              "    </tr>\n",
              "  </tbody>\n",
              "</table>\n",
              "</div>"
            ],
            "text/plain": [
              "       show_id  ...                                          listed_in\n",
              "3660  80228146  ...           Action & Adventure, International Movies\n",
              "1844  80170875  ...   Dramas, Independent Movies, International Movies\n",
              "5925  80049870  ...                                           Kids' TV\n",
              "6034  80117038  ...                                        TV Comedies\n",
              "5040  70237054  ...                                    Stand-Up Comedy\n",
              "123   80198423  ...                                      Documentaries\n",
              "2031  80117458  ...          Dramas, Independent Movies, Sports Movies\n",
              "2656  80172284  ...                Documentaries, International Movies\n",
              "774   70245168  ...  British TV Shows, Docuseries, Science & Nature TV\n",
              "3032  60010069  ...                   Classic Movies, Comedies, Dramas\n",
              "\n",
              "[10 rows x 10 columns]"
            ]
          },
          "metadata": {
            "tags": []
          },
          "execution_count": 56
        }
      ]
    },
    {
      "cell_type": "code",
      "metadata": {
        "id": "AQPZbg7j_HKL",
        "outputId": "3bea8374-fad4-4d81-a606-e87981cc9386",
        "colab": {
          "base_uri": "https://localhost:8080/",
          "height": 235
        }
      },
      "source": [
        "monthly_count=netflix_df_month.date_added.value_counts()\n",
        "monthly_count=monthly_count[1:-1]\n",
        "monthly_count"
      ],
      "execution_count": 57,
      "outputs": [
        {
          "output_type": "execute_result",
          "data": {
            "text/plain": [
              "December     638\n",
              "October      580\n",
              "January      563\n",
              "November     544\n",
              "March        504\n",
              "August       454\n",
              "September    420\n",
              "July         413\n",
              "April        406\n",
              "May          380\n",
              "February     342\n",
              "June         339\n",
              "Name: date_added, dtype: int64"
            ]
          },
          "metadata": {
            "tags": []
          },
          "execution_count": 57
        }
      ]
    },
    {
      "cell_type": "code",
      "metadata": {
        "id": "q0OQMq2K_HKQ",
        "outputId": "0bae3c21-2d5a-41e5-8e67-7b4bd3cd60cb",
        "colab": {
          "base_uri": "https://localhost:8080/",
          "height": 407
        }
      },
      "source": [
        "plt.xticks(rotation=90)\n",
        "plt.title(\"Monthly addition trend of Movie releasing\")\n",
        "plt.plot(monthly_count.index,monthly_count);"
      ],
      "execution_count": 155,
      "outputs": [
        {
          "output_type": "display_data",
          "data": {
            "image/png": "[encoded data removed]",
            "text/plain": [
              "<Figure size 648x360 with 1 Axes>"
            ]
          },
          "metadata": {
            "tags": []
          }
        }
      ]
    },
    {
      "cell_type": "markdown",
      "metadata": {
        "id": "Jw1njGS6FxuI"
      },
      "source": [
        "`December` has witnessed the maximum amount of movies being added to Netflix followed by the months `October`, `January` and `November`. This can be seen as a result of these months having the Holiday Season and hence rising amount of users to watch the content. \n",
        "\n",
        "The Holiday season marks the epitome of Family time and bonding with loved ones, hence binging Netflix has eventually resulted as a means to do so.\n",
        "\n",
        "Whereas the months of `April`, `May`, `February` and `June` witnessed the least amout of new content which might be the result of the users taking less to no breaks during this time of year."
      ]
    },
    {
      "cell_type": "markdown",
      "metadata": {
        "id": "EtOXGgd0oiX1"
      },
      "source": [
        "###Q3\n",
        "Which artist stars in the most amount of content?"
      ]
    },
    {
      "cell_type": "code",
      "metadata": {
        "id": "2BWY20RpsMf1"
      },
      "source": [
        "netflix_df_cast=netflix_df.copy()"
      ],
      "execution_count": 27,
      "outputs": []
    },
    {
      "cell_type": "code",
      "metadata": {
        "id": "9rXdRwjzr5HN"
      },
      "source": [
        "def split_multicolumn(col_series):\n",
        "    result_df = col_series.to_frame()\n",
        "    options = []\n",
        "    # Iterate over the column\n",
        "    for idx, value  in col_series[col_series.notnull()].iteritems():\n",
        "        # Break each value into list of options\n",
        "        for option in value.split(','):\n",
        "            # Add the option as a column to result\n",
        "            if not option in result_df.columns:\n",
        "                options.append(option)\n",
        "                result_df[option] = False\n",
        "            # Mark the value in the option column as True\n",
        "            result_df.at[idx, option] = True\n",
        "    return result_df[options]"
      ],
      "execution_count": 32,
      "outputs": []
    },
    {
      "cell_type": "code",
      "metadata": {
        "id": "lszRFOU5o1Q7",
        "outputId": "f5204875-197e-4155-9e0b-ac1ba4d25ce5",
        "colab": {
          "base_uri": "https://localhost:8080/",
          "height": 455
        }
      },
      "source": [
        "netflix_df_cast = split_multicolumn(netflix_df.cast)\n",
        "netflix_df_cast"
      ],
      "execution_count": 33,
      "outputs": [
        {
          "output_type": "execute_result",
          "data": {
            "text/html": [
              "<div>\n",
              "<style scoped>\n",
              "    .dataframe tbody tr th:only-of-type {\n",
              "        vertical-align: middle;\n",
              "    }\n",
              "\n",
              "    .dataframe tbody tr th {\n",
              "        vertical-align: top;\n",
              "    }\n",
              "\n",
              "    .dataframe thead th {\n",
              "        text-align: right;\n",
              "    }\n",
              "</style>\n",
              "<table border=\"1\" class=\"dataframe\">\n",
              "  <thead>\n",
              "    <tr style=\"text-align: right;\">\n",
              "      <th></th>\n",
              "      <th>Alan Marriott</th>\n",
              "      <th>Andrew Toth</th>\n",
              "      <th>Brian Dobson</th>\n",
              "      <th>Cole Howard</th>\n",
              "      <th>Jennifer Cameron</th>\n",
              "      <th>Jonathan Holmes</th>\n",
              "      <th>Lee Tockar</th>\n",
              "      <th>Lisa Durupt</th>\n",
              "      <th>Maya Kay</th>\n",
              "      <th>Michael Dobson</th>\n",
              "      <th>Jandino Asporaat</th>\n",
              "      <th>Peter Cullen</th>\n",
              "      <th>Sumalee Montano</th>\n",
              "      <th>Frank Welker</th>\n",
              "      <th>Jeffrey Combs</th>\n",
              "      <th>Kevin Michael Richardson</th>\n",
              "      <th>Tania Gunadi</th>\n",
              "      <th>Josh Keaton</th>\n",
              "      <th>Steve Blum</th>\n",
              "      <th>Andy Pessoa</th>\n",
              "      <th>Ernie Hudson</th>\n",
              "      <th>Daran Norris</th>\n",
              "      <th>Will Friedle</th>\n",
              "      <th>Will Friedle</th>\n",
              "      <th>Darren Criss</th>\n",
              "      <th>Constance Zimmer</th>\n",
              "      <th>Khary Payton</th>\n",
              "      <th>Mitchell Whitfield</th>\n",
              "      <th>Stuart Allan</th>\n",
              "      <th>Ted McGinley</th>\n",
              "      <th>Peter Cullen</th>\n",
              "      <th>Nesta Cooper</th>\n",
              "      <th>Kate Walsh</th>\n",
              "      <th>John Michael Higgins</th>\n",
              "      <th>Keith Powers</th>\n",
              "      <th>Alicia Sanz</th>\n",
              "      <th>Jake Borelli</th>\n",
              "      <th>Kid Ink</th>\n",
              "      <th>Yousef Erakat</th>\n",
              "      <th>Rebekah Graf</th>\n",
              "      <th>...</th>\n",
              "      <th>Hunter Parrish</th>\n",
              "      <th>Alexander Gould</th>\n",
              "      <th>Allie Grant</th>\n",
              "      <th>Yuuka Nanri</th>\n",
              "      <th>Kanako Mitsuhashi</th>\n",
              "      <th>Hidenobu Kiuchi</th>\n",
              "      <th>Norihiro Inoue</th>\n",
              "      <th>Rie Nakagawa</th>\n",
              "      <th>Masami Iwasaki</th>\n",
              "      <th>Alese Johnson</th>\n",
              "      <th>Jerry Jewell</th>\n",
              "      <th>Stephanie Young</th>\n",
              "      <th>Peri Gilpin</th>\n",
              "      <th>Luis Manuel Ávila</th>\n",
              "      <th>Regina Blandón</th>\n",
              "      <th>Barbara Torres</th>\n",
              "      <th>Dalilah Polanco</th>\n",
              "      <th>Pierre Angelo</th>\n",
              "      <th>Craig Behenna</th>\n",
              "      <th>Charlotte Hamlyn</th>\n",
              "      <th>Stavroula Mountzouris</th>\n",
              "      <th>Aletheia Burney</th>\n",
              "      <th>Igor Dmitriev</th>\n",
              "      <th>Burnie Burns</th>\n",
              "      <th>Jason Saldaña</th>\n",
              "      <th>Gustavo Sorola</th>\n",
              "      <th>Geoff Lazer Ramsey</th>\n",
              "      <th>Joel Heyman</th>\n",
              "      <th>Matt Hullum</th>\n",
              "      <th>Dan Godwin</th>\n",
              "      <th>Kathleen Zuelch</th>\n",
              "      <th>Yomary Cruz</th>\n",
              "      <th>Nathan Zellner</th>\n",
              "      <th>Andy Kindler</th>\n",
              "      <th>Christopher Godwin</th>\n",
              "      <th>Rosie Cavaliero</th>\n",
              "      <th>Vicki Pepperdine</th>\n",
              "      <th>Margaret Clunie</th>\n",
              "      <th>Tim Steed</th>\n",
              "      <th>Matthew Perry</th>\n",
              "    </tr>\n",
              "  </thead>\n",
              "  <tbody>\n",
              "    <tr>\n",
              "      <th>0</th>\n",
              "      <td>True</td>\n",
              "      <td>True</td>\n",
              "      <td>True</td>\n",
              "      <td>True</td>\n",
              "      <td>True</td>\n",
              "      <td>True</td>\n",
              "      <td>True</td>\n",
              "      <td>True</td>\n",
              "      <td>True</td>\n",
              "      <td>True</td>\n",
              "      <td>False</td>\n",
              "      <td>False</td>\n",
              "      <td>False</td>\n",
              "      <td>False</td>\n",
              "      <td>False</td>\n",
              "      <td>False</td>\n",
              "      <td>False</td>\n",
              "      <td>False</td>\n",
              "      <td>False</td>\n",
              "      <td>False</td>\n",
              "      <td>False</td>\n",
              "      <td>False</td>\n",
              "      <td>False</td>\n",
              "      <td>False</td>\n",
              "      <td>False</td>\n",
              "      <td>False</td>\n",
              "      <td>False</td>\n",
              "      <td>False</td>\n",
              "      <td>False</td>\n",
              "      <td>False</td>\n",
              "      <td>False</td>\n",
              "      <td>False</td>\n",
              "      <td>False</td>\n",
              "      <td>False</td>\n",
              "      <td>False</td>\n",
              "      <td>False</td>\n",
              "      <td>False</td>\n",
              "      <td>False</td>\n",
              "      <td>False</td>\n",
              "      <td>False</td>\n",
              "      <td>...</td>\n",
              "      <td>False</td>\n",
              "      <td>False</td>\n",
              "      <td>False</td>\n",
              "      <td>False</td>\n",
              "      <td>False</td>\n",
              "      <td>False</td>\n",
              "      <td>False</td>\n",
              "      <td>False</td>\n",
              "      <td>False</td>\n",
              "      <td>False</td>\n",
              "      <td>False</td>\n",
              "      <td>False</td>\n",
              "      <td>False</td>\n",
              "      <td>False</td>\n",
              "      <td>False</td>\n",
              "      <td>False</td>\n",
              "      <td>False</td>\n",
              "      <td>False</td>\n",
              "      <td>False</td>\n",
              "      <td>False</td>\n",
              "      <td>False</td>\n",
              "      <td>False</td>\n",
              "      <td>False</td>\n",
              "      <td>False</td>\n",
              "      <td>False</td>\n",
              "      <td>False</td>\n",
              "      <td>False</td>\n",
              "      <td>False</td>\n",
              "      <td>False</td>\n",
              "      <td>False</td>\n",
              "      <td>False</td>\n",
              "      <td>False</td>\n",
              "      <td>False</td>\n",
              "      <td>False</td>\n",
              "      <td>False</td>\n",
              "      <td>False</td>\n",
              "      <td>False</td>\n",
              "      <td>False</td>\n",
              "      <td>False</td>\n",
              "      <td>False</td>\n",
              "    </tr>\n",
              "    <tr>\n",
              "      <th>1</th>\n",
              "      <td>False</td>\n",
              "      <td>False</td>\n",
              "      <td>False</td>\n",
              "      <td>False</td>\n",
              "      <td>False</td>\n",
              "      <td>False</td>\n",
              "      <td>False</td>\n",
              "      <td>False</td>\n",
              "      <td>False</td>\n",
              "      <td>False</td>\n",
              "      <td>True</td>\n",
              "      <td>False</td>\n",
              "      <td>False</td>\n",
              "      <td>False</td>\n",
              "      <td>False</td>\n",
              "      <td>False</td>\n",
              "      <td>False</td>\n",
              "      <td>False</td>\n",
              "      <td>False</td>\n",
              "      <td>False</td>\n",
              "      <td>False</td>\n",
              "      <td>False</td>\n",
              "      <td>False</td>\n",
              "      <td>False</td>\n",
              "      <td>False</td>\n",
              "      <td>False</td>\n",
              "      <td>False</td>\n",
              "      <td>False</td>\n",
              "      <td>False</td>\n",
              "      <td>False</td>\n",
              "      <td>False</td>\n",
              "      <td>False</td>\n",
              "      <td>False</td>\n",
              "      <td>False</td>\n",
              "      <td>False</td>\n",
              "      <td>False</td>\n",
              "      <td>False</td>\n",
              "      <td>False</td>\n",
              "      <td>False</td>\n",
              "      <td>False</td>\n",
              "      <td>...</td>\n",
              "      <td>False</td>\n",
              "      <td>False</td>\n",
              "      <td>False</td>\n",
              "      <td>False</td>\n",
              "      <td>False</td>\n",
              "      <td>False</td>\n",
              "      <td>False</td>\n",
              "      <td>False</td>\n",
              "      <td>False</td>\n",
              "      <td>False</td>\n",
              "      <td>False</td>\n",
              "      <td>False</td>\n",
              "      <td>False</td>\n",
              "      <td>False</td>\n",
              "      <td>False</td>\n",
              "      <td>False</td>\n",
              "      <td>False</td>\n",
              "      <td>False</td>\n",
              "      <td>False</td>\n",
              "      <td>False</td>\n",
              "      <td>False</td>\n",
              "      <td>False</td>\n",
              "      <td>False</td>\n",
              "      <td>False</td>\n",
              "      <td>False</td>\n",
              "      <td>False</td>\n",
              "      <td>False</td>\n",
              "      <td>False</td>\n",
              "      <td>False</td>\n",
              "      <td>False</td>\n",
              "      <td>False</td>\n",
              "      <td>False</td>\n",
              "      <td>False</td>\n",
              "      <td>False</td>\n",
              "      <td>False</td>\n",
              "      <td>False</td>\n",
              "      <td>False</td>\n",
              "      <td>False</td>\n",
              "      <td>False</td>\n",
              "      <td>False</td>\n",
              "    </tr>\n",
              "    <tr>\n",
              "      <th>2</th>\n",
              "      <td>False</td>\n",
              "      <td>False</td>\n",
              "      <td>False</td>\n",
              "      <td>False</td>\n",
              "      <td>False</td>\n",
              "      <td>False</td>\n",
              "      <td>False</td>\n",
              "      <td>False</td>\n",
              "      <td>False</td>\n",
              "      <td>False</td>\n",
              "      <td>False</td>\n",
              "      <td>True</td>\n",
              "      <td>True</td>\n",
              "      <td>True</td>\n",
              "      <td>True</td>\n",
              "      <td>True</td>\n",
              "      <td>True</td>\n",
              "      <td>True</td>\n",
              "      <td>True</td>\n",
              "      <td>True</td>\n",
              "      <td>True</td>\n",
              "      <td>True</td>\n",
              "      <td>True</td>\n",
              "      <td>False</td>\n",
              "      <td>False</td>\n",
              "      <td>False</td>\n",
              "      <td>False</td>\n",
              "      <td>False</td>\n",
              "      <td>False</td>\n",
              "      <td>False</td>\n",
              "      <td>False</td>\n",
              "      <td>False</td>\n",
              "      <td>False</td>\n",
              "      <td>False</td>\n",
              "      <td>False</td>\n",
              "      <td>False</td>\n",
              "      <td>False</td>\n",
              "      <td>False</td>\n",
              "      <td>False</td>\n",
              "      <td>False</td>\n",
              "      <td>...</td>\n",
              "      <td>False</td>\n",
              "      <td>False</td>\n",
              "      <td>False</td>\n",
              "      <td>False</td>\n",
              "      <td>False</td>\n",
              "      <td>False</td>\n",
              "      <td>False</td>\n",
              "      <td>False</td>\n",
              "      <td>False</td>\n",
              "      <td>False</td>\n",
              "      <td>False</td>\n",
              "      <td>False</td>\n",
              "      <td>False</td>\n",
              "      <td>False</td>\n",
              "      <td>False</td>\n",
              "      <td>False</td>\n",
              "      <td>False</td>\n",
              "      <td>False</td>\n",
              "      <td>False</td>\n",
              "      <td>False</td>\n",
              "      <td>False</td>\n",
              "      <td>False</td>\n",
              "      <td>False</td>\n",
              "      <td>False</td>\n",
              "      <td>False</td>\n",
              "      <td>False</td>\n",
              "      <td>False</td>\n",
              "      <td>False</td>\n",
              "      <td>False</td>\n",
              "      <td>False</td>\n",
              "      <td>False</td>\n",
              "      <td>False</td>\n",
              "      <td>False</td>\n",
              "      <td>False</td>\n",
              "      <td>False</td>\n",
              "      <td>False</td>\n",
              "      <td>False</td>\n",
              "      <td>False</td>\n",
              "      <td>False</td>\n",
              "      <td>False</td>\n",
              "    </tr>\n",
              "    <tr>\n",
              "      <th>3</th>\n",
              "      <td>False</td>\n",
              "      <td>False</td>\n",
              "      <td>False</td>\n",
              "      <td>False</td>\n",
              "      <td>False</td>\n",
              "      <td>False</td>\n",
              "      <td>False</td>\n",
              "      <td>False</td>\n",
              "      <td>False</td>\n",
              "      <td>False</td>\n",
              "      <td>False</td>\n",
              "      <td>False</td>\n",
              "      <td>False</td>\n",
              "      <td>False</td>\n",
              "      <td>False</td>\n",
              "      <td>False</td>\n",
              "      <td>False</td>\n",
              "      <td>False</td>\n",
              "      <td>False</td>\n",
              "      <td>False</td>\n",
              "      <td>False</td>\n",
              "      <td>False</td>\n",
              "      <td>False</td>\n",
              "      <td>True</td>\n",
              "      <td>True</td>\n",
              "      <td>True</td>\n",
              "      <td>True</td>\n",
              "      <td>True</td>\n",
              "      <td>True</td>\n",
              "      <td>True</td>\n",
              "      <td>True</td>\n",
              "      <td>False</td>\n",
              "      <td>False</td>\n",
              "      <td>False</td>\n",
              "      <td>False</td>\n",
              "      <td>False</td>\n",
              "      <td>False</td>\n",
              "      <td>False</td>\n",
              "      <td>False</td>\n",
              "      <td>False</td>\n",
              "      <td>...</td>\n",
              "      <td>False</td>\n",
              "      <td>False</td>\n",
              "      <td>False</td>\n",
              "      <td>False</td>\n",
              "      <td>False</td>\n",
              "      <td>False</td>\n",
              "      <td>False</td>\n",
              "      <td>False</td>\n",
              "      <td>False</td>\n",
              "      <td>False</td>\n",
              "      <td>False</td>\n",
              "      <td>False</td>\n",
              "      <td>False</td>\n",
              "      <td>False</td>\n",
              "      <td>False</td>\n",
              "      <td>False</td>\n",
              "      <td>False</td>\n",
              "      <td>False</td>\n",
              "      <td>False</td>\n",
              "      <td>False</td>\n",
              "      <td>False</td>\n",
              "      <td>False</td>\n",
              "      <td>False</td>\n",
              "      <td>False</td>\n",
              "      <td>False</td>\n",
              "      <td>False</td>\n",
              "      <td>False</td>\n",
              "      <td>False</td>\n",
              "      <td>False</td>\n",
              "      <td>False</td>\n",
              "      <td>False</td>\n",
              "      <td>False</td>\n",
              "      <td>False</td>\n",
              "      <td>False</td>\n",
              "      <td>False</td>\n",
              "      <td>False</td>\n",
              "      <td>False</td>\n",
              "      <td>False</td>\n",
              "      <td>False</td>\n",
              "      <td>False</td>\n",
              "    </tr>\n",
              "    <tr>\n",
              "      <th>4</th>\n",
              "      <td>False</td>\n",
              "      <td>False</td>\n",
              "      <td>False</td>\n",
              "      <td>False</td>\n",
              "      <td>False</td>\n",
              "      <td>False</td>\n",
              "      <td>False</td>\n",
              "      <td>False</td>\n",
              "      <td>False</td>\n",
              "      <td>False</td>\n",
              "      <td>False</td>\n",
              "      <td>False</td>\n",
              "      <td>False</td>\n",
              "      <td>False</td>\n",
              "      <td>False</td>\n",
              "      <td>False</td>\n",
              "      <td>False</td>\n",
              "      <td>False</td>\n",
              "      <td>False</td>\n",
              "      <td>False</td>\n",
              "      <td>False</td>\n",
              "      <td>False</td>\n",
              "      <td>False</td>\n",
              "      <td>False</td>\n",
              "      <td>False</td>\n",
              "      <td>False</td>\n",
              "      <td>False</td>\n",
              "      <td>False</td>\n",
              "      <td>False</td>\n",
              "      <td>False</td>\n",
              "      <td>False</td>\n",
              "      <td>True</td>\n",
              "      <td>True</td>\n",
              "      <td>True</td>\n",
              "      <td>True</td>\n",
              "      <td>True</td>\n",
              "      <td>True</td>\n",
              "      <td>True</td>\n",
              "      <td>True</td>\n",
              "      <td>True</td>\n",
              "      <td>...</td>\n",
              "      <td>False</td>\n",
              "      <td>False</td>\n",
              "      <td>False</td>\n",
              "      <td>False</td>\n",
              "      <td>False</td>\n",
              "      <td>False</td>\n",
              "      <td>False</td>\n",
              "      <td>False</td>\n",
              "      <td>False</td>\n",
              "      <td>False</td>\n",
              "      <td>False</td>\n",
              "      <td>False</td>\n",
              "      <td>False</td>\n",
              "      <td>False</td>\n",
              "      <td>False</td>\n",
              "      <td>False</td>\n",
              "      <td>False</td>\n",
              "      <td>False</td>\n",
              "      <td>False</td>\n",
              "      <td>False</td>\n",
              "      <td>False</td>\n",
              "      <td>False</td>\n",
              "      <td>False</td>\n",
              "      <td>False</td>\n",
              "      <td>False</td>\n",
              "      <td>False</td>\n",
              "      <td>False</td>\n",
              "      <td>False</td>\n",
              "      <td>False</td>\n",
              "      <td>False</td>\n",
              "      <td>False</td>\n",
              "      <td>False</td>\n",
              "      <td>False</td>\n",
              "      <td>False</td>\n",
              "      <td>False</td>\n",
              "      <td>False</td>\n",
              "      <td>False</td>\n",
              "      <td>False</td>\n",
              "      <td>False</td>\n",
              "      <td>False</td>\n",
              "    </tr>\n",
              "    <tr>\n",
              "      <th>...</th>\n",
              "      <td>...</td>\n",
              "      <td>...</td>\n",
              "      <td>...</td>\n",
              "      <td>...</td>\n",
              "      <td>...</td>\n",
              "      <td>...</td>\n",
              "      <td>...</td>\n",
              "      <td>...</td>\n",
              "      <td>...</td>\n",
              "      <td>...</td>\n",
              "      <td>...</td>\n",
              "      <td>...</td>\n",
              "      <td>...</td>\n",
              "      <td>...</td>\n",
              "      <td>...</td>\n",
              "      <td>...</td>\n",
              "      <td>...</td>\n",
              "      <td>...</td>\n",
              "      <td>...</td>\n",
              "      <td>...</td>\n",
              "      <td>...</td>\n",
              "      <td>...</td>\n",
              "      <td>...</td>\n",
              "      <td>...</td>\n",
              "      <td>...</td>\n",
              "      <td>...</td>\n",
              "      <td>...</td>\n",
              "      <td>...</td>\n",
              "      <td>...</td>\n",
              "      <td>...</td>\n",
              "      <td>...</td>\n",
              "      <td>...</td>\n",
              "      <td>...</td>\n",
              "      <td>...</td>\n",
              "      <td>...</td>\n",
              "      <td>...</td>\n",
              "      <td>...</td>\n",
              "      <td>...</td>\n",
              "      <td>...</td>\n",
              "      <td>...</td>\n",
              "      <td>...</td>\n",
              "      <td>...</td>\n",
              "      <td>...</td>\n",
              "      <td>...</td>\n",
              "      <td>...</td>\n",
              "      <td>...</td>\n",
              "      <td>...</td>\n",
              "      <td>...</td>\n",
              "      <td>...</td>\n",
              "      <td>...</td>\n",
              "      <td>...</td>\n",
              "      <td>...</td>\n",
              "      <td>...</td>\n",
              "      <td>...</td>\n",
              "      <td>...</td>\n",
              "      <td>...</td>\n",
              "      <td>...</td>\n",
              "      <td>...</td>\n",
              "      <td>...</td>\n",
              "      <td>...</td>\n",
              "      <td>...</td>\n",
              "      <td>...</td>\n",
              "      <td>...</td>\n",
              "      <td>...</td>\n",
              "      <td>...</td>\n",
              "      <td>...</td>\n",
              "      <td>...</td>\n",
              "      <td>...</td>\n",
              "      <td>...</td>\n",
              "      <td>...</td>\n",
              "      <td>...</td>\n",
              "      <td>...</td>\n",
              "      <td>...</td>\n",
              "      <td>...</td>\n",
              "      <td>...</td>\n",
              "      <td>...</td>\n",
              "      <td>...</td>\n",
              "      <td>...</td>\n",
              "      <td>...</td>\n",
              "      <td>...</td>\n",
              "      <td>...</td>\n",
              "    </tr>\n",
              "    <tr>\n",
              "      <th>6229</th>\n",
              "      <td>False</td>\n",
              "      <td>False</td>\n",
              "      <td>False</td>\n",
              "      <td>False</td>\n",
              "      <td>False</td>\n",
              "      <td>False</td>\n",
              "      <td>False</td>\n",
              "      <td>False</td>\n",
              "      <td>False</td>\n",
              "      <td>False</td>\n",
              "      <td>False</td>\n",
              "      <td>False</td>\n",
              "      <td>False</td>\n",
              "      <td>False</td>\n",
              "      <td>False</td>\n",
              "      <td>False</td>\n",
              "      <td>False</td>\n",
              "      <td>False</td>\n",
              "      <td>False</td>\n",
              "      <td>False</td>\n",
              "      <td>False</td>\n",
              "      <td>False</td>\n",
              "      <td>False</td>\n",
              "      <td>False</td>\n",
              "      <td>False</td>\n",
              "      <td>False</td>\n",
              "      <td>False</td>\n",
              "      <td>False</td>\n",
              "      <td>False</td>\n",
              "      <td>False</td>\n",
              "      <td>False</td>\n",
              "      <td>False</td>\n",
              "      <td>False</td>\n",
              "      <td>False</td>\n",
              "      <td>False</td>\n",
              "      <td>False</td>\n",
              "      <td>False</td>\n",
              "      <td>False</td>\n",
              "      <td>False</td>\n",
              "      <td>False</td>\n",
              "      <td>...</td>\n",
              "      <td>False</td>\n",
              "      <td>False</td>\n",
              "      <td>False</td>\n",
              "      <td>False</td>\n",
              "      <td>False</td>\n",
              "      <td>False</td>\n",
              "      <td>False</td>\n",
              "      <td>False</td>\n",
              "      <td>False</td>\n",
              "      <td>False</td>\n",
              "      <td>False</td>\n",
              "      <td>False</td>\n",
              "      <td>False</td>\n",
              "      <td>False</td>\n",
              "      <td>False</td>\n",
              "      <td>False</td>\n",
              "      <td>False</td>\n",
              "      <td>False</td>\n",
              "      <td>False</td>\n",
              "      <td>False</td>\n",
              "      <td>False</td>\n",
              "      <td>False</td>\n",
              "      <td>False</td>\n",
              "      <td>True</td>\n",
              "      <td>True</td>\n",
              "      <td>True</td>\n",
              "      <td>True</td>\n",
              "      <td>True</td>\n",
              "      <td>True</td>\n",
              "      <td>True</td>\n",
              "      <td>True</td>\n",
              "      <td>True</td>\n",
              "      <td>True</td>\n",
              "      <td>False</td>\n",
              "      <td>False</td>\n",
              "      <td>False</td>\n",
              "      <td>False</td>\n",
              "      <td>False</td>\n",
              "      <td>False</td>\n",
              "      <td>False</td>\n",
              "    </tr>\n",
              "    <tr>\n",
              "      <th>6230</th>\n",
              "      <td>False</td>\n",
              "      <td>False</td>\n",
              "      <td>False</td>\n",
              "      <td>False</td>\n",
              "      <td>False</td>\n",
              "      <td>False</td>\n",
              "      <td>False</td>\n",
              "      <td>False</td>\n",
              "      <td>False</td>\n",
              "      <td>False</td>\n",
              "      <td>False</td>\n",
              "      <td>False</td>\n",
              "      <td>False</td>\n",
              "      <td>False</td>\n",
              "      <td>False</td>\n",
              "      <td>False</td>\n",
              "      <td>False</td>\n",
              "      <td>False</td>\n",
              "      <td>False</td>\n",
              "      <td>False</td>\n",
              "      <td>False</td>\n",
              "      <td>False</td>\n",
              "      <td>False</td>\n",
              "      <td>False</td>\n",
              "      <td>False</td>\n",
              "      <td>False</td>\n",
              "      <td>False</td>\n",
              "      <td>False</td>\n",
              "      <td>False</td>\n",
              "      <td>False</td>\n",
              "      <td>False</td>\n",
              "      <td>False</td>\n",
              "      <td>False</td>\n",
              "      <td>False</td>\n",
              "      <td>False</td>\n",
              "      <td>False</td>\n",
              "      <td>False</td>\n",
              "      <td>False</td>\n",
              "      <td>False</td>\n",
              "      <td>False</td>\n",
              "      <td>...</td>\n",
              "      <td>False</td>\n",
              "      <td>False</td>\n",
              "      <td>False</td>\n",
              "      <td>False</td>\n",
              "      <td>False</td>\n",
              "      <td>False</td>\n",
              "      <td>False</td>\n",
              "      <td>False</td>\n",
              "      <td>False</td>\n",
              "      <td>False</td>\n",
              "      <td>False</td>\n",
              "      <td>False</td>\n",
              "      <td>False</td>\n",
              "      <td>False</td>\n",
              "      <td>False</td>\n",
              "      <td>False</td>\n",
              "      <td>False</td>\n",
              "      <td>False</td>\n",
              "      <td>False</td>\n",
              "      <td>False</td>\n",
              "      <td>False</td>\n",
              "      <td>False</td>\n",
              "      <td>False</td>\n",
              "      <td>False</td>\n",
              "      <td>False</td>\n",
              "      <td>False</td>\n",
              "      <td>False</td>\n",
              "      <td>False</td>\n",
              "      <td>False</td>\n",
              "      <td>False</td>\n",
              "      <td>False</td>\n",
              "      <td>False</td>\n",
              "      <td>False</td>\n",
              "      <td>True</td>\n",
              "      <td>False</td>\n",
              "      <td>False</td>\n",
              "      <td>False</td>\n",
              "      <td>False</td>\n",
              "      <td>False</td>\n",
              "      <td>False</td>\n",
              "    </tr>\n",
              "    <tr>\n",
              "      <th>6231</th>\n",
              "      <td>False</td>\n",
              "      <td>False</td>\n",
              "      <td>False</td>\n",
              "      <td>False</td>\n",
              "      <td>False</td>\n",
              "      <td>False</td>\n",
              "      <td>False</td>\n",
              "      <td>False</td>\n",
              "      <td>False</td>\n",
              "      <td>False</td>\n",
              "      <td>False</td>\n",
              "      <td>False</td>\n",
              "      <td>False</td>\n",
              "      <td>False</td>\n",
              "      <td>False</td>\n",
              "      <td>False</td>\n",
              "      <td>False</td>\n",
              "      <td>False</td>\n",
              "      <td>False</td>\n",
              "      <td>False</td>\n",
              "      <td>False</td>\n",
              "      <td>False</td>\n",
              "      <td>False</td>\n",
              "      <td>False</td>\n",
              "      <td>False</td>\n",
              "      <td>False</td>\n",
              "      <td>False</td>\n",
              "      <td>False</td>\n",
              "      <td>False</td>\n",
              "      <td>False</td>\n",
              "      <td>False</td>\n",
              "      <td>False</td>\n",
              "      <td>False</td>\n",
              "      <td>False</td>\n",
              "      <td>False</td>\n",
              "      <td>False</td>\n",
              "      <td>False</td>\n",
              "      <td>False</td>\n",
              "      <td>False</td>\n",
              "      <td>False</td>\n",
              "      <td>...</td>\n",
              "      <td>False</td>\n",
              "      <td>False</td>\n",
              "      <td>False</td>\n",
              "      <td>False</td>\n",
              "      <td>False</td>\n",
              "      <td>False</td>\n",
              "      <td>False</td>\n",
              "      <td>False</td>\n",
              "      <td>False</td>\n",
              "      <td>False</td>\n",
              "      <td>False</td>\n",
              "      <td>False</td>\n",
              "      <td>False</td>\n",
              "      <td>False</td>\n",
              "      <td>False</td>\n",
              "      <td>False</td>\n",
              "      <td>False</td>\n",
              "      <td>False</td>\n",
              "      <td>False</td>\n",
              "      <td>False</td>\n",
              "      <td>False</td>\n",
              "      <td>False</td>\n",
              "      <td>False</td>\n",
              "      <td>False</td>\n",
              "      <td>False</td>\n",
              "      <td>False</td>\n",
              "      <td>False</td>\n",
              "      <td>False</td>\n",
              "      <td>False</td>\n",
              "      <td>False</td>\n",
              "      <td>False</td>\n",
              "      <td>False</td>\n",
              "      <td>False</td>\n",
              "      <td>False</td>\n",
              "      <td>False</td>\n",
              "      <td>False</td>\n",
              "      <td>False</td>\n",
              "      <td>False</td>\n",
              "      <td>False</td>\n",
              "      <td>False</td>\n",
              "    </tr>\n",
              "    <tr>\n",
              "      <th>6232</th>\n",
              "      <td>False</td>\n",
              "      <td>False</td>\n",
              "      <td>False</td>\n",
              "      <td>False</td>\n",
              "      <td>False</td>\n",
              "      <td>False</td>\n",
              "      <td>False</td>\n",
              "      <td>False</td>\n",
              "      <td>False</td>\n",
              "      <td>False</td>\n",
              "      <td>False</td>\n",
              "      <td>False</td>\n",
              "      <td>False</td>\n",
              "      <td>False</td>\n",
              "      <td>False</td>\n",
              "      <td>False</td>\n",
              "      <td>False</td>\n",
              "      <td>False</td>\n",
              "      <td>False</td>\n",
              "      <td>False</td>\n",
              "      <td>False</td>\n",
              "      <td>False</td>\n",
              "      <td>False</td>\n",
              "      <td>False</td>\n",
              "      <td>False</td>\n",
              "      <td>False</td>\n",
              "      <td>False</td>\n",
              "      <td>False</td>\n",
              "      <td>False</td>\n",
              "      <td>False</td>\n",
              "      <td>False</td>\n",
              "      <td>False</td>\n",
              "      <td>False</td>\n",
              "      <td>False</td>\n",
              "      <td>False</td>\n",
              "      <td>False</td>\n",
              "      <td>False</td>\n",
              "      <td>False</td>\n",
              "      <td>False</td>\n",
              "      <td>False</td>\n",
              "      <td>...</td>\n",
              "      <td>False</td>\n",
              "      <td>False</td>\n",
              "      <td>False</td>\n",
              "      <td>False</td>\n",
              "      <td>False</td>\n",
              "      <td>False</td>\n",
              "      <td>False</td>\n",
              "      <td>False</td>\n",
              "      <td>False</td>\n",
              "      <td>False</td>\n",
              "      <td>False</td>\n",
              "      <td>False</td>\n",
              "      <td>False</td>\n",
              "      <td>False</td>\n",
              "      <td>False</td>\n",
              "      <td>False</td>\n",
              "      <td>False</td>\n",
              "      <td>False</td>\n",
              "      <td>False</td>\n",
              "      <td>False</td>\n",
              "      <td>False</td>\n",
              "      <td>False</td>\n",
              "      <td>False</td>\n",
              "      <td>False</td>\n",
              "      <td>False</td>\n",
              "      <td>False</td>\n",
              "      <td>False</td>\n",
              "      <td>False</td>\n",
              "      <td>False</td>\n",
              "      <td>False</td>\n",
              "      <td>False</td>\n",
              "      <td>False</td>\n",
              "      <td>False</td>\n",
              "      <td>False</td>\n",
              "      <td>True</td>\n",
              "      <td>True</td>\n",
              "      <td>True</td>\n",
              "      <td>True</td>\n",
              "      <td>True</td>\n",
              "      <td>False</td>\n",
              "    </tr>\n",
              "    <tr>\n",
              "      <th>6233</th>\n",
              "      <td>False</td>\n",
              "      <td>False</td>\n",
              "      <td>False</td>\n",
              "      <td>False</td>\n",
              "      <td>False</td>\n",
              "      <td>False</td>\n",
              "      <td>False</td>\n",
              "      <td>False</td>\n",
              "      <td>False</td>\n",
              "      <td>False</td>\n",
              "      <td>False</td>\n",
              "      <td>False</td>\n",
              "      <td>False</td>\n",
              "      <td>False</td>\n",
              "      <td>False</td>\n",
              "      <td>False</td>\n",
              "      <td>False</td>\n",
              "      <td>False</td>\n",
              "      <td>False</td>\n",
              "      <td>False</td>\n",
              "      <td>False</td>\n",
              "      <td>False</td>\n",
              "      <td>False</td>\n",
              "      <td>False</td>\n",
              "      <td>False</td>\n",
              "      <td>False</td>\n",
              "      <td>False</td>\n",
              "      <td>False</td>\n",
              "      <td>False</td>\n",
              "      <td>False</td>\n",
              "      <td>False</td>\n",
              "      <td>False</td>\n",
              "      <td>False</td>\n",
              "      <td>False</td>\n",
              "      <td>False</td>\n",
              "      <td>False</td>\n",
              "      <td>False</td>\n",
              "      <td>False</td>\n",
              "      <td>False</td>\n",
              "      <td>False</td>\n",
              "      <td>...</td>\n",
              "      <td>False</td>\n",
              "      <td>False</td>\n",
              "      <td>False</td>\n",
              "      <td>False</td>\n",
              "      <td>False</td>\n",
              "      <td>False</td>\n",
              "      <td>False</td>\n",
              "      <td>False</td>\n",
              "      <td>False</td>\n",
              "      <td>False</td>\n",
              "      <td>False</td>\n",
              "      <td>False</td>\n",
              "      <td>False</td>\n",
              "      <td>False</td>\n",
              "      <td>False</td>\n",
              "      <td>False</td>\n",
              "      <td>False</td>\n",
              "      <td>False</td>\n",
              "      <td>False</td>\n",
              "      <td>False</td>\n",
              "      <td>False</td>\n",
              "      <td>False</td>\n",
              "      <td>False</td>\n",
              "      <td>False</td>\n",
              "      <td>False</td>\n",
              "      <td>False</td>\n",
              "      <td>False</td>\n",
              "      <td>False</td>\n",
              "      <td>False</td>\n",
              "      <td>False</td>\n",
              "      <td>False</td>\n",
              "      <td>False</td>\n",
              "      <td>False</td>\n",
              "      <td>False</td>\n",
              "      <td>False</td>\n",
              "      <td>False</td>\n",
              "      <td>False</td>\n",
              "      <td>False</td>\n",
              "      <td>False</td>\n",
              "      <td>True</td>\n",
              "    </tr>\n",
              "  </tbody>\n",
              "</table>\n",
              "<p>6234 rows × 29378 columns</p>\n",
              "</div>"
            ],
            "text/plain": [
              "      Alan Marriott   Andrew Toth  ...   Tim Steed   Matthew Perry\n",
              "0              True          True  ...       False           False\n",
              "1             False         False  ...       False           False\n",
              "2             False         False  ...       False           False\n",
              "3             False         False  ...       False           False\n",
              "4             False         False  ...       False           False\n",
              "...             ...           ...  ...         ...             ...\n",
              "6229          False         False  ...       False           False\n",
              "6230          False         False  ...       False           False\n",
              "6231          False         False  ...       False           False\n",
              "6232          False         False  ...        True           False\n",
              "6233          False         False  ...       False            True\n",
              "\n",
              "[6234 rows x 29378 columns]"
            ]
          },
          "metadata": {
            "tags": []
          },
          "execution_count": 33
        }
      ]
    },
    {
      "cell_type": "code",
      "metadata": {
        "id": "-Sab6B44rwOT",
        "outputId": "f9ee1dac-b18e-4488-acc2-6742b3b1b8be",
        "colab": {
          "base_uri": "https://localhost:8080/",
          "height": 218
        }
      },
      "source": [
        "netflix_df_percentages = netflix_df_cast.mean().sort_values(ascending=False) * 100\n",
        "netflix_df_percentages.head(10)"
      ],
      "execution_count": 34,
      "outputs": [
        {
          "output_type": "execute_result",
          "data": {
            "text/plain": [
              " Anupam Kher             0.481232\n",
              " Om Puri                 0.401027\n",
              "Shah Rukh Khan           0.384986\n",
              " Takahiro Sakurai        0.384986\n",
              " Boman Irani             0.368944\n",
              "                           ...   \n",
              " Pooneh Hajimohammadi    0.016041\n",
              " Sarah Buckland          0.016041\n",
              "André Holland            0.016041\n",
              " Melvin Gregg            0.016041\n",
              "Alan Marriott            0.016041\n",
              "Length: 29378, dtype: float64"
            ]
          },
          "metadata": {
            "tags": []
          },
          "execution_count": 34
        }
      ]
    },
    {
      "cell_type": "code",
      "metadata": {
        "id": "VxXiirWIu8aJ"
      },
      "source": [
        "netflix_df_top_percentages = netflix_df_percentages.head(10)"
      ],
      "execution_count": 40,
      "outputs": []
    },
    {
      "cell_type": "code",
      "metadata": {
        "id": "o774GB2YuVZL",
        "outputId": "27b61541-c85d-4808-b385-27bbdc7a866a",
        "colab": {
          "base_uri": "https://localhost:8080/",
          "height": 416
        }
      },
      "source": [
        "plt.figure(figsize=(10, 6))\n",
        "sns.barplot(netflix_df_top_percentages, netflix_df_top_percentages.index)\n",
        "plt.title(\"Artists with the Maximum content\");\n",
        "plt.xlabel('Percentage')\n",
        "plt.ylabel('Artists');"
      ],
      "execution_count": 44,
      "outputs": [
        {
          "output_type": "display_data",
          "data": {
            "image/png": "[encoded data removed]",
            "text/plain": [
              "<Figure size 720x432 with 1 Axes>"
            ]
          },
          "metadata": {
            "tags": []
          }
        }
      ]
    },
    {
      "cell_type": "markdown",
      "metadata": {
        "id": "Yq_fX08IdkKa"
      },
      "source": [
        "The artist with maximum percentage of content on Netflix to their name is Anupam Kher. The other artists which have a huge percentage of content under their work are Om Puri, Shah rukh Khan, Takahiro Sakurai and Boman Irani to name a few.\n",
        "\n",
        "The top 3 artists have Indian origin, signifying their expertise and fandom from Bollywood."
      ]
    },
    {
      "cell_type": "markdown",
      "metadata": {
        "id": "yhgyoDr1ehdL"
      },
      "source": [
        "###Q4\n",
        "Which TV Show has the max seasons? \n",
        "When was the first TV Show released?"
      ]
    },
    {
      "cell_type": "code",
      "metadata": {
        "id": "BvdO2wBFjcL7"
      },
      "source": [
        "import numpy as np"
      ],
      "execution_count": 70,
      "outputs": []
    },
    {
      "cell_type": "code",
      "metadata": {
        "id": "pWhGsAiyilMM",
        "outputId": "6ac83049-b006-4d07-965f-34a0872b6275",
        "colab": {
          "base_uri": "https://localhost:8080/",
          "height": 570
        }
      },
      "source": [
        "netflix_df_shows=netflix_df[netflix_df.type.eq('TV Show')]\n",
        "netflix_df_shows"
      ],
      "execution_count": 97,
      "outputs": [
        {
          "output_type": "execute_result",
          "data": {
            "text/html": [
              "<div>\n",
              "<style scoped>\n",
              "    .dataframe tbody tr th:only-of-type {\n",
              "        vertical-align: middle;\n",
              "    }\n",
              "\n",
              "    .dataframe tbody tr th {\n",
              "        vertical-align: top;\n",
              "    }\n",
              "\n",
              "    .dataframe thead th {\n",
              "        text-align: right;\n",
              "    }\n",
              "</style>\n",
              "<table border=\"1\" class=\"dataframe\">\n",
              "  <thead>\n",
              "    <tr style=\"text-align: right;\">\n",
              "      <th></th>\n",
              "      <th>show_id</th>\n",
              "      <th>type</th>\n",
              "      <th>title</th>\n",
              "      <th>country</th>\n",
              "      <th>cast</th>\n",
              "      <th>rating</th>\n",
              "      <th>duration</th>\n",
              "      <th>date_added</th>\n",
              "      <th>release_year</th>\n",
              "      <th>listed_in</th>\n",
              "    </tr>\n",
              "  </thead>\n",
              "  <tbody>\n",
              "    <tr>\n",
              "      <th>2</th>\n",
              "      <td>70234439</td>\n",
              "      <td>TV Show</td>\n",
              "      <td>Transformers Prime</td>\n",
              "      <td>United States</td>\n",
              "      <td>Peter Cullen, Sumalee Montano, Frank Welker, J...</td>\n",
              "      <td>TV-Y7-FV</td>\n",
              "      <td>1 Season</td>\n",
              "      <td>September 8, 2018</td>\n",
              "      <td>2013</td>\n",
              "      <td>Kids' TV</td>\n",
              "    </tr>\n",
              "    <tr>\n",
              "      <th>3</th>\n",
              "      <td>80058654</td>\n",
              "      <td>TV Show</td>\n",
              "      <td>Transformers: Robots in Disguise</td>\n",
              "      <td>United States</td>\n",
              "      <td>Will Friedle, Darren Criss, Constance Zimmer, ...</td>\n",
              "      <td>TV-Y7</td>\n",
              "      <td>1 Season</td>\n",
              "      <td>September 8, 2018</td>\n",
              "      <td>2016</td>\n",
              "      <td>Kids' TV</td>\n",
              "    </tr>\n",
              "    <tr>\n",
              "      <th>5</th>\n",
              "      <td>80163890</td>\n",
              "      <td>TV Show</td>\n",
              "      <td>Apaches</td>\n",
              "      <td>Spain</td>\n",
              "      <td>Alberto Ammann, Eloy Azorín, Verónica Echegui,...</td>\n",
              "      <td>TV-MA</td>\n",
              "      <td>1 Season</td>\n",
              "      <td>September 8, 2017</td>\n",
              "      <td>2016</td>\n",
              "      <td>Crime TV Shows, International TV Shows, Spanis...</td>\n",
              "    </tr>\n",
              "    <tr>\n",
              "      <th>8</th>\n",
              "      <td>80117902</td>\n",
              "      <td>TV Show</td>\n",
              "      <td>Fire Chasers</td>\n",
              "      <td>United States</td>\n",
              "      <td>NaN</td>\n",
              "      <td>TV-MA</td>\n",
              "      <td>1 Season</td>\n",
              "      <td>September 8, 2017</td>\n",
              "      <td>2017</td>\n",
              "      <td>Docuseries, Science &amp; Nature TV</td>\n",
              "    </tr>\n",
              "    <tr>\n",
              "      <th>26</th>\n",
              "      <td>80244601</td>\n",
              "      <td>TV Show</td>\n",
              "      <td>Castle of Stars</td>\n",
              "      <td>NaN</td>\n",
              "      <td>Chaiyapol Pupart, Jintanutda Lummakanon, Worra...</td>\n",
              "      <td>TV-14</td>\n",
              "      <td>1 Season</td>\n",
              "      <td>September 7, 2018</td>\n",
              "      <td>2015</td>\n",
              "      <td>International TV Shows, Romantic TV Shows, TV ...</td>\n",
              "    </tr>\n",
              "    <tr>\n",
              "      <th>...</th>\n",
              "      <td>...</td>\n",
              "      <td>...</td>\n",
              "      <td>...</td>\n",
              "      <td>...</td>\n",
              "      <td>...</td>\n",
              "      <td>...</td>\n",
              "      <td>...</td>\n",
              "      <td>...</td>\n",
              "      <td>...</td>\n",
              "      <td>...</td>\n",
              "    </tr>\n",
              "    <tr>\n",
              "      <th>6228</th>\n",
              "      <td>80159925</td>\n",
              "      <td>TV Show</td>\n",
              "      <td>Kikoriki</td>\n",
              "      <td>NaN</td>\n",
              "      <td>Igor Dmitriev</td>\n",
              "      <td>TV-Y</td>\n",
              "      <td>2 Seasons</td>\n",
              "      <td>NaN</td>\n",
              "      <td>2010</td>\n",
              "      <td>Kids' TV</td>\n",
              "    </tr>\n",
              "    <tr>\n",
              "      <th>6229</th>\n",
              "      <td>80000063</td>\n",
              "      <td>TV Show</td>\n",
              "      <td>Red vs. Blue</td>\n",
              "      <td>United States</td>\n",
              "      <td>Burnie Burns, Jason Saldaña, Gustavo Sorola, G...</td>\n",
              "      <td>NR</td>\n",
              "      <td>13 Seasons</td>\n",
              "      <td>NaN</td>\n",
              "      <td>2015</td>\n",
              "      <td>TV Action &amp; Adventure, TV Comedies, TV Sci-Fi ...</td>\n",
              "    </tr>\n",
              "    <tr>\n",
              "      <th>6230</th>\n",
              "      <td>70286564</td>\n",
              "      <td>TV Show</td>\n",
              "      <td>Maron</td>\n",
              "      <td>United States</td>\n",
              "      <td>Marc Maron, Judd Hirsch, Josh Brener, Nora Zeh...</td>\n",
              "      <td>TV-MA</td>\n",
              "      <td>4 Seasons</td>\n",
              "      <td>NaN</td>\n",
              "      <td>2016</td>\n",
              "      <td>TV Comedies</td>\n",
              "    </tr>\n",
              "    <tr>\n",
              "      <th>6232</th>\n",
              "      <td>70281022</td>\n",
              "      <td>TV Show</td>\n",
              "      <td>A Young Doctor's Notebook and Other Stories</td>\n",
              "      <td>United Kingdom</td>\n",
              "      <td>Daniel Radcliffe, Jon Hamm, Adam Godley, Chris...</td>\n",
              "      <td>TV-MA</td>\n",
              "      <td>2 Seasons</td>\n",
              "      <td>NaN</td>\n",
              "      <td>2013</td>\n",
              "      <td>British TV Shows, TV Comedies, TV Dramas</td>\n",
              "    </tr>\n",
              "    <tr>\n",
              "      <th>6233</th>\n",
              "      <td>70153404</td>\n",
              "      <td>TV Show</td>\n",
              "      <td>Friends</td>\n",
              "      <td>United States</td>\n",
              "      <td>Jennifer Aniston, Courteney Cox, Lisa Kudrow, ...</td>\n",
              "      <td>TV-14</td>\n",
              "      <td>10 Seasons</td>\n",
              "      <td>NaN</td>\n",
              "      <td>2003</td>\n",
              "      <td>Classic &amp; Cult TV, TV Comedies</td>\n",
              "    </tr>\n",
              "  </tbody>\n",
              "</table>\n",
              "<p>1969 rows × 10 columns</p>\n",
              "</div>"
            ],
            "text/plain": [
              "       show_id  ...                                          listed_in\n",
              "2     70234439  ...                                           Kids' TV\n",
              "3     80058654  ...                                           Kids' TV\n",
              "5     80163890  ...  Crime TV Shows, International TV Shows, Spanis...\n",
              "8     80117902  ...                    Docuseries, Science & Nature TV\n",
              "26    80244601  ...  International TV Shows, Romantic TV Shows, TV ...\n",
              "...        ...  ...                                                ...\n",
              "6228  80159925  ...                                           Kids' TV\n",
              "6229  80000063  ...  TV Action & Adventure, TV Comedies, TV Sci-Fi ...\n",
              "6230  70286564  ...                                        TV Comedies\n",
              "6232  70281022  ...           British TV Shows, TV Comedies, TV Dramas\n",
              "6233  70153404  ...                     Classic & Cult TV, TV Comedies\n",
              "\n",
              "[1969 rows x 10 columns]"
            ]
          },
          "metadata": {
            "tags": []
          },
          "execution_count": 97
        }
      ]
    },
    {
      "cell_type": "code",
      "metadata": {
        "id": "lgvSfumQi3cH",
        "outputId": "a8d52bd3-d88c-4540-f8b5-78fa84dd02db",
        "colab": {
          "base_uri": "https://localhost:8080/",
          "height": 670
        }
      },
      "source": [
        "netflix_df_shows['duration'] = netflix_df_shows['duration'].apply(lambda x: int(str(x)[:-7]))\n",
        "netflix_df_shows"
      ],
      "execution_count": 98,
      "outputs": [
        {
          "output_type": "stream",
          "text": [
            "/usr/local/lib/python3.6/dist-packages/ipykernel_launcher.py:1: SettingWithCopyWarning: \n",
            "A value is trying to be set on a copy of a slice from a DataFrame.\n",
            "Try using .loc[row_indexer,col_indexer] = value instead\n",
            "\n",
            "See the caveats in the documentation: https://pandas.pydata.org/pandas-docs/stable/user_guide/indexing.html#returning-a-view-versus-a-copy\n",
            "  \"\"\"Entry point for launching an IPython kernel.\n"
          ],
          "name": "stderr"
        },
        {
          "output_type": "execute_result",
          "data": {
            "text/html": [
              "<div>\n",
              "<style scoped>\n",
              "    .dataframe tbody tr th:only-of-type {\n",
              "        vertical-align: middle;\n",
              "    }\n",
              "\n",
              "    .dataframe tbody tr th {\n",
              "        vertical-align: top;\n",
              "    }\n",
              "\n",
              "    .dataframe thead th {\n",
              "        text-align: right;\n",
              "    }\n",
              "</style>\n",
              "<table border=\"1\" class=\"dataframe\">\n",
              "  <thead>\n",
              "    <tr style=\"text-align: right;\">\n",
              "      <th></th>\n",
              "      <th>show_id</th>\n",
              "      <th>type</th>\n",
              "      <th>title</th>\n",
              "      <th>country</th>\n",
              "      <th>cast</th>\n",
              "      <th>rating</th>\n",
              "      <th>duration</th>\n",
              "      <th>date_added</th>\n",
              "      <th>release_year</th>\n",
              "      <th>listed_in</th>\n",
              "    </tr>\n",
              "  </thead>\n",
              "  <tbody>\n",
              "    <tr>\n",
              "      <th>2</th>\n",
              "      <td>70234439</td>\n",
              "      <td>TV Show</td>\n",
              "      <td>Transformers Prime</td>\n",
              "      <td>United States</td>\n",
              "      <td>Peter Cullen, Sumalee Montano, Frank Welker, J...</td>\n",
              "      <td>TV-Y7-FV</td>\n",
              "      <td>1</td>\n",
              "      <td>September 8, 2018</td>\n",
              "      <td>2013</td>\n",
              "      <td>Kids' TV</td>\n",
              "    </tr>\n",
              "    <tr>\n",
              "      <th>3</th>\n",
              "      <td>80058654</td>\n",
              "      <td>TV Show</td>\n",
              "      <td>Transformers: Robots in Disguise</td>\n",
              "      <td>United States</td>\n",
              "      <td>Will Friedle, Darren Criss, Constance Zimmer, ...</td>\n",
              "      <td>TV-Y7</td>\n",
              "      <td>1</td>\n",
              "      <td>September 8, 2018</td>\n",
              "      <td>2016</td>\n",
              "      <td>Kids' TV</td>\n",
              "    </tr>\n",
              "    <tr>\n",
              "      <th>5</th>\n",
              "      <td>80163890</td>\n",
              "      <td>TV Show</td>\n",
              "      <td>Apaches</td>\n",
              "      <td>Spain</td>\n",
              "      <td>Alberto Ammann, Eloy Azorín, Verónica Echegui,...</td>\n",
              "      <td>TV-MA</td>\n",
              "      <td>1</td>\n",
              "      <td>September 8, 2017</td>\n",
              "      <td>2016</td>\n",
              "      <td>Crime TV Shows, International TV Shows, Spanis...</td>\n",
              "    </tr>\n",
              "    <tr>\n",
              "      <th>8</th>\n",
              "      <td>80117902</td>\n",
              "      <td>TV Show</td>\n",
              "      <td>Fire Chasers</td>\n",
              "      <td>United States</td>\n",
              "      <td>NaN</td>\n",
              "      <td>TV-MA</td>\n",
              "      <td>1</td>\n",
              "      <td>September 8, 2017</td>\n",
              "      <td>2017</td>\n",
              "      <td>Docuseries, Science &amp; Nature TV</td>\n",
              "    </tr>\n",
              "    <tr>\n",
              "      <th>26</th>\n",
              "      <td>80244601</td>\n",
              "      <td>TV Show</td>\n",
              "      <td>Castle of Stars</td>\n",
              "      <td>NaN</td>\n",
              "      <td>Chaiyapol Pupart, Jintanutda Lummakanon, Worra...</td>\n",
              "      <td>TV-14</td>\n",
              "      <td>1</td>\n",
              "      <td>September 7, 2018</td>\n",
              "      <td>2015</td>\n",
              "      <td>International TV Shows, Romantic TV Shows, TV ...</td>\n",
              "    </tr>\n",
              "    <tr>\n",
              "      <th>...</th>\n",
              "      <td>...</td>\n",
              "      <td>...</td>\n",
              "      <td>...</td>\n",
              "      <td>...</td>\n",
              "      <td>...</td>\n",
              "      <td>...</td>\n",
              "      <td>...</td>\n",
              "      <td>...</td>\n",
              "      <td>...</td>\n",
              "      <td>...</td>\n",
              "    </tr>\n",
              "    <tr>\n",
              "      <th>6228</th>\n",
              "      <td>80159925</td>\n",
              "      <td>TV Show</td>\n",
              "      <td>Kikoriki</td>\n",
              "      <td>NaN</td>\n",
              "      <td>Igor Dmitriev</td>\n",
              "      <td>TV-Y</td>\n",
              "      <td>2</td>\n",
              "      <td>NaN</td>\n",
              "      <td>2010</td>\n",
              "      <td>Kids' TV</td>\n",
              "    </tr>\n",
              "    <tr>\n",
              "      <th>6229</th>\n",
              "      <td>80000063</td>\n",
              "      <td>TV Show</td>\n",
              "      <td>Red vs. Blue</td>\n",
              "      <td>United States</td>\n",
              "      <td>Burnie Burns, Jason Saldaña, Gustavo Sorola, G...</td>\n",
              "      <td>NR</td>\n",
              "      <td>13</td>\n",
              "      <td>NaN</td>\n",
              "      <td>2015</td>\n",
              "      <td>TV Action &amp; Adventure, TV Comedies, TV Sci-Fi ...</td>\n",
              "    </tr>\n",
              "    <tr>\n",
              "      <th>6230</th>\n",
              "      <td>70286564</td>\n",
              "      <td>TV Show</td>\n",
              "      <td>Maron</td>\n",
              "      <td>United States</td>\n",
              "      <td>Marc Maron, Judd Hirsch, Josh Brener, Nora Zeh...</td>\n",
              "      <td>TV-MA</td>\n",
              "      <td>4</td>\n",
              "      <td>NaN</td>\n",
              "      <td>2016</td>\n",
              "      <td>TV Comedies</td>\n",
              "    </tr>\n",
              "    <tr>\n",
              "      <th>6232</th>\n",
              "      <td>70281022</td>\n",
              "      <td>TV Show</td>\n",
              "      <td>A Young Doctor's Notebook and Other Stories</td>\n",
              "      <td>United Kingdom</td>\n",
              "      <td>Daniel Radcliffe, Jon Hamm, Adam Godley, Chris...</td>\n",
              "      <td>TV-MA</td>\n",
              "      <td>2</td>\n",
              "      <td>NaN</td>\n",
              "      <td>2013</td>\n",
              "      <td>British TV Shows, TV Comedies, TV Dramas</td>\n",
              "    </tr>\n",
              "    <tr>\n",
              "      <th>6233</th>\n",
              "      <td>70153404</td>\n",
              "      <td>TV Show</td>\n",
              "      <td>Friends</td>\n",
              "      <td>United States</td>\n",
              "      <td>Jennifer Aniston, Courteney Cox, Lisa Kudrow, ...</td>\n",
              "      <td>TV-14</td>\n",
              "      <td>10</td>\n",
              "      <td>NaN</td>\n",
              "      <td>2003</td>\n",
              "      <td>Classic &amp; Cult TV, TV Comedies</td>\n",
              "    </tr>\n",
              "  </tbody>\n",
              "</table>\n",
              "<p>1969 rows × 10 columns</p>\n",
              "</div>"
            ],
            "text/plain": [
              "       show_id  ...                                          listed_in\n",
              "2     70234439  ...                                           Kids' TV\n",
              "3     80058654  ...                                           Kids' TV\n",
              "5     80163890  ...  Crime TV Shows, International TV Shows, Spanis...\n",
              "8     80117902  ...                    Docuseries, Science & Nature TV\n",
              "26    80244601  ...  International TV Shows, Romantic TV Shows, TV ...\n",
              "...        ...  ...                                                ...\n",
              "6228  80159925  ...                                           Kids' TV\n",
              "6229  80000063  ...  TV Action & Adventure, TV Comedies, TV Sci-Fi ...\n",
              "6230  70286564  ...                                        TV Comedies\n",
              "6232  70281022  ...           British TV Shows, TV Comedies, TV Dramas\n",
              "6233  70153404  ...                     Classic & Cult TV, TV Comedies\n",
              "\n",
              "[1969 rows x 10 columns]"
            ]
          },
          "metadata": {
            "tags": []
          },
          "execution_count": 98
        }
      ]
    },
    {
      "cell_type": "code",
      "metadata": {
        "id": "x6HjA1nsfIdl",
        "outputId": "f92a22b7-47e4-4659-fe7e-337dd4683b1a",
        "colab": {
          "base_uri": "https://localhost:8080/",
          "height": 284
        }
      },
      "source": [
        "netflix_df_shows.describe()"
      ],
      "execution_count": 75,
      "outputs": [
        {
          "output_type": "execute_result",
          "data": {
            "text/html": [
              "<div>\n",
              "<style scoped>\n",
              "    .dataframe tbody tr th:only-of-type {\n",
              "        vertical-align: middle;\n",
              "    }\n",
              "\n",
              "    .dataframe tbody tr th {\n",
              "        vertical-align: top;\n",
              "    }\n",
              "\n",
              "    .dataframe thead th {\n",
              "        text-align: right;\n",
              "    }\n",
              "</style>\n",
              "<table border=\"1\" class=\"dataframe\">\n",
              "  <thead>\n",
              "    <tr style=\"text-align: right;\">\n",
              "      <th></th>\n",
              "      <th>show_id</th>\n",
              "      <th>duration</th>\n",
              "      <th>release_year</th>\n",
              "    </tr>\n",
              "  </thead>\n",
              "  <tbody>\n",
              "    <tr>\n",
              "      <th>count</th>\n",
              "      <td>1.969000e+03</td>\n",
              "      <td>1969.000000</td>\n",
              "      <td>1969.000000</td>\n",
              "    </tr>\n",
              "    <tr>\n",
              "      <th>mean</th>\n",
              "      <td>7.904892e+07</td>\n",
              "      <td>1.779584</td>\n",
              "      <td>2015.536313</td>\n",
              "    </tr>\n",
              "    <tr>\n",
              "      <th>std</th>\n",
              "      <td>3.462549e+06</td>\n",
              "      <td>1.624936</td>\n",
              "      <td>5.799568</td>\n",
              "    </tr>\n",
              "    <tr>\n",
              "      <th>min</th>\n",
              "      <td>6.003679e+07</td>\n",
              "      <td>1.000000</td>\n",
              "      <td>1925.000000</td>\n",
              "    </tr>\n",
              "    <tr>\n",
              "      <th>25%</th>\n",
              "      <td>8.009178e+07</td>\n",
              "      <td>1.000000</td>\n",
              "      <td>2015.000000</td>\n",
              "    </tr>\n",
              "    <tr>\n",
              "      <th>50%</th>\n",
              "      <td>8.017572e+07</td>\n",
              "      <td>1.000000</td>\n",
              "      <td>2017.000000</td>\n",
              "    </tr>\n",
              "    <tr>\n",
              "      <th>75%</th>\n",
              "      <td>8.023986e+07</td>\n",
              "      <td>2.000000</td>\n",
              "      <td>2018.000000</td>\n",
              "    </tr>\n",
              "    <tr>\n",
              "      <th>max</th>\n",
              "      <td>8.123560e+07</td>\n",
              "      <td>15.000000</td>\n",
              "      <td>2020.000000</td>\n",
              "    </tr>\n",
              "  </tbody>\n",
              "</table>\n",
              "</div>"
            ],
            "text/plain": [
              "            show_id     duration  release_year\n",
              "count  1.969000e+03  1969.000000   1969.000000\n",
              "mean   7.904892e+07     1.779584   2015.536313\n",
              "std    3.462549e+06     1.624936      5.799568\n",
              "min    6.003679e+07     1.000000   1925.000000\n",
              "25%    8.009178e+07     1.000000   2015.000000\n",
              "50%    8.017572e+07     1.000000   2017.000000\n",
              "75%    8.023986e+07     2.000000   2018.000000\n",
              "max    8.123560e+07    15.000000   2020.000000"
            ]
          },
          "metadata": {
            "tags": []
          },
          "execution_count": 75
        }
      ]
    },
    {
      "cell_type": "markdown",
      "metadata": {
        "id": "qKpsFH_3nRNR"
      },
      "source": [
        "the first TV Show stats :"
      ]
    },
    {
      "cell_type": "code",
      "metadata": {
        "id": "euZgk2qrm14A",
        "outputId": "4a031681-776f-4d75-a703-90688da92f20",
        "colab": {
          "base_uri": "https://localhost:8080/",
          "height": 77
        }
      },
      "source": [
        "netflix_df_shows[netflix_df_shows.release_year.eq(1925)]"
      ],
      "execution_count": 101,
      "outputs": [
        {
          "output_type": "execute_result",
          "data": {
            "text/html": [
              "<div>\n",
              "<style scoped>\n",
              "    .dataframe tbody tr th:only-of-type {\n",
              "        vertical-align: middle;\n",
              "    }\n",
              "\n",
              "    .dataframe tbody tr th {\n",
              "        vertical-align: top;\n",
              "    }\n",
              "\n",
              "    .dataframe thead th {\n",
              "        text-align: right;\n",
              "    }\n",
              "</style>\n",
              "<table border=\"1\" class=\"dataframe\">\n",
              "  <thead>\n",
              "    <tr style=\"text-align: right;\">\n",
              "      <th></th>\n",
              "      <th>show_id</th>\n",
              "      <th>type</th>\n",
              "      <th>title</th>\n",
              "      <th>country</th>\n",
              "      <th>cast</th>\n",
              "      <th>rating</th>\n",
              "      <th>duration</th>\n",
              "      <th>date_added</th>\n",
              "      <th>release_year</th>\n",
              "      <th>listed_in</th>\n",
              "    </tr>\n",
              "  </thead>\n",
              "  <tbody>\n",
              "    <tr>\n",
              "      <th>4292</th>\n",
              "      <td>81030762</td>\n",
              "      <td>TV Show</td>\n",
              "      <td>Pioneers: First Women Filmmakers*</td>\n",
              "      <td>NaN</td>\n",
              "      <td>NaN</td>\n",
              "      <td>TV-PG</td>\n",
              "      <td>1</td>\n",
              "      <td>December 30, 2018</td>\n",
              "      <td>1925</td>\n",
              "      <td>TV Shows</td>\n",
              "    </tr>\n",
              "  </tbody>\n",
              "</table>\n",
              "</div>"
            ],
            "text/plain": [
              "       show_id     type  ... release_year listed_in\n",
              "4292  81030762  TV Show  ...         1925  TV Shows\n",
              "\n",
              "[1 rows x 10 columns]"
            ]
          },
          "metadata": {
            "tags": []
          },
          "execution_count": 101
        }
      ]
    },
    {
      "cell_type": "code",
      "metadata": {
        "id": "um2GE9BIlFCw",
        "outputId": "e9868807-350e-43f5-ff68-899634b4344e",
        "colab": {
          "base_uri": "https://localhost:8080/",
          "height": 286
        }
      },
      "source": [
        "netflix_df_shows.duration.value_counts()"
      ],
      "execution_count": 89,
      "outputs": [
        {
          "output_type": "execute_result",
          "data": {
            "text/plain": [
              "1     1321\n",
              "2      304\n",
              "3      158\n",
              "4       61\n",
              "5       46\n",
              "6       22\n",
              "7       21\n",
              "8       16\n",
              "9        7\n",
              "11       3\n",
              "10       3\n",
              "15       2\n",
              "13       2\n",
              "12       2\n",
              "14       1\n",
              "Name: duration, dtype: int64"
            ]
          },
          "metadata": {
            "tags": []
          },
          "execution_count": 89
        }
      ]
    },
    {
      "cell_type": "code",
      "metadata": {
        "id": "rEVlU-sNi_T1",
        "outputId": "9675023d-e7ef-493e-c926-efb0183c08c6",
        "colab": {
          "base_uri": "https://localhost:8080/",
          "height": 362
        }
      },
      "source": [
        "plt.hist(netflix_df_shows.duration, bins=np.arange(1,16),color=\"#848484\")\n",
        "plt.title(\"Duration of TV Shows\")\n",
        "plt.xlabel(\"Number of Seasons\")\n",
        "plt.ylabel(\"Count\");"
      ],
      "execution_count": 90,
      "outputs": [
        {
          "output_type": "display_data",
          "data": {
            "image/png": "[encoded data removed]",
            "text/plain": [
              "<Figure size 648x360 with 1 Axes>"
            ]
          },
          "metadata": {
            "tags": []
          }
        }
      ]
    },
    {
      "cell_type": "code",
      "metadata": {
        "id": "fKJvhKvnobUu",
        "outputId": "1bedaee1-68f0-4f59-d188-fee867cfe391",
        "colab": {
          "base_uri": "https://localhost:8080/",
          "height": 106
        }
      },
      "source": [
        "netflix_df_shows[netflix_df_shows.duration.eq(15)]"
      ],
      "execution_count": 102,
      "outputs": [
        {
          "output_type": "execute_result",
          "data": {
            "text/html": [
              "<div>\n",
              "<style scoped>\n",
              "    .dataframe tbody tr th:only-of-type {\n",
              "        vertical-align: middle;\n",
              "    }\n",
              "\n",
              "    .dataframe tbody tr th {\n",
              "        vertical-align: top;\n",
              "    }\n",
              "\n",
              "    .dataframe thead th {\n",
              "        text-align: right;\n",
              "    }\n",
              "</style>\n",
              "<table border=\"1\" class=\"dataframe\">\n",
              "  <thead>\n",
              "    <tr style=\"text-align: right;\">\n",
              "      <th></th>\n",
              "      <th>show_id</th>\n",
              "      <th>type</th>\n",
              "      <th>title</th>\n",
              "      <th>country</th>\n",
              "      <th>cast</th>\n",
              "      <th>rating</th>\n",
              "      <th>duration</th>\n",
              "      <th>date_added</th>\n",
              "      <th>release_year</th>\n",
              "      <th>listed_in</th>\n",
              "    </tr>\n",
              "  </thead>\n",
              "  <tbody>\n",
              "    <tr>\n",
              "      <th>5908</th>\n",
              "      <td>70140391</td>\n",
              "      <td>TV Show</td>\n",
              "      <td>Grey's Anatomy</td>\n",
              "      <td>United States</td>\n",
              "      <td>Ellen Pompeo, Sandra Oh, Katherine Heigl, Just...</td>\n",
              "      <td>TV-14</td>\n",
              "      <td>15</td>\n",
              "      <td>June 15, 2019</td>\n",
              "      <td>2018</td>\n",
              "      <td>Romantic TV Shows, TV Dramas</td>\n",
              "    </tr>\n",
              "    <tr>\n",
              "      <th>5974</th>\n",
              "      <td>70142386</td>\n",
              "      <td>TV Show</td>\n",
              "      <td>NCIS</td>\n",
              "      <td>United States</td>\n",
              "      <td>Mark Harmon, Michael Weatherly, Pauley Perrett...</td>\n",
              "      <td>TV-14</td>\n",
              "      <td>15</td>\n",
              "      <td>July 1, 2018</td>\n",
              "      <td>2017</td>\n",
              "      <td>Crime TV Shows, TV Dramas, TV Mysteries</td>\n",
              "    </tr>\n",
              "  </tbody>\n",
              "</table>\n",
              "</div>"
            ],
            "text/plain": [
              "       show_id     type  ... release_year                                listed_in\n",
              "5908  70140391  TV Show  ...         2018             Romantic TV Shows, TV Dramas\n",
              "5974  70142386  TV Show  ...         2017  Crime TV Shows, TV Dramas, TV Mysteries\n",
              "\n",
              "[2 rows x 10 columns]"
            ]
          },
          "metadata": {
            "tags": []
          },
          "execution_count": 102
        }
      ]
    },
    {
      "cell_type": "markdown",
      "metadata": {
        "id": "c2RvvD66kjk8"
      },
      "source": [
        "The min number of seasons for a show in this Netflix dataset is `1` and maximum is `15`. \n",
        "\n",
        "As clearly evident from the above graph, majority shows have only 1 season and the curve flattens as we approach higher number of seasons.\n",
        "\n",
        "The first TV Show was released in `1925`, Pioneers: First Women Filmmakers. It had 1 season and was added on Netflix on December 30, 2018. \n",
        "\n",
        "The TV Shows `Grey's Anatomy` and `NCIS` have the max number of seasons (15)."
      ]
    },
    {
      "cell_type": "markdown",
      "metadata": {
        "id": "H5cZ_twNpNy0"
      },
      "source": [
        "###Q5\n",
        "What is the avg duration of a movie from the DRAMA category?"
      ]
    },
    {
      "cell_type": "code",
      "metadata": {
        "id": "bn4I1NwPplO9",
        "outputId": "fed1dd95-2615-4c18-8ee9-1360b8b02d92",
        "colab": {
          "base_uri": "https://localhost:8080/",
          "height": 402
        }
      },
      "source": [
        "netflix_df_listed_in"
      ],
      "execution_count": 118,
      "outputs": [
        {
          "output_type": "execute_result",
          "data": {
            "text/html": [
              "<div>\n",
              "<style scoped>\n",
              "    .dataframe tbody tr th:only-of-type {\n",
              "        vertical-align: middle;\n",
              "    }\n",
              "\n",
              "    .dataframe tbody tr th {\n",
              "        vertical-align: top;\n",
              "    }\n",
              "\n",
              "    .dataframe thead th {\n",
              "        text-align: right;\n",
              "    }\n",
              "</style>\n",
              "<table border=\"1\" class=\"dataframe\">\n",
              "  <thead>\n",
              "    <tr style=\"text-align: right;\">\n",
              "      <th></th>\n",
              "      <th>title</th>\n",
              "      <th>show_id</th>\n",
              "      <th>country</th>\n",
              "      <th>type</th>\n",
              "      <th>rating</th>\n",
              "      <th>duration</th>\n",
              "      <th>date_added</th>\n",
              "      <th>release_year</th>\n",
              "      <th>listed_in</th>\n",
              "    </tr>\n",
              "  </thead>\n",
              "  <tbody>\n",
              "    <tr>\n",
              "      <th>0</th>\n",
              "      <td>Norm of the North: King Sized Adventure</td>\n",
              "      <td>81145628</td>\n",
              "      <td>United States, India, South Korea, China</td>\n",
              "      <td>Movie</td>\n",
              "      <td>TV-PG</td>\n",
              "      <td>90 min</td>\n",
              "      <td>September 9, 2019</td>\n",
              "      <td>2019</td>\n",
              "      <td>Children &amp; Family Movies</td>\n",
              "    </tr>\n",
              "    <tr>\n",
              "      <th>1</th>\n",
              "      <td>Norm of the North: King Sized Adventure</td>\n",
              "      <td>81145628</td>\n",
              "      <td>United States, India, South Korea, China</td>\n",
              "      <td>Movie</td>\n",
              "      <td>TV-PG</td>\n",
              "      <td>90 min</td>\n",
              "      <td>September 9, 2019</td>\n",
              "      <td>2019</td>\n",
              "      <td>Comedies</td>\n",
              "    </tr>\n",
              "    <tr>\n",
              "      <th>2</th>\n",
              "      <td>Jandino: Whatever it Takes</td>\n",
              "      <td>80117401</td>\n",
              "      <td>United Kingdom</td>\n",
              "      <td>Movie</td>\n",
              "      <td>TV-MA</td>\n",
              "      <td>94 min</td>\n",
              "      <td>September 9, 2016</td>\n",
              "      <td>2016</td>\n",
              "      <td>Stand-Up Comedy</td>\n",
              "    </tr>\n",
              "    <tr>\n",
              "      <th>3</th>\n",
              "      <td>Transformers Prime</td>\n",
              "      <td>70234439</td>\n",
              "      <td>United States</td>\n",
              "      <td>TV Show</td>\n",
              "      <td>TV-Y7-FV</td>\n",
              "      <td>1 Season</td>\n",
              "      <td>September 8, 2018</td>\n",
              "      <td>2013</td>\n",
              "      <td>Kids' TV</td>\n",
              "    </tr>\n",
              "    <tr>\n",
              "      <th>4</th>\n",
              "      <td>Transformers: Robots in Disguise</td>\n",
              "      <td>80058654</td>\n",
              "      <td>United States</td>\n",
              "      <td>TV Show</td>\n",
              "      <td>TV-Y7</td>\n",
              "      <td>1 Season</td>\n",
              "      <td>September 8, 2018</td>\n",
              "      <td>2016</td>\n",
              "      <td>Kids' TV</td>\n",
              "    </tr>\n",
              "    <tr>\n",
              "      <th>...</th>\n",
              "      <td>...</td>\n",
              "      <td>...</td>\n",
              "      <td>...</td>\n",
              "      <td>...</td>\n",
              "      <td>...</td>\n",
              "      <td>...</td>\n",
              "      <td>...</td>\n",
              "      <td>...</td>\n",
              "      <td>...</td>\n",
              "    </tr>\n",
              "    <tr>\n",
              "      <th>13665</th>\n",
              "      <td>A Young Doctor's Notebook and Other Stories</td>\n",
              "      <td>70281022</td>\n",
              "      <td>United Kingdom</td>\n",
              "      <td>TV Show</td>\n",
              "      <td>TV-MA</td>\n",
              "      <td>2 Seasons</td>\n",
              "      <td>NaN</td>\n",
              "      <td>2013</td>\n",
              "      <td>British TV Shows</td>\n",
              "    </tr>\n",
              "    <tr>\n",
              "      <th>13666</th>\n",
              "      <td>A Young Doctor's Notebook and Other Stories</td>\n",
              "      <td>70281022</td>\n",
              "      <td>United Kingdom</td>\n",
              "      <td>TV Show</td>\n",
              "      <td>TV-MA</td>\n",
              "      <td>2 Seasons</td>\n",
              "      <td>NaN</td>\n",
              "      <td>2013</td>\n",
              "      <td>TV Comedies</td>\n",
              "    </tr>\n",
              "    <tr>\n",
              "      <th>13667</th>\n",
              "      <td>A Young Doctor's Notebook and Other Stories</td>\n",
              "      <td>70281022</td>\n",
              "      <td>United Kingdom</td>\n",
              "      <td>TV Show</td>\n",
              "      <td>TV-MA</td>\n",
              "      <td>2 Seasons</td>\n",
              "      <td>NaN</td>\n",
              "      <td>2013</td>\n",
              "      <td>TV Dramas</td>\n",
              "    </tr>\n",
              "    <tr>\n",
              "      <th>13668</th>\n",
              "      <td>Friends</td>\n",
              "      <td>70153404</td>\n",
              "      <td>United States</td>\n",
              "      <td>TV Show</td>\n",
              "      <td>TV-14</td>\n",
              "      <td>10 Seasons</td>\n",
              "      <td>NaN</td>\n",
              "      <td>2003</td>\n",
              "      <td>Classic &amp; Cult TV</td>\n",
              "    </tr>\n",
              "    <tr>\n",
              "      <th>13669</th>\n",
              "      <td>Friends</td>\n",
              "      <td>70153404</td>\n",
              "      <td>United States</td>\n",
              "      <td>TV Show</td>\n",
              "      <td>TV-14</td>\n",
              "      <td>10 Seasons</td>\n",
              "      <td>NaN</td>\n",
              "      <td>2003</td>\n",
              "      <td>TV Comedies</td>\n",
              "    </tr>\n",
              "  </tbody>\n",
              "</table>\n",
              "<p>13670 rows × 9 columns</p>\n",
              "</div>"
            ],
            "text/plain": [
              "                                             title  ...                 listed_in\n",
              "0          Norm of the North: King Sized Adventure  ...  Children & Family Movies\n",
              "1          Norm of the North: King Sized Adventure  ...                  Comedies\n",
              "2                       Jandino: Whatever it Takes  ...           Stand-Up Comedy\n",
              "3                               Transformers Prime  ...                  Kids' TV\n",
              "4                 Transformers: Robots in Disguise  ...                  Kids' TV\n",
              "...                                            ...  ...                       ...\n",
              "13665  A Young Doctor's Notebook and Other Stories  ...          British TV Shows\n",
              "13666  A Young Doctor's Notebook and Other Stories  ...               TV Comedies\n",
              "13667  A Young Doctor's Notebook and Other Stories  ...                 TV Dramas\n",
              "13668                                      Friends  ...         Classic & Cult TV\n",
              "13669                                      Friends  ...               TV Comedies\n",
              "\n",
              "[13670 rows x 9 columns]"
            ]
          },
          "metadata": {
            "tags": []
          },
          "execution_count": 118
        }
      ]
    },
    {
      "cell_type": "code",
      "metadata": {
        "id": "Y7ewBMwUqHod",
        "outputId": "470875f8-005a-420d-a46a-b07956d8359a",
        "colab": {
          "base_uri": "https://localhost:8080/",
          "height": 218
        }
      },
      "source": [
        "netflix_df_listed_in.listed_in.value_counts()"
      ],
      "execution_count": 112,
      "outputs": [
        {
          "output_type": "execute_result",
          "data": {
            "text/plain": [
              " International Movies        1842\n",
              "Dramas                       1077\n",
              "Comedies                      803\n",
              "Documentaries                 644\n",
              "Action & Adventure            597\n",
              "                             ... \n",
              " Classic & Cult TV              5\n",
              "Romantic Movies                 2\n",
              "Spanish-Language TV Shows       1\n",
              "Sports Movies                   1\n",
              "TV Sci-Fi & Fantasy             1\n",
              "Name: listed_in, Length: 72, dtype: int64"
            ]
          },
          "metadata": {
            "tags": []
          },
          "execution_count": 112
        }
      ]
    },
    {
      "cell_type": "code",
      "metadata": {
        "id": "-T6ojTYbpn3v",
        "outputId": "17dc3bdd-5eba-4af1-c7a8-b13e29f62e9b",
        "colab": {
          "base_uri": "https://localhost:8080/",
          "height": 402
        }
      },
      "source": [
        "netflix_df_drama=netflix_df_listed_in[netflix_df_listed_in.listed_in.eq(\"Dramas\")]\n",
        "netflix_df_drama"
      ],
      "execution_count": 135,
      "outputs": [
        {
          "output_type": "execute_result",
          "data": {
            "text/html": [
              "<div>\n",
              "<style scoped>\n",
              "    .dataframe tbody tr th:only-of-type {\n",
              "        vertical-align: middle;\n",
              "    }\n",
              "\n",
              "    .dataframe tbody tr th {\n",
              "        vertical-align: top;\n",
              "    }\n",
              "\n",
              "    .dataframe thead th {\n",
              "        text-align: right;\n",
              "    }\n",
              "</style>\n",
              "<table border=\"1\" class=\"dataframe\">\n",
              "  <thead>\n",
              "    <tr style=\"text-align: right;\">\n",
              "      <th></th>\n",
              "      <th>title</th>\n",
              "      <th>show_id</th>\n",
              "      <th>country</th>\n",
              "      <th>type</th>\n",
              "      <th>rating</th>\n",
              "      <th>duration</th>\n",
              "      <th>date_added</th>\n",
              "      <th>release_year</th>\n",
              "      <th>listed_in</th>\n",
              "    </tr>\n",
              "  </thead>\n",
              "  <tbody>\n",
              "    <tr>\n",
              "      <th>40</th>\n",
              "      <td>The Runner</td>\n",
              "      <td>80057700</td>\n",
              "      <td>United States</td>\n",
              "      <td>Movie</td>\n",
              "      <td>R</td>\n",
              "      <td>90 min</td>\n",
              "      <td>September 8, 2017</td>\n",
              "      <td>2015</td>\n",
              "      <td>Dramas</td>\n",
              "    </tr>\n",
              "    <tr>\n",
              "      <th>42</th>\n",
              "      <td>6 Years</td>\n",
              "      <td>80045922</td>\n",
              "      <td>United States</td>\n",
              "      <td>Movie</td>\n",
              "      <td>NR</td>\n",
              "      <td>80 min</td>\n",
              "      <td>September 8, 2015</td>\n",
              "      <td>2015</td>\n",
              "      <td>Dramas</td>\n",
              "    </tr>\n",
              "    <tr>\n",
              "      <th>57</th>\n",
              "      <td>The Most Assassinated Woman in the World</td>\n",
              "      <td>80159586</td>\n",
              "      <td>Belgium, United Kingdom, United States</td>\n",
              "      <td>Movie</td>\n",
              "      <td>TV-MA</td>\n",
              "      <td>102 min</td>\n",
              "      <td>September 7, 2018</td>\n",
              "      <td>2018</td>\n",
              "      <td>Dramas</td>\n",
              "    </tr>\n",
              "    <tr>\n",
              "      <th>60</th>\n",
              "      <td>Cézanne et moi</td>\n",
              "      <td>80152447</td>\n",
              "      <td>Belgium, France</td>\n",
              "      <td>Movie</td>\n",
              "      <td>R</td>\n",
              "      <td>114 min</td>\n",
              "      <td>September 7, 2017</td>\n",
              "      <td>2016</td>\n",
              "      <td>Dramas</td>\n",
              "    </tr>\n",
              "    <tr>\n",
              "      <th>65</th>\n",
              "      <td>Article 15</td>\n",
              "      <td>81154455</td>\n",
              "      <td>India</td>\n",
              "      <td>Movie</td>\n",
              "      <td>TV-MA</td>\n",
              "      <td>125 min</td>\n",
              "      <td>September 6, 2019</td>\n",
              "      <td>2019</td>\n",
              "      <td>Dramas</td>\n",
              "    </tr>\n",
              "    <tr>\n",
              "      <th>...</th>\n",
              "      <td>...</td>\n",
              "      <td>...</td>\n",
              "      <td>...</td>\n",
              "      <td>...</td>\n",
              "      <td>...</td>\n",
              "      <td>...</td>\n",
              "      <td>...</td>\n",
              "      <td>...</td>\n",
              "      <td>...</td>\n",
              "    </tr>\n",
              "    <tr>\n",
              "      <th>12203</th>\n",
              "      <td>Killa</td>\n",
              "      <td>70302835</td>\n",
              "      <td>India</td>\n",
              "      <td>Movie</td>\n",
              "      <td>TV-14</td>\n",
              "      <td>107 min</td>\n",
              "      <td>April 1, 2017</td>\n",
              "      <td>2014</td>\n",
              "      <td>Dramas</td>\n",
              "    </tr>\n",
              "    <tr>\n",
              "      <th>12205</th>\n",
              "      <td>Lavender</td>\n",
              "      <td>80125512</td>\n",
              "      <td>Canada, United States</td>\n",
              "      <td>Movie</td>\n",
              "      <td>NR</td>\n",
              "      <td>93 min</td>\n",
              "      <td>April 1, 2017</td>\n",
              "      <td>2016</td>\n",
              "      <td>Dramas</td>\n",
              "    </tr>\n",
              "    <tr>\n",
              "      <th>12224</th>\n",
              "      <td>Skins</td>\n",
              "      <td>80100054</td>\n",
              "      <td>Spain</td>\n",
              "      <td>Movie</td>\n",
              "      <td>TV-MA</td>\n",
              "      <td>78 min</td>\n",
              "      <td>April 1, 2017</td>\n",
              "      <td>2017</td>\n",
              "      <td>Dramas</td>\n",
              "    </tr>\n",
              "    <tr>\n",
              "      <th>12230</th>\n",
              "      <td>The Tenth Man</td>\n",
              "      <td>80104237</td>\n",
              "      <td>Argentina</td>\n",
              "      <td>Movie</td>\n",
              "      <td>TV-MA</td>\n",
              "      <td>81 min</td>\n",
              "      <td>April 1, 2017</td>\n",
              "      <td>2016</td>\n",
              "      <td>Dramas</td>\n",
              "    </tr>\n",
              "    <tr>\n",
              "      <th>12232</th>\n",
              "      <td>Toro</td>\n",
              "      <td>80093107</td>\n",
              "      <td>Spain</td>\n",
              "      <td>Movie</td>\n",
              "      <td>NR</td>\n",
              "      <td>106 min</td>\n",
              "      <td>April 1, 2017</td>\n",
              "      <td>2016</td>\n",
              "      <td>Dramas</td>\n",
              "    </tr>\n",
              "  </tbody>\n",
              "</table>\n",
              "<p>1077 rows × 9 columns</p>\n",
              "</div>"
            ],
            "text/plain": [
              "                                          title  ...  listed_in\n",
              "40                                   The Runner  ...     Dramas\n",
              "42                                      6 Years  ...     Dramas\n",
              "57     The Most Assassinated Woman in the World  ...     Dramas\n",
              "60                               Cézanne et moi  ...     Dramas\n",
              "65                                   Article 15  ...     Dramas\n",
              "...                                         ...  ...        ...\n",
              "12203                                     Killa  ...     Dramas\n",
              "12205                                  Lavender  ...     Dramas\n",
              "12224                                     Skins  ...     Dramas\n",
              "12230                             The Tenth Man  ...     Dramas\n",
              "12232                                      Toro  ...     Dramas\n",
              "\n",
              "[1077 rows x 9 columns]"
            ]
          },
          "metadata": {
            "tags": []
          },
          "execution_count": 135
        }
      ]
    },
    {
      "cell_type": "code",
      "metadata": {
        "id": "piUcSHh2qoTZ",
        "outputId": "1a6edaa3-d188-4a6d-c977-489213100e46",
        "colab": {
          "base_uri": "https://localhost:8080/",
          "height": 502
        }
      },
      "source": [
        "netflix_df_drama['duration'] = netflix_df_drama['duration'].apply(lambda x: int(str(x)[:-4]))\n",
        "netflix_df_drama"
      ],
      "execution_count": 136,
      "outputs": [
        {
          "output_type": "stream",
          "text": [
            "/usr/local/lib/python3.6/dist-packages/ipykernel_launcher.py:1: SettingWithCopyWarning: \n",
            "A value is trying to be set on a copy of a slice from a DataFrame.\n",
            "Try using .loc[row_indexer,col_indexer] = value instead\n",
            "\n",
            "See the caveats in the documentation: https://pandas.pydata.org/pandas-docs/stable/user_guide/indexing.html#returning-a-view-versus-a-copy\n",
            "  \"\"\"Entry point for launching an IPython kernel.\n"
          ],
          "name": "stderr"
        },
        {
          "output_type": "execute_result",
          "data": {
            "text/html": [
              "<div>\n",
              "<style scoped>\n",
              "    .dataframe tbody tr th:only-of-type {\n",
              "        vertical-align: middle;\n",
              "    }\n",
              "\n",
              "    .dataframe tbody tr th {\n",
              "        vertical-align: top;\n",
              "    }\n",
              "\n",
              "    .dataframe thead th {\n",
              "        text-align: right;\n",
              "    }\n",
              "</style>\n",
              "<table border=\"1\" class=\"dataframe\">\n",
              "  <thead>\n",
              "    <tr style=\"text-align: right;\">\n",
              "      <th></th>\n",
              "      <th>title</th>\n",
              "      <th>show_id</th>\n",
              "      <th>country</th>\n",
              "      <th>type</th>\n",
              "      <th>rating</th>\n",
              "      <th>duration</th>\n",
              "      <th>date_added</th>\n",
              "      <th>release_year</th>\n",
              "      <th>listed_in</th>\n",
              "    </tr>\n",
              "  </thead>\n",
              "  <tbody>\n",
              "    <tr>\n",
              "      <th>40</th>\n",
              "      <td>The Runner</td>\n",
              "      <td>80057700</td>\n",
              "      <td>United States</td>\n",
              "      <td>Movie</td>\n",
              "      <td>R</td>\n",
              "      <td>90</td>\n",
              "      <td>September 8, 2017</td>\n",
              "      <td>2015</td>\n",
              "      <td>Dramas</td>\n",
              "    </tr>\n",
              "    <tr>\n",
              "      <th>42</th>\n",
              "      <td>6 Years</td>\n",
              "      <td>80045922</td>\n",
              "      <td>United States</td>\n",
              "      <td>Movie</td>\n",
              "      <td>NR</td>\n",
              "      <td>80</td>\n",
              "      <td>September 8, 2015</td>\n",
              "      <td>2015</td>\n",
              "      <td>Dramas</td>\n",
              "    </tr>\n",
              "    <tr>\n",
              "      <th>57</th>\n",
              "      <td>The Most Assassinated Woman in the World</td>\n",
              "      <td>80159586</td>\n",
              "      <td>Belgium, United Kingdom, United States</td>\n",
              "      <td>Movie</td>\n",
              "      <td>TV-MA</td>\n",
              "      <td>102</td>\n",
              "      <td>September 7, 2018</td>\n",
              "      <td>2018</td>\n",
              "      <td>Dramas</td>\n",
              "    </tr>\n",
              "    <tr>\n",
              "      <th>60</th>\n",
              "      <td>Cézanne et moi</td>\n",
              "      <td>80152447</td>\n",
              "      <td>Belgium, France</td>\n",
              "      <td>Movie</td>\n",
              "      <td>R</td>\n",
              "      <td>114</td>\n",
              "      <td>September 7, 2017</td>\n",
              "      <td>2016</td>\n",
              "      <td>Dramas</td>\n",
              "    </tr>\n",
              "    <tr>\n",
              "      <th>65</th>\n",
              "      <td>Article 15</td>\n",
              "      <td>81154455</td>\n",
              "      <td>India</td>\n",
              "      <td>Movie</td>\n",
              "      <td>TV-MA</td>\n",
              "      <td>125</td>\n",
              "      <td>September 6, 2019</td>\n",
              "      <td>2019</td>\n",
              "      <td>Dramas</td>\n",
              "    </tr>\n",
              "    <tr>\n",
              "      <th>...</th>\n",
              "      <td>...</td>\n",
              "      <td>...</td>\n",
              "      <td>...</td>\n",
              "      <td>...</td>\n",
              "      <td>...</td>\n",
              "      <td>...</td>\n",
              "      <td>...</td>\n",
              "      <td>...</td>\n",
              "      <td>...</td>\n",
              "    </tr>\n",
              "    <tr>\n",
              "      <th>12203</th>\n",
              "      <td>Killa</td>\n",
              "      <td>70302835</td>\n",
              "      <td>India</td>\n",
              "      <td>Movie</td>\n",
              "      <td>TV-14</td>\n",
              "      <td>107</td>\n",
              "      <td>April 1, 2017</td>\n",
              "      <td>2014</td>\n",
              "      <td>Dramas</td>\n",
              "    </tr>\n",
              "    <tr>\n",
              "      <th>12205</th>\n",
              "      <td>Lavender</td>\n",
              "      <td>80125512</td>\n",
              "      <td>Canada, United States</td>\n",
              "      <td>Movie</td>\n",
              "      <td>NR</td>\n",
              "      <td>93</td>\n",
              "      <td>April 1, 2017</td>\n",
              "      <td>2016</td>\n",
              "      <td>Dramas</td>\n",
              "    </tr>\n",
              "    <tr>\n",
              "      <th>12224</th>\n",
              "      <td>Skins</td>\n",
              "      <td>80100054</td>\n",
              "      <td>Spain</td>\n",
              "      <td>Movie</td>\n",
              "      <td>TV-MA</td>\n",
              "      <td>78</td>\n",
              "      <td>April 1, 2017</td>\n",
              "      <td>2017</td>\n",
              "      <td>Dramas</td>\n",
              "    </tr>\n",
              "    <tr>\n",
              "      <th>12230</th>\n",
              "      <td>The Tenth Man</td>\n",
              "      <td>80104237</td>\n",
              "      <td>Argentina</td>\n",
              "      <td>Movie</td>\n",
              "      <td>TV-MA</td>\n",
              "      <td>81</td>\n",
              "      <td>April 1, 2017</td>\n",
              "      <td>2016</td>\n",
              "      <td>Dramas</td>\n",
              "    </tr>\n",
              "    <tr>\n",
              "      <th>12232</th>\n",
              "      <td>Toro</td>\n",
              "      <td>80093107</td>\n",
              "      <td>Spain</td>\n",
              "      <td>Movie</td>\n",
              "      <td>NR</td>\n",
              "      <td>106</td>\n",
              "      <td>April 1, 2017</td>\n",
              "      <td>2016</td>\n",
              "      <td>Dramas</td>\n",
              "    </tr>\n",
              "  </tbody>\n",
              "</table>\n",
              "<p>1077 rows × 9 columns</p>\n",
              "</div>"
            ],
            "text/plain": [
              "                                          title  ...  listed_in\n",
              "40                                   The Runner  ...     Dramas\n",
              "42                                      6 Years  ...     Dramas\n",
              "57     The Most Assassinated Woman in the World  ...     Dramas\n",
              "60                               Cézanne et moi  ...     Dramas\n",
              "65                                   Article 15  ...     Dramas\n",
              "...                                         ...  ...        ...\n",
              "12203                                     Killa  ...     Dramas\n",
              "12205                                  Lavender  ...     Dramas\n",
              "12224                                     Skins  ...     Dramas\n",
              "12230                             The Tenth Man  ...     Dramas\n",
              "12232                                      Toro  ...     Dramas\n",
              "\n",
              "[1077 rows x 9 columns]"
            ]
          },
          "metadata": {
            "tags": []
          },
          "execution_count": 136
        }
      ]
    },
    {
      "cell_type": "code",
      "metadata": {
        "id": "f3hK4-YmtEUN",
        "outputId": "78aa82e9-6bc2-4dcf-8f66-ef20a6aacd68",
        "colab": {
          "base_uri": "https://localhost:8080/",
          "height": 402
        }
      },
      "source": [
        "netflix_df_drama=netflix_df_drama[netflix_df_drama.type.eq(\"Movie\")]\n",
        "netflix_df_drama"
      ],
      "execution_count": 137,
      "outputs": [
        {
          "output_type": "execute_result",
          "data": {
            "text/html": [
              "<div>\n",
              "<style scoped>\n",
              "    .dataframe tbody tr th:only-of-type {\n",
              "        vertical-align: middle;\n",
              "    }\n",
              "\n",
              "    .dataframe tbody tr th {\n",
              "        vertical-align: top;\n",
              "    }\n",
              "\n",
              "    .dataframe thead th {\n",
              "        text-align: right;\n",
              "    }\n",
              "</style>\n",
              "<table border=\"1\" class=\"dataframe\">\n",
              "  <thead>\n",
              "    <tr style=\"text-align: right;\">\n",
              "      <th></th>\n",
              "      <th>title</th>\n",
              "      <th>show_id</th>\n",
              "      <th>country</th>\n",
              "      <th>type</th>\n",
              "      <th>rating</th>\n",
              "      <th>duration</th>\n",
              "      <th>date_added</th>\n",
              "      <th>release_year</th>\n",
              "      <th>listed_in</th>\n",
              "    </tr>\n",
              "  </thead>\n",
              "  <tbody>\n",
              "    <tr>\n",
              "      <th>40</th>\n",
              "      <td>The Runner</td>\n",
              "      <td>80057700</td>\n",
              "      <td>United States</td>\n",
              "      <td>Movie</td>\n",
              "      <td>R</td>\n",
              "      <td>90</td>\n",
              "      <td>September 8, 2017</td>\n",
              "      <td>2015</td>\n",
              "      <td>Dramas</td>\n",
              "    </tr>\n",
              "    <tr>\n",
              "      <th>42</th>\n",
              "      <td>6 Years</td>\n",
              "      <td>80045922</td>\n",
              "      <td>United States</td>\n",
              "      <td>Movie</td>\n",
              "      <td>NR</td>\n",
              "      <td>80</td>\n",
              "      <td>September 8, 2015</td>\n",
              "      <td>2015</td>\n",
              "      <td>Dramas</td>\n",
              "    </tr>\n",
              "    <tr>\n",
              "      <th>57</th>\n",
              "      <td>The Most Assassinated Woman in the World</td>\n",
              "      <td>80159586</td>\n",
              "      <td>Belgium, United Kingdom, United States</td>\n",
              "      <td>Movie</td>\n",
              "      <td>TV-MA</td>\n",
              "      <td>102</td>\n",
              "      <td>September 7, 2018</td>\n",
              "      <td>2018</td>\n",
              "      <td>Dramas</td>\n",
              "    </tr>\n",
              "    <tr>\n",
              "      <th>60</th>\n",
              "      <td>Cézanne et moi</td>\n",
              "      <td>80152447</td>\n",
              "      <td>Belgium, France</td>\n",
              "      <td>Movie</td>\n",
              "      <td>R</td>\n",
              "      <td>114</td>\n",
              "      <td>September 7, 2017</td>\n",
              "      <td>2016</td>\n",
              "      <td>Dramas</td>\n",
              "    </tr>\n",
              "    <tr>\n",
              "      <th>65</th>\n",
              "      <td>Article 15</td>\n",
              "      <td>81154455</td>\n",
              "      <td>India</td>\n",
              "      <td>Movie</td>\n",
              "      <td>TV-MA</td>\n",
              "      <td>125</td>\n",
              "      <td>September 6, 2019</td>\n",
              "      <td>2019</td>\n",
              "      <td>Dramas</td>\n",
              "    </tr>\n",
              "    <tr>\n",
              "      <th>...</th>\n",
              "      <td>...</td>\n",
              "      <td>...</td>\n",
              "      <td>...</td>\n",
              "      <td>...</td>\n",
              "      <td>...</td>\n",
              "      <td>...</td>\n",
              "      <td>...</td>\n",
              "      <td>...</td>\n",
              "      <td>...</td>\n",
              "    </tr>\n",
              "    <tr>\n",
              "      <th>12203</th>\n",
              "      <td>Killa</td>\n",
              "      <td>70302835</td>\n",
              "      <td>India</td>\n",
              "      <td>Movie</td>\n",
              "      <td>TV-14</td>\n",
              "      <td>107</td>\n",
              "      <td>April 1, 2017</td>\n",
              "      <td>2014</td>\n",
              "      <td>Dramas</td>\n",
              "    </tr>\n",
              "    <tr>\n",
              "      <th>12205</th>\n",
              "      <td>Lavender</td>\n",
              "      <td>80125512</td>\n",
              "      <td>Canada, United States</td>\n",
              "      <td>Movie</td>\n",
              "      <td>NR</td>\n",
              "      <td>93</td>\n",
              "      <td>April 1, 2017</td>\n",
              "      <td>2016</td>\n",
              "      <td>Dramas</td>\n",
              "    </tr>\n",
              "    <tr>\n",
              "      <th>12224</th>\n",
              "      <td>Skins</td>\n",
              "      <td>80100054</td>\n",
              "      <td>Spain</td>\n",
              "      <td>Movie</td>\n",
              "      <td>TV-MA</td>\n",
              "      <td>78</td>\n",
              "      <td>April 1, 2017</td>\n",
              "      <td>2017</td>\n",
              "      <td>Dramas</td>\n",
              "    </tr>\n",
              "    <tr>\n",
              "      <th>12230</th>\n",
              "      <td>The Tenth Man</td>\n",
              "      <td>80104237</td>\n",
              "      <td>Argentina</td>\n",
              "      <td>Movie</td>\n",
              "      <td>TV-MA</td>\n",
              "      <td>81</td>\n",
              "      <td>April 1, 2017</td>\n",
              "      <td>2016</td>\n",
              "      <td>Dramas</td>\n",
              "    </tr>\n",
              "    <tr>\n",
              "      <th>12232</th>\n",
              "      <td>Toro</td>\n",
              "      <td>80093107</td>\n",
              "      <td>Spain</td>\n",
              "      <td>Movie</td>\n",
              "      <td>NR</td>\n",
              "      <td>106</td>\n",
              "      <td>April 1, 2017</td>\n",
              "      <td>2016</td>\n",
              "      <td>Dramas</td>\n",
              "    </tr>\n",
              "  </tbody>\n",
              "</table>\n",
              "<p>1077 rows × 9 columns</p>\n",
              "</div>"
            ],
            "text/plain": [
              "                                          title  ...  listed_in\n",
              "40                                   The Runner  ...     Dramas\n",
              "42                                      6 Years  ...     Dramas\n",
              "57     The Most Assassinated Woman in the World  ...     Dramas\n",
              "60                               Cézanne et moi  ...     Dramas\n",
              "65                                   Article 15  ...     Dramas\n",
              "...                                         ...  ...        ...\n",
              "12203                                     Killa  ...     Dramas\n",
              "12205                                  Lavender  ...     Dramas\n",
              "12224                                     Skins  ...     Dramas\n",
              "12230                             The Tenth Man  ...     Dramas\n",
              "12232                                      Toro  ...     Dramas\n",
              "\n",
              "[1077 rows x 9 columns]"
            ]
          },
          "metadata": {
            "tags": []
          },
          "execution_count": 137
        }
      ]
    },
    {
      "cell_type": "code",
      "metadata": {
        "id": "rvn_UrMNqS_K",
        "outputId": "5995060d-3705-470a-aaff-42b36a8c4e86",
        "colab": {
          "base_uri": "https://localhost:8080/",
          "height": 284
        }
      },
      "source": [
        "netflix_df_drama.describe()"
      ],
      "execution_count": 145,
      "outputs": [
        {
          "output_type": "execute_result",
          "data": {
            "text/html": [
              "<div>\n",
              "<style scoped>\n",
              "    .dataframe tbody tr th:only-of-type {\n",
              "        vertical-align: middle;\n",
              "    }\n",
              "\n",
              "    .dataframe tbody tr th {\n",
              "        vertical-align: top;\n",
              "    }\n",
              "\n",
              "    .dataframe thead th {\n",
              "        text-align: right;\n",
              "    }\n",
              "</style>\n",
              "<table border=\"1\" class=\"dataframe\">\n",
              "  <thead>\n",
              "    <tr style=\"text-align: right;\">\n",
              "      <th></th>\n",
              "      <th>show_id</th>\n",
              "      <th>duration</th>\n",
              "      <th>release_year</th>\n",
              "    </tr>\n",
              "  </thead>\n",
              "  <tbody>\n",
              "    <tr>\n",
              "      <th>count</th>\n",
              "      <td>1.077000e+03</td>\n",
              "      <td>1077.000000</td>\n",
              "      <td>1077.000000</td>\n",
              "    </tr>\n",
              "    <tr>\n",
              "      <th>mean</th>\n",
              "      <td>7.686668e+07</td>\n",
              "      <td>112.558960</td>\n",
              "      <td>2013.005571</td>\n",
              "    </tr>\n",
              "    <tr>\n",
              "      <th>std</th>\n",
              "      <td>9.968589e+06</td>\n",
              "      <td>23.749614</td>\n",
              "      <td>7.819048</td>\n",
              "    </tr>\n",
              "    <tr>\n",
              "      <th>min</th>\n",
              "      <td>6.079310e+05</td>\n",
              "      <td>12.000000</td>\n",
              "      <td>1959.000000</td>\n",
              "    </tr>\n",
              "    <tr>\n",
              "      <th>25%</th>\n",
              "      <td>8.003284e+07</td>\n",
              "      <td>96.000000</td>\n",
              "      <td>2012.000000</td>\n",
              "    </tr>\n",
              "    <tr>\n",
              "      <th>50%</th>\n",
              "      <td>8.016193e+07</td>\n",
              "      <td>109.000000</td>\n",
              "      <td>2016.000000</td>\n",
              "    </tr>\n",
              "    <tr>\n",
              "      <th>75%</th>\n",
              "      <td>8.100221e+07</td>\n",
              "      <td>126.000000</td>\n",
              "      <td>2017.000000</td>\n",
              "    </tr>\n",
              "    <tr>\n",
              "      <th>max</th>\n",
              "      <td>8.123573e+07</td>\n",
              "      <td>312.000000</td>\n",
              "      <td>2020.000000</td>\n",
              "    </tr>\n",
              "  </tbody>\n",
              "</table>\n",
              "</div>"
            ],
            "text/plain": [
              "            show_id     duration  release_year\n",
              "count  1.077000e+03  1077.000000   1077.000000\n",
              "mean   7.686668e+07   112.558960   2013.005571\n",
              "std    9.968589e+06    23.749614      7.819048\n",
              "min    6.079310e+05    12.000000   1959.000000\n",
              "25%    8.003284e+07    96.000000   2012.000000\n",
              "50%    8.016193e+07   109.000000   2016.000000\n",
              "75%    8.100221e+07   126.000000   2017.000000\n",
              "max    8.123573e+07   312.000000   2020.000000"
            ]
          },
          "metadata": {
            "tags": []
          },
          "execution_count": 145
        }
      ]
    },
    {
      "cell_type": "code",
      "metadata": {
        "id": "S1iA9Q-RsMhl",
        "outputId": "e81edb8a-38e0-471c-ecf0-fabc04be3a7b",
        "colab": {
          "base_uri": "https://localhost:8080/",
          "height": 438
        }
      },
      "source": [
        "plt.figure(figsize=(15,6))\n",
        "plt.xticks(rotation=90)\n",
        "\n",
        "graph=sns.barplot(netflix_df_drama.release_year\n",
        "            , netflix_df_drama.duration)\n",
        "graph.axhline(112.55)\n",
        "plt.title(\"Duration of Drama movies over 1925-2020\");"
      ],
      "execution_count": 146,
      "outputs": [
        {
          "output_type": "display_data",
          "data": {
            "image/png": "[encoded data removed]",
            "text/plain": [
              "<Figure size 1080x432 with 1 Axes>"
            ]
          },
          "metadata": {
            "tags": []
          }
        }
      ]
    },
    {
      "cell_type": "markdown",
      "metadata": {
        "id": "SCQkD7UMsAmZ"
      },
      "source": [
        "The avgerage duration of a movie from the Dramas cateogry is `112.55 minutes`."
      ]
    },
    {
      "cell_type": "code",
      "metadata": {
        "id": "qCnVDwOb_HKT"
      },
      "source": [
        "import jovian"
      ],
      "execution_count": null,
      "outputs": []
    },
    {
      "cell_type": "code",
      "metadata": {
        "id": "s5F9aiy4_HKV",
        "outputId": "af654e2a-f482-48dd-cc1b-82c587a6f5d2",
        "colab": {
          "base_uri": "https://localhost:8080/",
          "height": 86
        }
      },
      "source": [
        "jovian.commit(project=project_name)"
      ],
      "execution_count": 149,
      "outputs": [
        {
          "output_type": "stream",
          "text": [
            "[jovian] Detected Colab notebook...\u001b[0m\n",
            "[jovian] Uploading colab notebook to Jovian...\u001b[0m\n",
            "[jovian] Committed successfully! https://jovian.ml/csendranshi/netflix-dataset-analysis\u001b[0m\n"
          ],
          "name": "stdout"
        },
        {
          "output_type": "execute_result",
          "data": {
            "application/vnd.google.colaboratory.intrinsic+json": {
              "type": "string"
            },
            "text/plain": [
              "'https://jovian.ml/csendranshi/netflix-dataset-analysis'"
            ]
          },
          "metadata": {
            "tags": []
          },
          "execution_count": 149
        }
      ]
    },
    {
      "cell_type": "markdown",
      "metadata": {
        "id": "X586Zf8r_HKY"
      },
      "source": [
        "## Inferences and Conclusion\n",
        "\n",
        "Summary of the inferences drawn from the dataset."
      ]
    },
    {
      "cell_type": "markdown",
      "metadata": {
        "id": "hVczNFF7vUaL"
      },
      "source": [
        "\n",
        "\n",
        "*   Based on the data given, we can infer that the survey is somewhat representative of the overall content information available on Netflix. Although it doesn't contain information about the complete production of content in the respective fields, it gives us an overview of what the stats would look like.  \n",
        "*   USA is seen of to have majority of the content creation solely which is higher than many of the other countries combined. This can be seen as a result of Hollywood, world's largest film industry having its home in The States.\n",
        "\n",
        "*   A large percentage of content available is from the last decade. It is representative of the establishment of Netflix as a prime content publisher and also the boom in the film and technology industry. It could also be a result of the GenZ binging more of the latest content than from the previous decades.\n",
        "*   International Movies category witnessed highest content creation in 2013.\n",
        "*   The amount of TV shows available is almost half of the amount of Movies, stating preference of audience being Movies. It might also signify the production of more movies than TV shows. Factors like lesser duration of commitment by the producer, artists and finance required in making a movie.\n",
        "\n",
        "\n",
        "*   The average duration of a movie is seen to be 99.1 mins with a standard deviation of 28.07 mins. This resonates with our movie watching intuition. \n",
        "*   The Iternational Movies, Dramas and Comedies remark for the highest amount of content followed by Documentaries.\n",
        "\n",
        "\n",
        "*   Highest amount of movies were added in the month of December, October, January and November which is clearly an influence of the Holiday Season.\n",
        "*   Anupam Kher has maximum number of movies and TV shows under his experience umbrella, followed by Om Puri and Shah Rukh Khan.\n",
        "*   A large percentage of Tv Shows available have a duration in the range of 1-5, with only 2 shows having a 15 season duration.\n",
        "\n",
        "\n",
        "\n",
        "\n",
        "\n",
        "\n",
        "\n"
      ]
    },
    {
      "cell_type": "code",
      "metadata": {
        "id": "sXKi8K0l_HKg"
      },
      "source": [
        "import jovian"
      ],
      "execution_count": null,
      "outputs": []
    },
    {
      "cell_type": "code",
      "metadata": {
        "id": "fS7UqJ89_HKj",
        "outputId": "e16a9632-94fe-4e16-f771-c68ba5372dae",
        "colab": {
          "base_uri": "https://localhost:8080/",
          "height": 86
        }
      },
      "source": [
        "jovian.commit(project=project_name)"
      ],
      "execution_count": 151,
      "outputs": [
        {
          "output_type": "stream",
          "text": [
            "[jovian] Detected Colab notebook...\u001b[0m\n",
            "[jovian] Uploading colab notebook to Jovian...\u001b[0m\n",
            "[jovian] Committed successfully! https://jovian.ml/csendranshi/netflix-dataset-analysis\u001b[0m\n"
          ],
          "name": "stdout"
        },
        {
          "output_type": "execute_result",
          "data": {
            "application/vnd.google.colaboratory.intrinsic+json": {
              "type": "string"
            },
            "text/plain": [
              "'https://jovian.ml/csendranshi/netflix-dataset-analysis'"
            ]
          },
          "metadata": {
            "tags": []
          },
          "execution_count": 151
        }
      ]
    },
    {
      "cell_type": "markdown",
      "metadata": {
        "id": "UIjbNy6F_HKm"
      },
      "source": [
        "## References and Future Work\n"
      ]
    },
    {
      "cell_type": "markdown",
      "metadata": {
        "id": "AT_dnzEjFwSH"
      },
      "source": [
        "Pandas User Guide : https://jovian.ml/outlink?url=https%3A%2F%2Fpandas.pydata.org%2Fdocs%2Fuser_guide%2Findex.html\n",
        "\n",
        "Seaborn User Guide : https://jovian.ml/outlink?url=https%3A%2F%2Fseaborn.pydata.org%2Ftutorial.html\n",
        "\n",
        "StacakOverflow : https://stackoverflow.com/\n",
        "\n",
        "Kaggle : https://www.kaggle.com/shivamb/netflix-shows"
      ]
    },
    {
      "cell_type": "code",
      "metadata": {
        "id": "lBG729OE_HKm"
      },
      "source": [
        "import jovian"
      ],
      "execution_count": null,
      "outputs": []
    },
    {
      "cell_type": "code",
      "metadata": {
        "id": "BCKYkkme_HKp",
        "outputId": "2332fa3b-12ea-49da-ef70-94253fb0712d",
        "colab": {
          "base_uri": "https://localhost:8080/",
          "height": 86
        }
      },
      "source": [
        "jovian.commit(project=project_name)"
      ],
      "execution_count": 154,
      "outputs": [
        {
          "output_type": "stream",
          "text": [
            "[jovian] Detected Colab notebook...\u001b[0m\n",
            "[jovian] Uploading colab notebook to Jovian...\u001b[0m\n",
            "[jovian] Committed successfully! https://jovian.ml/csendranshi/netflix-dataset-analysis\u001b[0m\n"
          ],
          "name": "stdout"
        },
        {
          "output_type": "execute_result",
          "data": {
            "application/vnd.google.colaboratory.intrinsic+json": {
              "type": "string"
            },
            "text/plain": [
              "'https://jovian.ml/csendranshi/netflix-dataset-analysis'"
            ]
          },
          "metadata": {
            "tags": []
          },
          "execution_count": 154
        }
      ]
    },
    {
      "cell_type": "code",
      "metadata": {
        "id": "pCnviYRDG3Da"
      },
      "source": [
        ""
      ],
      "execution_count": null,
      "outputs": []
    }
  ]
}