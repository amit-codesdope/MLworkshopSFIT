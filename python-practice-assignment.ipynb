{
 "cells": [
  {
   "cell_type": "markdown",
   "metadata": {
    "colab_type": "text",
    "id": "vr4mH-2Q9QR2"
   },
   "source": [
    "# Assignment 1 - Python Basics Practice\n",
    "\n",
    "*This assignment is a part of the course [\"Data Analysis with Python: Zero to Pandas\"](https://jovian.ml/learn/data-analysis-with-python-zero-to-pandas)*\n",
    "\n",
    "In this assignment, you'll get to practice some of the concepts and skills covered in the following notebooks:\n",
    "\n",
    "1. [First Steps with Python and Jupyter](https://jovian.ml/aakashns/first-steps-with-python)\n",
    "2. [A Quick Tour of Variables and Data Types](https://jovian.ml/aakashns/python-variables-and-data-types)\n",
    "3. [Branching using Conditional Statements and Loops](https://jovian.ml/aakashns/python-branching-and-loops)\n",
    "\n",
    "As you go through this notebook, you will find a **???** in certain places. To complete this assignment, you must replace all the **???** with appropriate values, expressions or statements to ensure that the notebook runs properly end-to-end. \n",
    "\n",
    "Some things to keep in mind:\n",
    "\n",
    "* Make sure to run all the code cells, otherwise you may get errors like `NameError` for undefined variables.\n",
    "* Do not change variable names, delete cells or disturb other existing code. It may cause problems during evaluation.\n",
    "* In some cases, you may need to add some code cells or new statements before or after the line of code containing the **???**. \n",
    "* Since you'll be using a temporary online service for code execution, save your work by running `jovian.commit` at regular intervals.\n",
    "* Questions marked **(Optional)** will not be considered for evaluation, and can be skipped. They are for your learning.\n",
    "\n",
    "You can make submissions on this page: https://jovian.ml/learn/data-analysis-with-python-zero-to-pandas/assignment/assignment-1-python-basics-practice\n",
    "\n",
    "If you are stuck, you can ask for help on the community forum: https://jovian.ml/forum/t/assignment-1-python-practice/7761 . You can get help with errors or ask for hints, but **please don't ask for or share the full working answer code** on the forum.\n",
    "\n",
    "\n",
    "## How to run the code and save your work\n",
    "\n",
    "The recommended way to run this notebook is to click the \"Run\" button at the top of this page, and select \"Run on Binder\". This will run the notebook on [mybinder.org](https://mybinder.org), a free online service for running Jupyter notebooks. \n",
    "\n",
    "Before staring the assignment, let's save a snapshot of the assignment to your Jovian.ml profile, so that you can access it later, and continue your work."
   ]
  },
  {
   "cell_type": "code",
   "execution_count": 1,
   "metadata": {
    "colab": {
     "base_uri": "https://localhost:8080/",
     "height": 50
    },
    "colab_type": "code",
    "executionInfo": {
     "elapsed": 10197,
     "status": "ok",
     "timestamp": 1598285021139,
     "user": {
      "displayName": "Anshika Gupta",
      "photoUrl": "https://lh3.googleusercontent.com/a-/AOh14GhChrf8pG1T6Mo2GB3lrdIxJXQrxnvaa_1vZoIX5g=s64",
      "userId": "06617183061647456136"
     },
     "user_tz": -330
    },
    "id": "kl7N3ZWZ9QR3",
    "outputId": "a93f81b3-6cf1-456c-895d-d384cbb234f3"
   },
   "outputs": [
    {
     "name": "stdout",
     "output_type": "stream",
     "text": [
      "\u001b[?25l\r",
      "\u001b[K     |█████                           | 10kB 18.7MB/s eta 0:00:01\r",
      "\u001b[K     |██████████▏                     | 20kB 1.7MB/s eta 0:00:01\r",
      "\u001b[K     |███████████████▏                | 30kB 2.1MB/s eta 0:00:01\r",
      "\u001b[K     |████████████████████▎           | 40kB 2.3MB/s eta 0:00:01\r",
      "\u001b[K     |█████████████████████████▎      | 51kB 2.0MB/s eta 0:00:01\r",
      "\u001b[K     |██████████████████████████████▍ | 61kB 2.3MB/s eta 0:00:01\r",
      "\u001b[K     |████████████████████████████████| 71kB 2.0MB/s \n",
      "\u001b[?25h  Building wheel for uuid (setup.py) ... \u001b[?25l\u001b[?25hdone\n"
     ]
    }
   ],
   "source": [
    "# Install the library\n",
    "!pip install jovian --upgrade --quiet"
   ]
  },
  {
   "cell_type": "code",
   "execution_count": 2,
   "metadata": {
    "colab": {},
    "colab_type": "code",
    "executionInfo": {
     "elapsed": 1133,
     "status": "ok",
     "timestamp": 1598285234641,
     "user": {
      "displayName": "Anshika Gupta",
      "photoUrl": "https://lh3.googleusercontent.com/a-/AOh14GhChrf8pG1T6Mo2GB3lrdIxJXQrxnvaa_1vZoIX5g=s64",
      "userId": "06617183061647456136"
     },
     "user_tz": -330
    },
    "id": "S2PZ5LjS9QSA"
   },
   "outputs": [],
   "source": [
    "# Import it\n",
    "import jovian"
   ]
  },
  {
   "cell_type": "code",
   "execution_count": 3,
   "metadata": {
    "colab": {},
    "colab_type": "code",
    "executionInfo": {
     "elapsed": 1094,
     "status": "ok",
     "timestamp": 1598285236790,
     "user": {
      "displayName": "Anshika Gupta",
      "photoUrl": "https://lh3.googleusercontent.com/a-/AOh14GhChrf8pG1T6Mo2GB3lrdIxJXQrxnvaa_1vZoIX5g=s64",
      "userId": "06617183061647456136"
     },
     "user_tz": -330
    },
    "id": "dBz6mn-p9QSI"
   },
   "outputs": [],
   "source": [
    "project_name='python-practice-assignment'"
   ]
  },
  {
   "cell_type": "code",
   "execution_count": 6,
   "metadata": {
    "colab": {
     "base_uri": "https://localhost:8080/",
     "height": 86
    },
    "colab_type": "code",
    "executionInfo": {
     "elapsed": 3314,
     "status": "ok",
     "timestamp": 1598285287378,
     "user": {
      "displayName": "Anshika Gupta",
      "photoUrl": "https://lh3.googleusercontent.com/a-/AOh14GhChrf8pG1T6Mo2GB3lrdIxJXQrxnvaa_1vZoIX5g=s64",
      "userId": "06617183061647456136"
     },
     "user_tz": -330
    },
    "id": "_9PG4JMn9QSU",
    "outputId": "52e85e53-b9b6-4311-e145-9cb13970536e"
   },
   "outputs": [
    {
     "name": "stdout",
     "output_type": "stream",
     "text": [
      "[jovian] Detected Colab notebook...\u001b[0m\n",
      "[jovian] Uploading colab notebook to Jovian...\u001b[0m\n",
      "[jovian] Committed successfully! https://jovian.ml/csendranshi/python-practice-assignment\u001b[0m\n"
     ]
    },
    {
     "data": {
      "application/vnd.google.colaboratory.intrinsic+json": {
       "type": "string"
      },
      "text/plain": [
       "'https://jovian.ml/csendranshi/python-practice-assignment'"
      ]
     },
     "execution_count": 6,
     "metadata": {
      "tags": []
     },
     "output_type": "execute_result"
    }
   ],
   "source": [
    "# Capture and upload a snapshot\n",
    "jovian.commit(project=project_name, privacy='secret', evironment=None)"
   ]
  },
  {
   "cell_type": "markdown",
   "metadata": {
    "colab_type": "text",
    "id": "o1DIVVeA9QSf"
   },
   "source": [
    "You'll be asked to provide an API Key, to securely upload the notebook to your Jovian.ml account. You can get the API key from your Jovian.ml profile page after logging in / signing up. See the docs for details: https://jovian.ml/docs/user-guide/upload.html . The privacy of your assignment notebook is set to *Secret*, so that you can the evlauators can access it, but it will not shown on your public profile to other users."
   ]
  },
  {
   "cell_type": "markdown",
   "metadata": {
    "colab_type": "text",
    "id": "no6xVvn49QSh"
   },
   "source": [
    "## Problem 1 - Variables and Data Types\n",
    "\n",
    "**Q: Assign your name to the variable `name`.**"
   ]
  },
  {
   "cell_type": "code",
   "execution_count": 8,
   "metadata": {
    "colab": {},
    "colab_type": "code",
    "executionInfo": {
     "elapsed": 1023,
     "status": "ok",
     "timestamp": 1598285302122,
     "user": {
      "displayName": "Anshika Gupta",
      "photoUrl": "https://lh3.googleusercontent.com/a-/AOh14GhChrf8pG1T6Mo2GB3lrdIxJXQrxnvaa_1vZoIX5g=s64",
      "userId": "06617183061647456136"
     },
     "user_tz": -330
    },
    "id": "4PX9LCnh9QSj"
   },
   "outputs": [],
   "source": [
    "name = \"anshika\""
   ]
  },
  {
   "cell_type": "markdown",
   "metadata": {
    "colab_type": "text",
    "id": "nE0xNXQ39QSq"
   },
   "source": [
    "**Q: Assign your age (real or fake) to the variable `age`.**"
   ]
  },
  {
   "cell_type": "code",
   "execution_count": 9,
   "metadata": {
    "colab": {},
    "colab_type": "code",
    "executionInfo": {
     "elapsed": 978,
     "status": "ok",
     "timestamp": 1598285312577,
     "user": {
      "displayName": "Anshika Gupta",
      "photoUrl": "https://lh3.googleusercontent.com/a-/AOh14GhChrf8pG1T6Mo2GB3lrdIxJXQrxnvaa_1vZoIX5g=s64",
      "userId": "06617183061647456136"
     },
     "user_tz": -330
    },
    "id": "KGDaJlC19QSt"
   },
   "outputs": [],
   "source": [
    "age = 1099"
   ]
  },
  {
   "cell_type": "markdown",
   "metadata": {
    "colab_type": "text",
    "id": "TyZ3Ds1B9QS1"
   },
   "source": [
    "**Q: Assign a boolean value to the variable `has_android_phone`.**"
   ]
  },
  {
   "cell_type": "code",
   "execution_count": 10,
   "metadata": {
    "colab": {},
    "colab_type": "code",
    "executionInfo": {
     "elapsed": 1149,
     "status": "ok",
     "timestamp": 1598285320655,
     "user": {
      "displayName": "Anshika Gupta",
      "photoUrl": "https://lh3.googleusercontent.com/a-/AOh14GhChrf8pG1T6Mo2GB3lrdIxJXQrxnvaa_1vZoIX5g=s64",
      "userId": "06617183061647456136"
     },
     "user_tz": -330
    },
    "id": "xloYGUrT9QS3"
   },
   "outputs": [],
   "source": [
    "has_android_phone = True"
   ]
  },
  {
   "cell_type": "markdown",
   "metadata": {
    "colab_type": "text",
    "id": "6gYbho0E9QS9"
   },
   "source": [
    "You can check the values of these variables by running the next cell."
   ]
  },
  {
   "cell_type": "code",
   "execution_count": 11,
   "metadata": {
    "colab": {
     "base_uri": "https://localhost:8080/",
     "height": 34
    },
    "colab_type": "code",
    "executionInfo": {
     "elapsed": 1023,
     "status": "ok",
     "timestamp": 1598285323629,
     "user": {
      "displayName": "Anshika Gupta",
      "photoUrl": "https://lh3.googleusercontent.com/a-/AOh14GhChrf8pG1T6Mo2GB3lrdIxJXQrxnvaa_1vZoIX5g=s64",
      "userId": "06617183061647456136"
     },
     "user_tz": -330
    },
    "id": "I9YmM9-g9QS-",
    "outputId": "2223dfa4-42b3-4515-a9ef-ec6421e337a9"
   },
   "outputs": [
    {
     "data": {
      "text/plain": [
       "('anshika', 1099, True)"
      ]
     },
     "execution_count": 11,
     "metadata": {
      "tags": []
     },
     "output_type": "execute_result"
    }
   ],
   "source": [
    "name, age, has_android_phone"
   ]
  },
  {
   "cell_type": "markdown",
   "metadata": {
    "colab_type": "text",
    "id": "JDopH7KO9QTE"
   },
   "source": [
    "**Q: Create a dictionary `person` with keys `\"Name\"`, `\"Age\"`, `\"HasAndroidPhone\"` and values using the variables defined above.**"
   ]
  },
  {
   "cell_type": "code",
   "execution_count": 12,
   "metadata": {
    "colab": {},
    "colab_type": "code",
    "executionInfo": {
     "elapsed": 1074,
     "status": "ok",
     "timestamp": 1598285363664,
     "user": {
      "displayName": "Anshika Gupta",
      "photoUrl": "https://lh3.googleusercontent.com/a-/AOh14GhChrf8pG1T6Mo2GB3lrdIxJXQrxnvaa_1vZoIX5g=s64",
      "userId": "06617183061647456136"
     },
     "user_tz": -330
    },
    "id": "3gNgjRrO9QTF"
   },
   "outputs": [],
   "source": [
    "person = {\"Name\":name, \"Age\":age, \"HasAndroidPhone\":has_android_phone}"
   ]
  },
  {
   "cell_type": "markdown",
   "metadata": {
    "colab_type": "text",
    "id": "tZk4XcCl9QTL"
   },
   "source": [
    "Let's use the `person` dictionary to print a nice message."
   ]
  },
  {
   "cell_type": "code",
   "execution_count": 13,
   "metadata": {
    "colab": {
     "base_uri": "https://localhost:8080/",
     "height": 34
    },
    "colab_type": "code",
    "executionInfo": {
     "elapsed": 1042,
     "status": "ok",
     "timestamp": 1598285370020,
     "user": {
      "displayName": "Anshika Gupta",
      "photoUrl": "https://lh3.googleusercontent.com/a-/AOh14GhChrf8pG1T6Mo2GB3lrdIxJXQrxnvaa_1vZoIX5g=s64",
      "userId": "06617183061647456136"
     },
     "user_tz": -330
    },
    "id": "pZ_6c5rR9QTM",
    "outputId": "b853a3a8-9471-43b4-bb89-cd655d6bff21"
   },
   "outputs": [
    {
     "name": "stdout",
     "output_type": "stream",
     "text": [
      "anshika is aged 1099, and owns an Android phone.\n"
     ]
    }
   ],
   "source": [
    "print(\"{} is aged {}, and owns an {}.\".format(\n",
    "    person[\"Name\"], \n",
    "    person[\"Age\"], \n",
    "    \"Android phone\" if person[\"HasAndroidPhone\"] else \"iPhone\"\n",
    "))"
   ]
  },
  {
   "cell_type": "markdown",
   "metadata": {
    "colab_type": "text",
    "id": "zOtU7ZT49QTR"
   },
   "source": [
    "**Q (Optional): Use a `for` loop to display the `type` of each value stored against each key in `person`.**\n",
    "\n",
    "Here's the expected output for the key `\"Name\"`: \n",
    "\n",
    "```\n",
    "The key \"Name\" has the value \"Derek\" of the type \"<class 'str'>\"\n",
    "```"
   ]
  },
  {
   "cell_type": "code",
   "execution_count": 17,
   "metadata": {
    "colab": {
     "base_uri": "https://localhost:8080/",
     "height": 67
    },
    "colab_type": "code",
    "executionInfo": {
     "elapsed": 964,
     "status": "ok",
     "timestamp": 1598285649793,
     "user": {
      "displayName": "Anshika Gupta",
      "photoUrl": "https://lh3.googleusercontent.com/a-/AOh14GhChrf8pG1T6Mo2GB3lrdIxJXQrxnvaa_1vZoIX5g=s64",
      "userId": "06617183061647456136"
     },
     "user_tz": -330
    },
    "id": "z_jBZPe89QTS",
    "outputId": "f5b1a8bb-c2f6-484a-af46-e61c48848584"
   },
   "outputs": [
    {
     "name": "stdout",
     "output_type": "stream",
     "text": [
      "The key  Name has the value  anshika of the type  <class 'str'>\n",
      "The key  Age has the value  1099 of the type  <class 'int'>\n",
      "The key  HasAndroidPhone has the value  True of the type  <class 'bool'>\n"
     ]
    }
   ],
   "source": [
    "# this is optional\n",
    "for _ in person:\n",
    "  print(\"The key \",_,\"has the value \",person[_],\"of the type \",type(person[_]\n",
    "  ))"
   ]
  },
  {
   "cell_type": "markdown",
   "metadata": {
    "colab_type": "text",
    "id": "PCZNGehR9QTX"
   },
   "source": [
    "Now that you've solved one problem, it would be a good idea to record a snapshot of your notebook."
   ]
  },
  {
   "cell_type": "code",
   "execution_count": 18,
   "metadata": {
    "colab": {
     "base_uri": "https://localhost:8080/",
     "height": 86
    },
    "colab_type": "code",
    "executionInfo": {
     "elapsed": 3453,
     "status": "ok",
     "timestamp": 1598285662262,
     "user": {
      "displayName": "Anshika Gupta",
      "photoUrl": "https://lh3.googleusercontent.com/a-/AOh14GhChrf8pG1T6Mo2GB3lrdIxJXQrxnvaa_1vZoIX5g=s64",
      "userId": "06617183061647456136"
     },
     "user_tz": -330
    },
    "id": "SttAUq7h9QTY",
    "outputId": "ac34e5e1-ad8a-40e7-89f1-4ec1e5fb43cf"
   },
   "outputs": [
    {
     "name": "stdout",
     "output_type": "stream",
     "text": [
      "[jovian] Detected Colab notebook...\u001b[0m\n",
      "[jovian] Uploading colab notebook to Jovian...\u001b[0m\n",
      "[jovian] Committed successfully! https://jovian.ml/csendranshi/python-practice-assignment\u001b[0m\n"
     ]
    },
    {
     "data": {
      "application/vnd.google.colaboratory.intrinsic+json": {
       "type": "string"
      },
      "text/plain": [
       "'https://jovian.ml/csendranshi/python-practice-assignment'"
      ]
     },
     "execution_count": 18,
     "metadata": {
      "tags": []
     },
     "output_type": "execute_result"
    }
   ],
   "source": [
    "jovian.commit(project=project_name,environment=None)"
   ]
  },
  {
   "cell_type": "markdown",
   "metadata": {
    "colab_type": "text",
    "id": "nIbTdqw49QTf"
   },
   "source": [
    "## Problem 2 - Working with Lists\n",
    "\n",
    "**Q: Create a list containing the following 3 elements:**\n",
    "\n",
    "* your favorite color\n",
    "* the number of pets you have\n",
    "* a boolean value describing whether you have previous programming experience\n"
   ]
  },
  {
   "cell_type": "code",
   "execution_count": 19,
   "metadata": {
    "colab": {},
    "colab_type": "code",
    "executionInfo": {
     "elapsed": 1149,
     "status": "ok",
     "timestamp": 1598285827022,
     "user": {
      "displayName": "Anshika Gupta",
      "photoUrl": "https://lh3.googleusercontent.com/a-/AOh14GhChrf8pG1T6Mo2GB3lrdIxJXQrxnvaa_1vZoIX5g=s64",
      "userId": "06617183061647456136"
     },
     "user_tz": -330
    },
    "id": "d36GM7w49QTg"
   },
   "outputs": [],
   "source": [
    "my_list = ['black',0,True]"
   ]
  },
  {
   "cell_type": "markdown",
   "metadata": {
    "colab_type": "text",
    "id": "mkWIh6LK9QTk"
   },
   "source": [
    "Let's see what the list looks like:"
   ]
  },
  {
   "cell_type": "code",
   "execution_count": 20,
   "metadata": {
    "colab": {
     "base_uri": "https://localhost:8080/",
     "height": 34
    },
    "colab_type": "code",
    "executionInfo": {
     "elapsed": 1302,
     "status": "ok",
     "timestamp": 1598285829950,
     "user": {
      "displayName": "Anshika Gupta",
      "photoUrl": "https://lh3.googleusercontent.com/a-/AOh14GhChrf8pG1T6Mo2GB3lrdIxJXQrxnvaa_1vZoIX5g=s64",
      "userId": "06617183061647456136"
     },
     "user_tz": -330
    },
    "id": "OqPglSFl9QTl",
    "outputId": "fb7e414e-df0f-4aae-da10-fc732aa8f940"
   },
   "outputs": [
    {
     "data": {
      "text/plain": [
       "['black', 0, True]"
      ]
     },
     "execution_count": 20,
     "metadata": {
      "tags": []
     },
     "output_type": "execute_result"
    }
   ],
   "source": [
    "my_list"
   ]
  },
  {
   "cell_type": "markdown",
   "metadata": {
    "colab_type": "text",
    "id": "jmcm0otC9QTq"
   },
   "source": [
    "**Q: Complete the following `print` and `if` statements by accessing the appropriate elements from `my_list`.**\n",
    "\n",
    "*Hint*: Use the list indexing notation `[]`."
   ]
  },
  {
   "cell_type": "code",
   "execution_count": 21,
   "metadata": {
    "colab": {
     "base_uri": "https://localhost:8080/",
     "height": 34
    },
    "colab_type": "code",
    "executionInfo": {
     "elapsed": 1046,
     "status": "ok",
     "timestamp": 1598285891635,
     "user": {
      "displayName": "Anshika Gupta",
      "photoUrl": "https://lh3.googleusercontent.com/a-/AOh14GhChrf8pG1T6Mo2GB3lrdIxJXQrxnvaa_1vZoIX5g=s64",
      "userId": "06617183061647456136"
     },
     "user_tz": -330
    },
    "id": "YpgK30-w9QTr",
    "outputId": "8159894c-4301-476b-ce87-49be954a1e84"
   },
   "outputs": [
    {
     "name": "stdout",
     "output_type": "stream",
     "text": [
      "My favorite color is black\n"
     ]
    }
   ],
   "source": [
    "print('My favorite color is', my_list[0])"
   ]
  },
  {
   "cell_type": "code",
   "execution_count": 22,
   "metadata": {
    "colab": {
     "base_uri": "https://localhost:8080/",
     "height": 34
    },
    "colab_type": "code",
    "executionInfo": {
     "elapsed": 1039,
     "status": "ok",
     "timestamp": 1598285893784,
     "user": {
      "displayName": "Anshika Gupta",
      "photoUrl": "https://lh3.googleusercontent.com/a-/AOh14GhChrf8pG1T6Mo2GB3lrdIxJXQrxnvaa_1vZoIX5g=s64",
      "userId": "06617183061647456136"
     },
     "user_tz": -330
    },
    "id": "IKQyMy6a9QTw",
    "outputId": "c56cf272-bc31-4bae-f230-082ade3da721"
   },
   "outputs": [
    {
     "name": "stdout",
     "output_type": "stream",
     "text": [
      "I have 0 pet(s).\n"
     ]
    }
   ],
   "source": [
    "print('I have {} pet(s).'.format(my_list[1]))"
   ]
  },
  {
   "cell_type": "code",
   "execution_count": 23,
   "metadata": {
    "colab": {
     "base_uri": "https://localhost:8080/",
     "height": 34
    },
    "colab_type": "code",
    "executionInfo": {
     "elapsed": 998,
     "status": "ok",
     "timestamp": 1598285895832,
     "user": {
      "displayName": "Anshika Gupta",
      "photoUrl": "https://lh3.googleusercontent.com/a-/AOh14GhChrf8pG1T6Mo2GB3lrdIxJXQrxnvaa_1vZoIX5g=s64",
      "userId": "06617183061647456136"
     },
     "user_tz": -330
    },
    "id": "cNYwvyI79QT0",
    "outputId": "38899039-2fce-4615-a3ca-f02beebad530"
   },
   "outputs": [
    {
     "name": "stdout",
     "output_type": "stream",
     "text": [
      "I have previous programming experience\n"
     ]
    }
   ],
   "source": [
    "if my_list[2]==True:\n",
    "    print(\"I have previous programming experience\")\n",
    "else:\n",
    "    print(\"I do not have previous programming experience\")"
   ]
  },
  {
   "cell_type": "markdown",
   "metadata": {
    "colab_type": "text",
    "id": "NcNfAjvR9QT6"
   },
   "source": [
    "**Q: Add your favorite single digit number to the end of the list using the appropriate list method.**"
   ]
  },
  {
   "cell_type": "code",
   "execution_count": 24,
   "metadata": {
    "colab": {},
    "colab_type": "code",
    "executionInfo": {
     "elapsed": 1030,
     "status": "ok",
     "timestamp": 1598285914674,
     "user": {
      "displayName": "Anshika Gupta",
      "photoUrl": "https://lh3.googleusercontent.com/a-/AOh14GhChrf8pG1T6Mo2GB3lrdIxJXQrxnvaa_1vZoIX5g=s64",
      "userId": "06617183061647456136"
     },
     "user_tz": -330
    },
    "id": "xl3JQ0UE9QT7"
   },
   "outputs": [],
   "source": [
    "my_list.append(8)"
   ]
  },
  {
   "cell_type": "markdown",
   "metadata": {
    "colab_type": "text",
    "id": "TM_wL0Kv9QUB"
   },
   "source": [
    "Let's see if the number shows up in the list."
   ]
  },
  {
   "cell_type": "code",
   "execution_count": 25,
   "metadata": {
    "colab": {
     "base_uri": "https://localhost:8080/",
     "height": 34
    },
    "colab_type": "code",
    "executionInfo": {
     "elapsed": 982,
     "status": "ok",
     "timestamp": 1598285921432,
     "user": {
      "displayName": "Anshika Gupta",
      "photoUrl": "https://lh3.googleusercontent.com/a-/AOh14GhChrf8pG1T6Mo2GB3lrdIxJXQrxnvaa_1vZoIX5g=s64",
      "userId": "06617183061647456136"
     },
     "user_tz": -330
    },
    "id": "HRW9pORi9QUC",
    "outputId": "c1e1866c-b0ad-457d-81d9-04f1c8d48b67"
   },
   "outputs": [
    {
     "data": {
      "text/plain": [
       "['black', 0, True, 8]"
      ]
     },
     "execution_count": 25,
     "metadata": {
      "tags": []
     },
     "output_type": "execute_result"
    }
   ],
   "source": [
    "my_list"
   ]
  },
  {
   "cell_type": "markdown",
   "metadata": {
    "colab_type": "text",
    "id": "g2X2S-cT9QUI"
   },
   "source": [
    "**Q: Remove the first element of the list, using the appropriate list method.**\n",
    "\n",
    "*Hint*: Check out methods of list here: https://www.w3schools.com/python/python_ref_list.asp"
   ]
  },
  {
   "cell_type": "code",
   "execution_count": 26,
   "metadata": {
    "colab": {
     "base_uri": "https://localhost:8080/",
     "height": 35
    },
    "colab_type": "code",
    "executionInfo": {
     "elapsed": 1281,
     "status": "ok",
     "timestamp": 1598285930634,
     "user": {
      "displayName": "Anshika Gupta",
      "photoUrl": "https://lh3.googleusercontent.com/a-/AOh14GhChrf8pG1T6Mo2GB3lrdIxJXQrxnvaa_1vZoIX5g=s64",
      "userId": "06617183061647456136"
     },
     "user_tz": -330
    },
    "id": "Qk7SaAWx9QUJ",
    "outputId": "bb17174a-e1ef-450e-b24f-230ed66b60b6"
   },
   "outputs": [
    {
     "data": {
      "application/vnd.google.colaboratory.intrinsic+json": {
       "type": "string"
      },
      "text/plain": [
       "'black'"
      ]
     },
     "execution_count": 26,
     "metadata": {
      "tags": []
     },
     "output_type": "execute_result"
    }
   ],
   "source": [
    "my_list.pop(0)"
   ]
  },
  {
   "cell_type": "code",
   "execution_count": 27,
   "metadata": {
    "colab": {
     "base_uri": "https://localhost:8080/",
     "height": 34
    },
    "colab_type": "code",
    "executionInfo": {
     "elapsed": 1041,
     "status": "ok",
     "timestamp": 1598285933110,
     "user": {
      "displayName": "Anshika Gupta",
      "photoUrl": "https://lh3.googleusercontent.com/a-/AOh14GhChrf8pG1T6Mo2GB3lrdIxJXQrxnvaa_1vZoIX5g=s64",
      "userId": "06617183061647456136"
     },
     "user_tz": -330
    },
    "id": "K287Fpeh9QUQ",
    "outputId": "ff5c1bc4-9b14-4b43-aee4-c7a2161a5c78"
   },
   "outputs": [
    {
     "data": {
      "text/plain": [
       "[0, True, 8]"
      ]
     },
     "execution_count": 27,
     "metadata": {
      "tags": []
     },
     "output_type": "execute_result"
    }
   ],
   "source": [
    "my_list"
   ]
  },
  {
   "cell_type": "markdown",
   "metadata": {
    "colab_type": "text",
    "id": "4pHfpcJ69QUX"
   },
   "source": [
    "**Q: Complete the `print` statement below to display the number of elements in `my_list`.**"
   ]
  },
  {
   "cell_type": "code",
   "execution_count": 28,
   "metadata": {
    "colab": {
     "base_uri": "https://localhost:8080/",
     "height": 34
    },
    "colab_type": "code",
    "executionInfo": {
     "elapsed": 996,
     "status": "ok",
     "timestamp": 1598285956482,
     "user": {
      "displayName": "Anshika Gupta",
      "photoUrl": "https://lh3.googleusercontent.com/a-/AOh14GhChrf8pG1T6Mo2GB3lrdIxJXQrxnvaa_1vZoIX5g=s64",
      "userId": "06617183061647456136"
     },
     "user_tz": -330
    },
    "id": "kJilJC4p9QUY",
    "outputId": "8fa87d19-0993-4b95-b8c9-680e226f8884"
   },
   "outputs": [
    {
     "name": "stdout",
     "output_type": "stream",
     "text": [
      "The list has 3 elements.\n"
     ]
    }
   ],
   "source": [
    "print(\"The list has {} elements.\".format(len(my_list)))"
   ]
  },
  {
   "cell_type": "markdown",
   "metadata": {
    "colab_type": "text",
    "id": "OvQjnPMm9QUf"
   },
   "source": [
    "Well done, you're making good progress! Save your work before continuing"
   ]
  },
  {
   "cell_type": "code",
   "execution_count": 29,
   "metadata": {
    "colab": {
     "base_uri": "https://localhost:8080/",
     "height": 86
    },
    "colab_type": "code",
    "executionInfo": {
     "elapsed": 3480,
     "status": "ok",
     "timestamp": 1598285966597,
     "user": {
      "displayName": "Anshika Gupta",
      "photoUrl": "https://lh3.googleusercontent.com/a-/AOh14GhChrf8pG1T6Mo2GB3lrdIxJXQrxnvaa_1vZoIX5g=s64",
      "userId": "06617183061647456136"
     },
     "user_tz": -330
    },
    "id": "ciE-6DhN9QUg",
    "outputId": "8d4f4340-715b-44fa-f6aa-baa8e107f98c"
   },
   "outputs": [
    {
     "name": "stdout",
     "output_type": "stream",
     "text": [
      "[jovian] Detected Colab notebook...\u001b[0m\n",
      "[jovian] Uploading colab notebook to Jovian...\u001b[0m\n",
      "[jovian] Committed successfully! https://jovian.ml/csendranshi/python-practice-assignment\u001b[0m\n"
     ]
    },
    {
     "data": {
      "application/vnd.google.colaboratory.intrinsic+json": {
       "type": "string"
      },
      "text/plain": [
       "'https://jovian.ml/csendranshi/python-practice-assignment'"
      ]
     },
     "execution_count": 29,
     "metadata": {
      "tags": []
     },
     "output_type": "execute_result"
    }
   ],
   "source": [
    "jovian.commit(project=project_name,environment=None)"
   ]
  },
  {
   "cell_type": "markdown",
   "metadata": {
    "colab_type": "text",
    "id": "2Tf88e8Q9QUl"
   },
   "source": [
    "## Problem 3 - Conditions and loops\n",
    "\n",
    "**Q: Calculate and display the sum of all the numbers divisible by 7 between 18 and 534 i.e. `21+28+35+...+525+532`**.\n",
    "\n",
    "*Hint*: One way to do this is to loop over a `range` using `for` and use an `if` statement inside it."
   ]
  },
  {
   "cell_type": "code",
   "execution_count": 30,
   "metadata": {
    "colab": {},
    "colab_type": "code",
    "executionInfo": {
     "elapsed": 1183,
     "status": "ok",
     "timestamp": 1598286055728,
     "user": {
      "displayName": "Anshika Gupta",
      "photoUrl": "https://lh3.googleusercontent.com/a-/AOh14GhChrf8pG1T6Mo2GB3lrdIxJXQrxnvaa_1vZoIX5g=s64",
      "userId": "06617183061647456136"
     },
     "user_tz": -330
    },
    "id": "2sUj1jNQ9QUm"
   },
   "outputs": [],
   "source": [
    "# store the final answer in this variable\n",
    "sum_of_numbers = 0\n",
    "\n",
    "# perform the calculation here\n",
    "for i in range(18,534):\n",
    "  if i%7==0:\n",
    "    sum_of_numbers+=i\n",
    "\n"
   ]
  },
  {
   "cell_type": "code",
   "execution_count": 31,
   "metadata": {
    "colab": {
     "base_uri": "https://localhost:8080/",
     "height": 34
    },
    "colab_type": "code",
    "executionInfo": {
     "elapsed": 965,
     "status": "ok",
     "timestamp": 1598286058294,
     "user": {
      "displayName": "Anshika Gupta",
      "photoUrl": "https://lh3.googleusercontent.com/a-/AOh14GhChrf8pG1T6Mo2GB3lrdIxJXQrxnvaa_1vZoIX5g=s64",
      "userId": "06617183061647456136"
     },
     "user_tz": -330
    },
    "id": "kL4IH32T9QUr",
    "outputId": "a01d6dd4-9d5f-4cb4-d696-dc858695064e"
   },
   "outputs": [
    {
     "name": "stdout",
     "output_type": "stream",
     "text": [
      "The sum of all the numbers divisible by 7 between 18 and 534 is 20461\n"
     ]
    }
   ],
   "source": [
    "print('The sum of all the numbers divisible by 7 between 18 and 534 is', sum_of_numbers)"
   ]
  },
  {
   "cell_type": "markdown",
   "metadata": {
    "colab_type": "text",
    "id": "hqJDHY949QUx"
   },
   "source": [
    "If you are not able to figure out the solution to this problem, you can ask for hints on the community forum: https://jovian.ml/forum/t/assignment-1-python-practice/7761 . Remember to save your work before moving forward."
   ]
  },
  {
   "cell_type": "code",
   "execution_count": 32,
   "metadata": {
    "colab": {
     "base_uri": "https://localhost:8080/",
     "height": 86
    },
    "colab_type": "code",
    "executionInfo": {
     "elapsed": 3242,
     "status": "ok",
     "timestamp": 1598286104448,
     "user": {
      "displayName": "Anshika Gupta",
      "photoUrl": "https://lh3.googleusercontent.com/a-/AOh14GhChrf8pG1T6Mo2GB3lrdIxJXQrxnvaa_1vZoIX5g=s64",
      "userId": "06617183061647456136"
     },
     "user_tz": -330
    },
    "id": "Ftf76Qfm9QUy",
    "outputId": "1fb54eab-0420-44ae-a5ee-58eacd8f3a62"
   },
   "outputs": [
    {
     "name": "stdout",
     "output_type": "stream",
     "text": [
      "[jovian] Detected Colab notebook...\u001b[0m\n",
      "[jovian] Uploading colab notebook to Jovian...\u001b[0m\n",
      "[jovian] Committed successfully! https://jovian.ml/csendranshi/python-practice-assignment\u001b[0m\n"
     ]
    },
    {
     "data": {
      "application/vnd.google.colaboratory.intrinsic+json": {
       "type": "string"
      },
      "text/plain": [
       "'https://jovian.ml/csendranshi/python-practice-assignment'"
      ]
     },
     "execution_count": 32,
     "metadata": {
      "tags": []
     },
     "output_type": "execute_result"
    }
   ],
   "source": [
    "jovian.commit(project=project_name,environment=None)"
   ]
  },
  {
   "cell_type": "markdown",
   "metadata": {
    "colab_type": "text",
    "id": "hZ_mArNN9QU5"
   },
   "source": [
    "## Problem 4 - Flying to the Bahamas\n",
    "\n",
    "**Q: A travel company wants to fly a plane to the Bahamas. Flying the plane costs 5000 dollars. So far, 29 people have signed up for the trip. If the company charges 200 dollars per ticket, what is the profit made by the company?**\n",
    "\n",
    "Fill in values or arithmetic expressions for the variables below."
   ]
  },
  {
   "cell_type": "code",
   "execution_count": 35,
   "metadata": {
    "colab": {},
    "colab_type": "code",
    "executionInfo": {
     "elapsed": 992,
     "status": "ok",
     "timestamp": 1598286161766,
     "user": {
      "displayName": "Anshika Gupta",
      "photoUrl": "https://lh3.googleusercontent.com/a-/AOh14GhChrf8pG1T6Mo2GB3lrdIxJXQrxnvaa_1vZoIX5g=s64",
      "userId": "06617183061647456136"
     },
     "user_tz": -330
    },
    "id": "UkWABrxm9QU6"
   },
   "outputs": [],
   "source": [
    "cost_of_flying_plane = 5000"
   ]
  },
  {
   "cell_type": "code",
   "execution_count": 36,
   "metadata": {
    "colab": {},
    "colab_type": "code",
    "executionInfo": {
     "elapsed": 1048,
     "status": "ok",
     "timestamp": 1598286164328,
     "user": {
      "displayName": "Anshika Gupta",
      "photoUrl": "https://lh3.googleusercontent.com/a-/AOh14GhChrf8pG1T6Mo2GB3lrdIxJXQrxnvaa_1vZoIX5g=s64",
      "userId": "06617183061647456136"
     },
     "user_tz": -330
    },
    "id": "c6AU6_ne9QU_"
   },
   "outputs": [],
   "source": [
    "number_of_passengers = 29"
   ]
  },
  {
   "cell_type": "code",
   "execution_count": 37,
   "metadata": {
    "colab": {},
    "colab_type": "code",
    "executionInfo": {
     "elapsed": 1001,
     "status": "ok",
     "timestamp": 1598286165971,
     "user": {
      "displayName": "Anshika Gupta",
      "photoUrl": "https://lh3.googleusercontent.com/a-/AOh14GhChrf8pG1T6Mo2GB3lrdIxJXQrxnvaa_1vZoIX5g=s64",
      "userId": "06617183061647456136"
     },
     "user_tz": -330
    },
    "id": "ZNYNzMX29QVE"
   },
   "outputs": [],
   "source": [
    "price_of_ticket = 200"
   ]
  },
  {
   "cell_type": "code",
   "execution_count": 38,
   "metadata": {
    "colab": {},
    "colab_type": "code",
    "executionInfo": {
     "elapsed": 993,
     "status": "ok",
     "timestamp": 1598286230780,
     "user": {
      "displayName": "Anshika Gupta",
      "photoUrl": "https://lh3.googleusercontent.com/a-/AOh14GhChrf8pG1T6Mo2GB3lrdIxJXQrxnvaa_1vZoIX5g=s64",
      "userId": "06617183061647456136"
     },
     "user_tz": -330
    },
    "id": "MWpLK2899QVI"
   },
   "outputs": [],
   "source": [
    "profit = ((price_of_ticket * number_of_passengers)-(cost_of_flying_plane))/(cost_of_flying_plane)"
   ]
  },
  {
   "cell_type": "code",
   "execution_count": 39,
   "metadata": {
    "colab": {
     "base_uri": "https://localhost:8080/",
     "height": 34
    },
    "colab_type": "code",
    "executionInfo": {
     "elapsed": 1325,
     "status": "ok",
     "timestamp": 1598286234367,
     "user": {
      "displayName": "Anshika Gupta",
      "photoUrl": "https://lh3.googleusercontent.com/a-/AOh14GhChrf8pG1T6Mo2GB3lrdIxJXQrxnvaa_1vZoIX5g=s64",
      "userId": "06617183061647456136"
     },
     "user_tz": -330
    },
    "id": "P2bf2R-h9QVM",
    "outputId": "c766ca14-47bd-4c50-dc33-14a83eb64c92"
   },
   "outputs": [
    {
     "name": "stdout",
     "output_type": "stream",
     "text": [
      "The company makes of a profit of 0.16 dollars\n"
     ]
    }
   ],
   "source": [
    "print('The company makes of a profit of {} dollars'.format(profit))"
   ]
  },
  {
   "cell_type": "markdown",
   "metadata": {
    "colab_type": "text",
    "id": "DeZleGPq9QVP"
   },
   "source": [
    "**Q (Optional): Out of the 29 people who took the flight, only 12 buy tickets to return from the Bahamas on the same plane. If the flying the plane back also costs 5000 dollars, and does the company make an overall profit or loss? The company charges the same fee of 200 dollars per ticket for the return flight.**\n",
    "\n",
    "Use an `if` statement to display the result."
   ]
  },
  {
   "cell_type": "code",
   "execution_count": null,
   "metadata": {
    "colab": {},
    "colab_type": "code",
    "id": "iqwIMc7j9QVP"
   },
   "outputs": [],
   "source": [
    "# this is optional\n",
    "???"
   ]
  },
  {
   "cell_type": "code",
   "execution_count": null,
   "metadata": {
    "colab": {},
    "colab_type": "code",
    "id": "OcgVzZGP9QVT"
   },
   "outputs": [],
   "source": [
    "# this is optional\n",
    "if ???:\n",
    "    print(\"The company makes an overall profit of {} dollars\".format(???))\n",
    "else:\n",
    "    print(\"The company makes an overall loss of {} dollars\".format(???))"
   ]
  },
  {
   "cell_type": "markdown",
   "metadata": {
    "colab_type": "text",
    "id": "6va4qEdo9QVV"
   },
   "source": [
    "Great work so far! Want to take a break? Remember to save and upload your notebook to record your progress."
   ]
  },
  {
   "cell_type": "code",
   "execution_count": null,
   "metadata": {
    "colab": {},
    "colab_type": "code",
    "id": "28Udy0k69QVW"
   },
   "outputs": [],
   "source": [
    "jovian.commit(project=project_name,environment=None)"
   ]
  },
  {
   "cell_type": "markdown",
   "metadata": {
    "colab_type": "text",
    "id": "mMrAv_jF9QVZ"
   },
   "source": [
    "## Problem 5 - Twitter Sentiment Analysis\n",
    "\n",
    "Are your ready to perform some *Data Analysis with Python*? In this problem, we'll analyze some fictional tweets and find out whether the overall sentiment of Twitter users is happy or sad. This is a simplified version of an important real world problem called *sentiment analysis*.\n",
    "\n",
    "Before we begin, we need a list of tweets to analyze. We're picking a small number of tweets here, but the exact same analysis can also be done for thousands, or even millions of tweets. The collection of data that we perform analysis on is often called a *dataset*."
   ]
  },
  {
   "cell_type": "code",
   "execution_count": 40,
   "metadata": {
    "colab": {},
    "colab_type": "code",
    "executionInfo": {
     "elapsed": 1221,
     "status": "ok",
     "timestamp": 1598286738807,
     "user": {
      "displayName": "Anshika Gupta",
      "photoUrl": "https://lh3.googleusercontent.com/a-/AOh14GhChrf8pG1T6Mo2GB3lrdIxJXQrxnvaa_1vZoIX5g=s64",
      "userId": "06617183061647456136"
     },
     "user_tz": -330
    },
    "id": "hrSf2wLE9QVZ"
   },
   "outputs": [],
   "source": [
    "tweets = [\n",
    "    \"Wow, what a great day today!! #sunshine\",\n",
    "    \"I feel sad about the things going on around us. #covid19\",\n",
    "    \"I'm really excited to learn Python with @JovianML #zerotopandas\",\n",
    "    \"This is a really nice song. #linkinpark\",\n",
    "    \"The python programming language is useful for data science\",\n",
    "    \"Why do bad things happen to me?\",\n",
    "    \"Apple announces the release of the new iPhone 12. Fans are excited.\",\n",
    "    \"Spent my day with family!! #happy\",\n",
    "    \"Check out my blog post on common string operations in Python. #zerotopandas\",\n",
    "    \"Freecodecamp has great coding tutorials. #skillup\"\n",
    "]"
   ]
  },
  {
   "cell_type": "markdown",
   "metadata": {
    "colab_type": "text",
    "id": "2sKWGs4u9QVd"
   },
   "source": [
    "Let's begin by answering a very simple but important question about our dataset.\n",
    "\n",
    "**Q: How many tweets does the dataset contain?**"
   ]
  },
  {
   "cell_type": "code",
   "execution_count": 41,
   "metadata": {
    "colab": {},
    "colab_type": "code",
    "executionInfo": {
     "elapsed": 1032,
     "status": "ok",
     "timestamp": 1598286745855,
     "user": {
      "displayName": "Anshika Gupta",
      "photoUrl": "https://lh3.googleusercontent.com/a-/AOh14GhChrf8pG1T6Mo2GB3lrdIxJXQrxnvaa_1vZoIX5g=s64",
      "userId": "06617183061647456136"
     },
     "user_tz": -330
    },
    "id": "jvBH1p_99QVd"
   },
   "outputs": [],
   "source": [
    "number_of_tweets = len(tweets)"
   ]
  },
  {
   "cell_type": "markdown",
   "metadata": {
    "colab_type": "text",
    "id": "2E2N6XgG9QVg"
   },
   "source": [
    "Let's create two lists of words: `happy_words` and `sad_words`. We will use these to check if a tweet is happy or sad."
   ]
  },
  {
   "cell_type": "code",
   "execution_count": 42,
   "metadata": {
    "colab": {},
    "colab_type": "code",
    "executionInfo": {
     "elapsed": 4348,
     "status": "ok",
     "timestamp": 1598286757748,
     "user": {
      "displayName": "Anshika Gupta",
      "photoUrl": "https://lh3.googleusercontent.com/a-/AOh14GhChrf8pG1T6Mo2GB3lrdIxJXQrxnvaa_1vZoIX5g=s64",
      "userId": "06617183061647456136"
     },
     "user_tz": -330
    },
    "id": "uAa4Upo_9QVg"
   },
   "outputs": [],
   "source": [
    "happy_words = ['great', 'excited', 'happy', 'nice', 'wonderful', 'amazing', 'good', 'best']"
   ]
  },
  {
   "cell_type": "code",
   "execution_count": 43,
   "metadata": {
    "colab": {},
    "colab_type": "code",
    "executionInfo": {
     "elapsed": 1149,
     "status": "ok",
     "timestamp": 1598286760399,
     "user": {
      "displayName": "Anshika Gupta",
      "photoUrl": "https://lh3.googleusercontent.com/a-/AOh14GhChrf8pG1T6Mo2GB3lrdIxJXQrxnvaa_1vZoIX5g=s64",
      "userId": "06617183061647456136"
     },
     "user_tz": -330
    },
    "id": "L3WX_Jf09QVl"
   },
   "outputs": [],
   "source": [
    "sad_words = ['sad', 'bad', 'tragic', 'unhappy', 'worst']"
   ]
  },
  {
   "cell_type": "markdown",
   "metadata": {
    "colab_type": "text",
    "id": "SYDsl_Hj9QVo"
   },
   "source": [
    "To identify whether a tweet is happy, we can simply check if contains any of the words from `happy_words`. Here's an example:"
   ]
  },
  {
   "cell_type": "code",
   "execution_count": 44,
   "metadata": {
    "colab": {},
    "colab_type": "code",
    "executionInfo": {
     "elapsed": 975,
     "status": "ok",
     "timestamp": 1598286774093,
     "user": {
      "displayName": "Anshika Gupta",
      "photoUrl": "https://lh3.googleusercontent.com/a-/AOh14GhChrf8pG1T6Mo2GB3lrdIxJXQrxnvaa_1vZoIX5g=s64",
      "userId": "06617183061647456136"
     },
     "user_tz": -330
    },
    "id": "0Dy6IY-I9QVp"
   },
   "outputs": [],
   "source": [
    "sample_tweet = tweets[0]"
   ]
  },
  {
   "cell_type": "code",
   "execution_count": 45,
   "metadata": {
    "colab": {
     "base_uri": "https://localhost:8080/",
     "height": 35
    },
    "colab_type": "code",
    "executionInfo": {
     "elapsed": 1056,
     "status": "ok",
     "timestamp": 1598286778016,
     "user": {
      "displayName": "Anshika Gupta",
      "photoUrl": "https://lh3.googleusercontent.com/a-/AOh14GhChrf8pG1T6Mo2GB3lrdIxJXQrxnvaa_1vZoIX5g=s64",
      "userId": "06617183061647456136"
     },
     "user_tz": -330
    },
    "id": "ZuSw8XTb9QVs",
    "outputId": "f36ebc7d-784a-443f-d4c8-1b0ae1708671"
   },
   "outputs": [
    {
     "data": {
      "application/vnd.google.colaboratory.intrinsic+json": {
       "type": "string"
      },
      "text/plain": [
       "'Wow, what a great day today!! #sunshine'"
      ]
     },
     "execution_count": 45,
     "metadata": {
      "tags": []
     },
     "output_type": "execute_result"
    }
   ],
   "source": [
    "sample_tweet"
   ]
  },
  {
   "cell_type": "code",
   "execution_count": 47,
   "metadata": {
    "colab": {},
    "colab_type": "code",
    "executionInfo": {
     "elapsed": 1052,
     "status": "ok",
     "timestamp": 1598286817024,
     "user": {
      "displayName": "Anshika Gupta",
      "photoUrl": "https://lh3.googleusercontent.com/a-/AOh14GhChrf8pG1T6Mo2GB3lrdIxJXQrxnvaa_1vZoIX5g=s64",
      "userId": "06617183061647456136"
     },
     "user_tz": -330
    },
    "id": "yuBC4lBc9QVu"
   },
   "outputs": [],
   "source": [
    "is_tweet_happy = False\n",
    "\n",
    "# Get a word from happy_words\n",
    "for word in happy_words:\n",
    "    # Check if the tweet contains the word\n",
    "    if word in sample_tweet:\n",
    "        # Word found! Mark the tweet as happy\n",
    "        is_tweet_happy = True"
   ]
  },
  {
   "cell_type": "markdown",
   "metadata": {
    "colab_type": "text",
    "id": "WlcCqyzS9QVw"
   },
   "source": [
    "Do you understand what we're doing above? \n",
    "\n",
    "> For each word in the list of happy words, we check if is a part of the selected tweet. If the word is indded a part of the tweet, we set the variable `is_tweet_happy` to `True`. "
   ]
  },
  {
   "cell_type": "code",
   "execution_count": 48,
   "metadata": {
    "colab": {
     "base_uri": "https://localhost:8080/",
     "height": 34
    },
    "colab_type": "code",
    "executionInfo": {
     "elapsed": 1160,
     "status": "ok",
     "timestamp": 1598286820916,
     "user": {
      "displayName": "Anshika Gupta",
      "photoUrl": "https://lh3.googleusercontent.com/a-/AOh14GhChrf8pG1T6Mo2GB3lrdIxJXQrxnvaa_1vZoIX5g=s64",
      "userId": "06617183061647456136"
     },
     "user_tz": -330
    },
    "id": "UiwQllUS9QVw",
    "outputId": "97ecb38f-da74-4061-ed2b-929257899112"
   },
   "outputs": [
    {
     "data": {
      "text/plain": [
       "True"
      ]
     },
     "execution_count": 48,
     "metadata": {
      "tags": []
     },
     "output_type": "execute_result"
    }
   ],
   "source": [
    "is_tweet_happy"
   ]
  },
  {
   "cell_type": "markdown",
   "metadata": {
    "colab_type": "text",
    "id": "5uUnIQ-t9QVy"
   },
   "source": [
    "**Q: Determine the number of tweets in the dataset that can be classified as happy.**\n",
    "\n",
    "*Hint*: You'll need to use a loop inside another loop to do this. Use the code from the example shown above."
   ]
  },
  {
   "cell_type": "code",
   "execution_count": 59,
   "metadata": {
    "colab": {
     "base_uri": "https://localhost:8080/",
     "height": 118
    },
    "colab_type": "code",
    "executionInfo": {
     "elapsed": 1025,
     "status": "ok",
     "timestamp": 1598287507505,
     "user": {
      "displayName": "Anshika Gupta",
      "photoUrl": "https://lh3.googleusercontent.com/a-/AOh14GhChrf8pG1T6Mo2GB3lrdIxJXQrxnvaa_1vZoIX5g=s64",
      "userId": "06617183061647456136"
     },
     "user_tz": -330
    },
    "id": "cRe_wdOQ9QVz",
    "outputId": "fa0d4da4-0436-42bb-97dd-3c8ae25877a7"
   },
   "outputs": [
    {
     "name": "stdout",
     "output_type": "stream",
     "text": [
      "great\n",
      "great\n",
      "excited\n",
      "excited\n",
      "happy\n",
      "nice\n"
     ]
    }
   ],
   "source": [
    "# store the final answer in this variable\n",
    "number_of_happy_tweets = 0\n",
    "\n",
    "# perform the calculations here\n",
    "for each_word in happy_words:\n",
    "  for each_tweet in tweets:\n",
    "    if each_word in each_tweet:\n",
    "      print(each_word)\n",
    "      number_of_happy_tweets+=1\n",
    "      "
   ]
  },
  {
   "cell_type": "code",
   "execution_count": 60,
   "metadata": {
    "colab": {
     "base_uri": "https://localhost:8080/",
     "height": 34
    },
    "colab_type": "code",
    "executionInfo": {
     "elapsed": 1047,
     "status": "ok",
     "timestamp": 1598287509759,
     "user": {
      "displayName": "Anshika Gupta",
      "photoUrl": "https://lh3.googleusercontent.com/a-/AOh14GhChrf8pG1T6Mo2GB3lrdIxJXQrxnvaa_1vZoIX5g=s64",
      "userId": "06617183061647456136"
     },
     "user_tz": -330
    },
    "id": "uxcXuwdv9QV1",
    "outputId": "782284ac-1e0e-4165-aa55-62650455df9b"
   },
   "outputs": [
    {
     "name": "stdout",
     "output_type": "stream",
     "text": [
      "Number of happy tweets: 6\n"
     ]
    }
   ],
   "source": [
    "print(\"Number of happy tweets:\", number_of_happy_tweets)"
   ]
  },
  {
   "cell_type": "markdown",
   "metadata": {
    "colab_type": "text",
    "id": "-uXfJsFr9QV4"
   },
   "source": [
    "If you are not able to figure out the solution to this problem, you can ask for hints on the community forum: https://jovian.ml/forum/t/assignment-1-python-practice/7761 . Also try adding `print` statements inside your loops to inspect variables and make sure your logic is correct."
   ]
  },
  {
   "cell_type": "markdown",
   "metadata": {
    "colab_type": "text",
    "id": "0ZwmawAO9QV4"
   },
   "source": [
    "**Q: What fraction of the total number of tweets are happy?**\n",
    "\n",
    "For example, if 2 out of 10 tweets are happy, then the answer is `2/10` i.e. `0.2`."
   ]
  },
  {
   "cell_type": "code",
   "execution_count": 61,
   "metadata": {
    "colab": {},
    "colab_type": "code",
    "executionInfo": {
     "elapsed": 1025,
     "status": "ok",
     "timestamp": 1598287571402,
     "user": {
      "displayName": "Anshika Gupta",
      "photoUrl": "https://lh3.googleusercontent.com/a-/AOh14GhChrf8pG1T6Mo2GB3lrdIxJXQrxnvaa_1vZoIX5g=s64",
      "userId": "06617183061647456136"
     },
     "user_tz": -330
    },
    "id": "zL5KtIMA9QV4"
   },
   "outputs": [],
   "source": [
    "happy_fraction = number_of_happy_tweets/number_of_tweets"
   ]
  },
  {
   "cell_type": "code",
   "execution_count": 62,
   "metadata": {
    "colab": {
     "base_uri": "https://localhost:8080/",
     "height": 34
    },
    "colab_type": "code",
    "executionInfo": {
     "elapsed": 1125,
     "status": "ok",
     "timestamp": 1598287575393,
     "user": {
      "displayName": "Anshika Gupta",
      "photoUrl": "https://lh3.googleusercontent.com/a-/AOh14GhChrf8pG1T6Mo2GB3lrdIxJXQrxnvaa_1vZoIX5g=s64",
      "userId": "06617183061647456136"
     },
     "user_tz": -330
    },
    "id": "ya-FYVaU9QV6",
    "outputId": "bb22356d-5ce5-4d93-d4c9-4030978e0288"
   },
   "outputs": [
    {
     "name": "stdout",
     "output_type": "stream",
     "text": [
      "The fraction of happy tweets is: 0.6\n"
     ]
    }
   ],
   "source": [
    "print(\"The fraction of happy tweets is:\", happy_fraction)"
   ]
  },
  {
   "cell_type": "markdown",
   "metadata": {
    "colab_type": "text",
    "id": "JXVQEIkl9QV-"
   },
   "source": [
    "To identify whether a tweet is sad, we can simply check if contains any of the words from `sad_words`.\n",
    "\n",
    "**Q: Determine the number of tweets in the dataset that can be classified as sad.**"
   ]
  },
  {
   "cell_type": "code",
   "execution_count": 63,
   "metadata": {
    "colab": {
     "base_uri": "https://localhost:8080/",
     "height": 50
    },
    "colab_type": "code",
    "executionInfo": {
     "elapsed": 1096,
     "status": "ok",
     "timestamp": 1598287615336,
     "user": {
      "displayName": "Anshika Gupta",
      "photoUrl": "https://lh3.googleusercontent.com/a-/AOh14GhChrf8pG1T6Mo2GB3lrdIxJXQrxnvaa_1vZoIX5g=s64",
      "userId": "06617183061647456136"
     },
     "user_tz": -330
    },
    "id": "C7C3EmyW9QV_",
    "outputId": "62218fe0-6e26-4731-9853-cfb521cf3113"
   },
   "outputs": [
    {
     "name": "stdout",
     "output_type": "stream",
     "text": [
      "sad\n",
      "bad\n"
     ]
    }
   ],
   "source": [
    "# store the final answer in this variable\n",
    "number_of_sad_tweets = 0\n",
    "\n",
    "# perform the calculations here\n",
    "for each_word in sad_words:\n",
    "  for each_tweet in tweets:\n",
    "    if each_word in each_tweet:\n",
    "      print(each_word)\n",
    "      number_of_sad_tweets+=1"
   ]
  },
  {
   "cell_type": "code",
   "execution_count": 64,
   "metadata": {
    "colab": {
     "base_uri": "https://localhost:8080/",
     "height": 34
    },
    "colab_type": "code",
    "executionInfo": {
     "elapsed": 1106,
     "status": "ok",
     "timestamp": 1598287637750,
     "user": {
      "displayName": "Anshika Gupta",
      "photoUrl": "https://lh3.googleusercontent.com/a-/AOh14GhChrf8pG1T6Mo2GB3lrdIxJXQrxnvaa_1vZoIX5g=s64",
      "userId": "06617183061647456136"
     },
     "user_tz": -330
    },
    "id": "k3jFZgyh9QWA",
    "outputId": "6892c279-7ec9-4399-cbe7-8a6f52a7fe65"
   },
   "outputs": [
    {
     "name": "stdout",
     "output_type": "stream",
     "text": [
      "Number of sad tweets: 2\n"
     ]
    }
   ],
   "source": [
    "print(\"Number of sad tweets:\", number_of_sad_tweets)"
   ]
  },
  {
   "cell_type": "markdown",
   "metadata": {
    "colab_type": "text",
    "id": "DtD4iIP_9QWC"
   },
   "source": [
    "**Q: What fraction of the total number of tweets are sad?**"
   ]
  },
  {
   "cell_type": "code",
   "execution_count": 65,
   "metadata": {
    "colab": {},
    "colab_type": "code",
    "executionInfo": {
     "elapsed": 1040,
     "status": "ok",
     "timestamp": 1598287657311,
     "user": {
      "displayName": "Anshika Gupta",
      "photoUrl": "https://lh3.googleusercontent.com/a-/AOh14GhChrf8pG1T6Mo2GB3lrdIxJXQrxnvaa_1vZoIX5g=s64",
      "userId": "06617183061647456136"
     },
     "user_tz": -330
    },
    "id": "1prpanXW9QWD"
   },
   "outputs": [],
   "source": [
    "sad_fraction = number_of_sad_tweets/number_of_tweets"
   ]
  },
  {
   "cell_type": "code",
   "execution_count": 66,
   "metadata": {
    "colab": {
     "base_uri": "https://localhost:8080/",
     "height": 34
    },
    "colab_type": "code",
    "executionInfo": {
     "elapsed": 1300,
     "status": "ok",
     "timestamp": 1598287658421,
     "user": {
      "displayName": "Anshika Gupta",
      "photoUrl": "https://lh3.googleusercontent.com/a-/AOh14GhChrf8pG1T6Mo2GB3lrdIxJXQrxnvaa_1vZoIX5g=s64",
      "userId": "06617183061647456136"
     },
     "user_tz": -330
    },
    "id": "8wTYA1k19QWG",
    "outputId": "0e7067d0-bf1d-4236-8c67-c9609f3a85f4"
   },
   "outputs": [
    {
     "name": "stdout",
     "output_type": "stream",
     "text": [
      "The fraction of sad tweets is: 0.2\n"
     ]
    }
   ],
   "source": [
    "print(\"The fraction of sad tweets is:\", sad_fraction)"
   ]
  },
  {
   "cell_type": "markdown",
   "metadata": {
    "colab_type": "text",
    "id": "f77jRy3J9QWI"
   },
   "source": [
    "The rest of this problem is optional. Let's save your work before continuing."
   ]
  },
  {
   "cell_type": "code",
   "execution_count": 67,
   "metadata": {
    "colab": {
     "base_uri": "https://localhost:8080/",
     "height": 86
    },
    "colab_type": "code",
    "executionInfo": {
     "elapsed": 3196,
     "status": "ok",
     "timestamp": 1598287669912,
     "user": {
      "displayName": "Anshika Gupta",
      "photoUrl": "https://lh3.googleusercontent.com/a-/AOh14GhChrf8pG1T6Mo2GB3lrdIxJXQrxnvaa_1vZoIX5g=s64",
      "userId": "06617183061647456136"
     },
     "user_tz": -330
    },
    "id": "IF_0AQ419QWI",
    "outputId": "3b0a168a-a1e9-4ea9-f4ca-0496ca1fed09"
   },
   "outputs": [
    {
     "name": "stdout",
     "output_type": "stream",
     "text": [
      "[jovian] Detected Colab notebook...\u001b[0m\n",
      "[jovian] Uploading colab notebook to Jovian...\u001b[0m\n",
      "[jovian] Committed successfully! https://jovian.ml/csendranshi/python-practice-assignment\u001b[0m\n"
     ]
    },
    {
     "data": {
      "application/vnd.google.colaboratory.intrinsic+json": {
       "type": "string"
      },
      "text/plain": [
       "'https://jovian.ml/csendranshi/python-practice-assignment'"
      ]
     },
     "execution_count": 67,
     "metadata": {
      "tags": []
     },
     "output_type": "execute_result"
    }
   ],
   "source": [
    "jovian.commit(project=project_name,environment=None)"
   ]
  },
  {
   "cell_type": "markdown",
   "metadata": {
    "colab_type": "text",
    "id": "nqTRvf-N9QWK"
   },
   "source": [
    "Great work, even with some basic analysis, we already know a lot about the sentiment of the tweets given to us. Let us now define a metric called \"sentiment score\", to summarize the overall sentiment of the tweets.\n",
    "\n",
    "**Q (Optional): Calculate the sentiment score, which is defined as the difference betweek the fraction of happy tweets and the fraction of sad tweets.**"
   ]
  },
  {
   "cell_type": "code",
   "execution_count": 68,
   "metadata": {
    "colab": {},
    "colab_type": "code",
    "executionInfo": {
     "elapsed": 999,
     "status": "ok",
     "timestamp": 1598287776550,
     "user": {
      "displayName": "Anshika Gupta",
      "photoUrl": "https://lh3.googleusercontent.com/a-/AOh14GhChrf8pG1T6Mo2GB3lrdIxJXQrxnvaa_1vZoIX5g=s64",
      "userId": "06617183061647456136"
     },
     "user_tz": -330
    },
    "id": "9FJmbc8V9QWK"
   },
   "outputs": [],
   "source": [
    "sentiment_score = happy_fraction-sad_fraction\n"
   ]
  },
  {
   "cell_type": "code",
   "execution_count": 69,
   "metadata": {
    "colab": {
     "base_uri": "https://localhost:8080/",
     "height": 34
    },
    "colab_type": "code",
    "executionInfo": {
     "elapsed": 997,
     "status": "ok",
     "timestamp": 1598287778666,
     "user": {
      "displayName": "Anshika Gupta",
      "photoUrl": "https://lh3.googleusercontent.com/a-/AOh14GhChrf8pG1T6Mo2GB3lrdIxJXQrxnvaa_1vZoIX5g=s64",
      "userId": "06617183061647456136"
     },
     "user_tz": -330
    },
    "id": "1aprp7Jo9QWN",
    "outputId": "a6be7fb1-f288-47a6-c819-69aa008ace61"
   },
   "outputs": [
    {
     "name": "stdout",
     "output_type": "stream",
     "text": [
      "The sentiment score for the given tweets is 0.39999999999999997\n"
     ]
    }
   ],
   "source": [
    "print(\"The sentiment score for the given tweets is\", sentiment_score)"
   ]
  },
  {
   "cell_type": "markdown",
   "metadata": {
    "colab_type": "text",
    "id": "bgvWvMX39QWP"
   },
   "source": [
    "In a real world scenario, we could calculate & record the sentiment score for all the tweets sent out every day. This information can be used to plot a graph and study the trends in the changing sentiment of the world. The following graph was creating using the Python data visualization library `matplotlib`, which we'll cover later in the course.\n",
    "\n",
    "<img src=\"https://i.imgur.com/6CCIwCb.png\" style=\"width:400px\">\n",
    "\n",
    "What does the sentiment score represent? Based on the value of the sentiment score, can you identify if the overall sentiment of the dataset is happy or sad?\n",
    "\n",
    "**Q (Optional): Display whether the overall sentiment of the given dataset of tweets is happy or sad, using the sentiment score.**"
   ]
  },
  {
   "cell_type": "code",
   "execution_count": 70,
   "metadata": {
    "colab": {
     "base_uri": "https://localhost:8080/",
     "height": 34
    },
    "colab_type": "code",
    "executionInfo": {
     "elapsed": 1116,
     "status": "ok",
     "timestamp": 1598288189545,
     "user": {
      "displayName": "Anshika Gupta",
      "photoUrl": "https://lh3.googleusercontent.com/a-/AOh14GhChrf8pG1T6Mo2GB3lrdIxJXQrxnvaa_1vZoIX5g=s64",
      "userId": "06617183061647456136"
     },
     "user_tz": -330
    },
    "id": "c__YR84g9QWP",
    "outputId": "da9e9a97-f697-4cff-d92e-73779d317b1a"
   },
   "outputs": [
    {
     "name": "stdout",
     "output_type": "stream",
     "text": [
      "The overall sentiment is happy\n"
     ]
    }
   ],
   "source": [
    "if sentiment_score>0:\n",
    "    print(\"The overall sentiment is happy\")\n",
    "else:\n",
    "    print(\"The overall sentiment is sad\")"
   ]
  },
  {
   "cell_type": "markdown",
   "metadata": {
    "colab_type": "text",
    "id": "YRSHzT3z9QWR"
   },
   "source": [
    "Finally, it's also important to track how many tweets are neutral i.e. neither happy nor sad. If a large fraction of tweets are marked neutral, maybe we need to improve our lists of happy and sad words. \n",
    "\n",
    "**Q (Optional): What is the fraction of tweets that are neutral i.e. neither happy nor sad.**"
   ]
  },
  {
   "cell_type": "code",
   "execution_count": 73,
   "metadata": {
    "colab": {},
    "colab_type": "code",
    "executionInfo": {
     "elapsed": 1046,
     "status": "ok",
     "timestamp": 1598288282363,
     "user": {
      "displayName": "Anshika Gupta",
      "photoUrl": "https://lh3.googleusercontent.com/a-/AOh14GhChrf8pG1T6Mo2GB3lrdIxJXQrxnvaa_1vZoIX5g=s64",
      "userId": "06617183061647456136"
     },
     "user_tz": -330
    },
    "id": "hEJ3W3JF9QWS"
   },
   "outputs": [],
   "source": [
    "# store the final answer in this variable\n",
    "number_of_neutral_tweets = number_of_tweets-(number_of_happy_tweets + number_of_sad_tweets)\n",
    "\n",
    "# perform the calculation here\n"
   ]
  },
  {
   "cell_type": "code",
   "execution_count": 74,
   "metadata": {
    "colab": {},
    "colab_type": "code",
    "executionInfo": {
     "elapsed": 1082,
     "status": "ok",
     "timestamp": 1598288284515,
     "user": {
      "displayName": "Anshika Gupta",
      "photoUrl": "https://lh3.googleusercontent.com/a-/AOh14GhChrf8pG1T6Mo2GB3lrdIxJXQrxnvaa_1vZoIX5g=s64",
      "userId": "06617183061647456136"
     },
     "user_tz": -330
    },
    "id": "k-Vox_UT9QWU"
   },
   "outputs": [],
   "source": [
    "neutral_fraction = number_of_neutral_tweets/number_of_tweets"
   ]
  },
  {
   "cell_type": "code",
   "execution_count": 75,
   "metadata": {
    "colab": {
     "base_uri": "https://localhost:8080/",
     "height": 34
    },
    "colab_type": "code",
    "executionInfo": {
     "elapsed": 1349,
     "status": "ok",
     "timestamp": 1598288289225,
     "user": {
      "displayName": "Anshika Gupta",
      "photoUrl": "https://lh3.googleusercontent.com/a-/AOh14GhChrf8pG1T6Mo2GB3lrdIxJXQrxnvaa_1vZoIX5g=s64",
      "userId": "06617183061647456136"
     },
     "user_tz": -330
    },
    "id": "qn7tA7HB9QWW",
    "outputId": "4356d684-1e4d-487b-a5de-a8ef0eb1d28f"
   },
   "outputs": [
    {
     "name": "stdout",
     "output_type": "stream",
     "text": [
      "The fraction of neutral tweets is 0.2\n"
     ]
    }
   ],
   "source": [
    "print('The fraction of neutral tweets is', neutral_fraction)"
   ]
  },
  {
   "cell_type": "markdown",
   "metadata": {
    "colab_type": "text",
    "id": "H_xjlVVO9QWY"
   },
   "source": [
    "Ponder upon these questions and try some experiments to hone your skills further:\n",
    "\n",
    "* What are the limitations of our approach? When will it go wrong or give incorrect results?\n",
    "* How can we improve our approach to address the limitations?\n",
    "* What are some other questions you would like to ask, given a list of tweets?\n",
    "* Try collecting some real tweets from your Twitter timeline and repeat this analysis. Do the results make sense?\n",
    "\n",
    "**IMPORTANT NOTE**: If you want to try out these experiments, please create a new notebook using the \"New Notebook\" button on your Jovian.ml profile, to avoid making unintended changes to your assignment submission notebook."
   ]
  },
  {
   "cell_type": "markdown",
   "metadata": {
    "colab_type": "text",
    "id": "e8pqKKSL9QWY"
   },
   "source": [
    "## Submission \n",
    "\n",
    "Congratulations on making it this far! You've reached the end of this assignment, and you just completed your first data analysis problem. It's time to record one final version of your notebook for submission.\n",
    "\n",
    "Make a submission here by filling the submission form: https://jovian.ml/learn/data-analysis-with-python-zero-to-pandas/assignment/assignment-1-python-basics-practice"
   ]
  },
  {
   "cell_type": "code",
   "execution_count": null,
   "metadata": {
    "colab": {},
    "colab_type": "code",
    "id": "QFc9JwNF9QWY",
    "scrolled": false
   },
   "outputs": [],
   "source": [
    "jovian.commit(project=project_name,environment=None)"
   ]
  }
 ],
 "metadata": {
  "colab": {
   "name": "python-practice-assignment.ipynb",
   "provenance": []
  },
  "kernelspec": {
   "display_name": "Python 3",
   "language": "python",
   "name": "python3"
  },
  "language_info": {
   "codemirror_mode": {
    "name": "ipython",
    "version": 3
   },
   "file_extension": ".py",
   "mimetype": "text/x-python",
   "name": "python",
   "nbconvert_exporter": "python",
   "pygments_lexer": "ipython3",
   "version": "3.8.5"
  }
 },
 "nbformat": 4,
 "nbformat_minor": 0
}